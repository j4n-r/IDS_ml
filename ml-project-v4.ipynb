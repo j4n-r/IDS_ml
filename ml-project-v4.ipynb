{
 "cells": [
  {
   "cell_type": "markdown",
   "id": "cfa566fb",
   "metadata": {
    "_cell_guid": "33d91d3f-62fb-432e-ad65-767fa65e955d",
    "_uuid": "532f01fd-0e99-4faf-b679-93c083d3a59c",
    "collapsed": false,
    "jupyter": {
     "outputs_hidden": false
    },
    "papermill": {
     "duration": 0.009945,
     "end_time": "2025-01-16T16:30:46.572670",
     "exception": false,
     "start_time": "2025-01-16T16:30:46.562725",
     "status": "completed"
    },
    "tags": []
   },
   "source": [
    "\n",
    "# NIDS_ML\n",
    "Network Intrussion Detection Sytem using Machine learning\n",
    "\n",
    "Dataset: CIC-IDS2017\n",
    "Group members:\n",
    "\n",
    "### NIDS_ML\n",
    "Network Intrussion Detection Sytem using Machine learning\n",
    "\n",
    "Dataset: CIC-IDS2017\n",
    "Group members:\n",
    "\n",
    "Business Understanding\n",
    "Goal: Classification of network traffic (flows) as malicous or benign\n",
    "\n",
    "In the ever growing world of network infrastructure and internet of things companies have to rely on automatic intrusion detection systems to filter out malicous traffic. Machine learning is arguebly the best tool to provide realtime/near-realtime classification of network traffic.Business Understanding\n",
    "Goal: Clssification of network traffic (flows) as malicous or benign\n",
    "\n",
    "In the ever growing world of network infrastructure and internet of things companies have to rely on automatic intrusion detection systems to filter out malicous traffic. Machine learning is arguebly the best tool to provide realtime/near-realtime classification of network traffic.\n",
    "\n",
    "# Outlook\n",
    "We are doing Multiclass Classification\n",
    "\n",
    "### Planned Procedure\n",
    "1. Choose data sample (everything, shuffled subsample, only one day).\n",
    "2. Get information.\n",
    "3. Remove duplicates.\n",
    "4. Drop `NaN` and `inf` as well as `-inf` values due to small size (~0.05%).\n",
    "5. Strip columns (there are spaces at the end or start).\n",
    "6. Map the categories to broader ones.\n",
    "7. Split data into test and train sets.\n",
    "8. Train Random Forest model.\n",
    "9. Get feature importance from Random Forest.\n",
    "10. Use the most important features for hyperparameter tuning in Random Forest and XGBoost.\n",
    "11. Hyperparameter tuning for xdg and rf\n",
    "12. Evaluate the model.\n",
    "\n",
    "\n",
    "###  TODO \n",
    "- [ ] add citations\n",
    "- [ ] add visualization\n",
    "- [ ] Checkout pdfs for 10, 14, 13, and 12 \n",
    "\n",
    "### Clarifiations \n",
    "We will use the term \"traffic\" or \"network traffic\" for simplicity reasons, in the context of the dataset we mean network flows which were extracted out of network traffic using the [CICFLowMeter](https://github.com/ahlashkari/CICFlowMeter) tool."
   ]
  },
  {
   "cell_type": "markdown",
   "id": "663e9a95",
   "metadata": {
    "_cell_guid": "6a891602-7383-4b46-97c4-143db0efa7b1",
    "_uuid": "b4c8df5b-596f-4f73-9064-01774eaa246e",
    "collapsed": false,
    "jupyter": {
     "outputs_hidden": false
    },
    "papermill": {
     "duration": 0.008633,
     "end_time": "2025-01-16T16:30:46.589986",
     "exception": false,
     "start_time": "2025-01-16T16:30:46.581353",
     "status": "completed"
    },
    "tags": []
   },
   "source": [
    "# General Imports and reading the Dataset\n",
    "First we are importing the most important libraries and the os library to read the files.\n",
    "Numpy and Pandas for scientific computing and matplotlib.pyplot for plots (visualiziation)\n",
    "\n",
    "We are seting the display option to max rows, else the full 78 columns wouldn't be displayed \n",
    "We are reading all the csv files from the dataset into one pandas Dataframe \"df_full\"."
   ]
  },
  {
   "cell_type": "code",
   "execution_count": 1,
   "id": "4c67b8a0",
   "metadata": {
    "_cell_guid": "cf4681d6-153c-4805-9e71-43268632148a",
    "_uuid": "d4132f4a-a25e-4027-af6d-9ef7ad40fbb5",
    "collapsed": false,
    "execution": {
     "iopub.execute_input": "2025-01-16T16:30:46.608478Z",
     "iopub.status.busy": "2025-01-16T16:30:46.608085Z",
     "iopub.status.idle": "2025-01-16T16:30:46.614546Z",
     "shell.execute_reply": "2025-01-16T16:30:46.613385Z"
    },
    "jupyter": {
     "outputs_hidden": false
    },
    "papermill": {
     "duration": 0.0176,
     "end_time": "2025-01-16T16:30:46.616223",
     "exception": false,
     "start_time": "2025-01-16T16:30:46.598623",
     "status": "completed"
    },
    "tags": []
   },
   "outputs": [],
   "source": [
    "# Rose Pine palette: hex values for use in graphs\n",
    "rp = {\n",
    "    \"base\": \"#191724\",\n",
    "    \"surface\": \"#1f1d2e\",\n",
    "    \"overlay\": \"#26233a\",\n",
    "    \"muted\": \"#6e6a86\",\n",
    "    \"subtle\": \"#908caa\",\n",
    "    \"text\": \"#e0def4\",\n",
    "    \"love\": \"#eb6f92\",\n",
    "    \"gold\": \"#f6c177\",\n",
    "    \"rose\": \"#ebbcba\",\n",
    "    \"pine\": \"#31748f\",\n",
    "    \"foam\": \"#9ccfd8\",\n",
    "    \"iris\": \"#c4a7e7\",\n",
    "    \"highlightLow\": \"#21202e\",\n",
    "    \"highlightMed\": \"#403d52\",\n",
    "    \"highlightHigh\": \"#524f67\",\n",
    "}"
   ]
  },
  {
   "cell_type": "code",
   "execution_count": 2,
   "id": "11e10ca7",
   "metadata": {
    "_cell_guid": "1e477d51-d348-4b3d-9781-463ef8c2c7e8",
    "_uuid": "9fe66892-790e-40da-88f2-1e8a74051b38",
    "collapsed": false,
    "execution": {
     "iopub.execute_input": "2025-01-16T16:30:46.633490Z",
     "iopub.status.busy": "2025-01-16T16:30:46.633080Z",
     "iopub.status.idle": "2025-01-16T16:31:21.026716Z",
     "shell.execute_reply": "2025-01-16T16:31:21.025418Z"
    },
    "jupyter": {
     "outputs_hidden": false
    },
    "papermill": {
     "duration": 34.404595,
     "end_time": "2025-01-16T16:31:21.028859",
     "exception": false,
     "start_time": "2025-01-16T16:30:46.624264",
     "status": "completed"
    },
    "tags": []
   },
   "outputs": [
    {
     "name": "stdout",
     "output_type": "stream",
     "text": [
      "/kaggle/input/network-intrusion-dataset/Friday-WorkingHours-Afternoon-PortScan.pcap_ISCX.csv\n",
      "/kaggle/input/network-intrusion-dataset/Thursday-WorkingHours-Morning-WebAttacks.pcap_ISCX.csv\n",
      "/kaggle/input/network-intrusion-dataset/Tuesday-WorkingHours.pcap_ISCX.csv\n",
      "/kaggle/input/network-intrusion-dataset/Friday-WorkingHours-Afternoon-DDos.pcap_ISCX.csv\n",
      "/kaggle/input/network-intrusion-dataset/Monday-WorkingHours.pcap_ISCX.csv\n",
      "/kaggle/input/network-intrusion-dataset/Friday-WorkingHours-Morning.pcap_ISCX.csv\n",
      "/kaggle/input/network-intrusion-dataset/Thursday-WorkingHours-Afternoon-Infilteration.pcap_ISCX.csv\n",
      "/kaggle/input/network-intrusion-dataset/Wednesday-workingHours.pcap_ISCX.csv\n"
     ]
    }
   ],
   "source": [
    "import os\n",
    "import numpy as np\n",
    "import pandas as pd\n",
    "import matplotlib.pyplot as plt\n",
    "\n",
    "# Disply all rows\n",
    "pd.set_option('display.max_rows', None)\n",
    "\n",
    "df_full = pd.DataFrame()\n",
    "\n",
    "for dirname, _, filenames in os.walk(\"/kaggle/input/\"):\n",
    "    for filename in filenames:\n",
    "        file_path = os.path.join(dirname, filename)\n",
    "        print(file_path)\n",
    "        df_full = pd.concat([df_full, pd.read_csv(file_path)], ignore_index=True)"
   ]
  },
  {
   "cell_type": "markdown",
   "id": "74cc2264",
   "metadata": {
    "_cell_guid": "c8034e54-9cf6-4589-9d64-7f6f2d0d3165",
    "_uuid": "858fedc9-c86f-4338-bffe-c46475a2eb89",
    "collapsed": false,
    "jupyter": {
     "outputs_hidden": false
    },
    "papermill": {
     "duration": 0.008048,
     "end_time": "2025-01-16T16:31:21.045485",
     "exception": false,
     "start_time": "2025-01-16T16:31:21.037437",
     "status": "completed"
    },
    "tags": []
   },
   "source": [
    "# Data selection \n",
    "Here are three different options.\n",
    "First option reads only one of the fils into the Dataframe. The second option takes the df_full with all the files, shuffles them and takes the first $n$ values.\n",
    "\n",
    "This is done to reduce the dataset for developing purposes."
   ]
  },
  {
   "cell_type": "code",
   "execution_count": 3,
   "id": "2044ba8c",
   "metadata": {
    "_cell_guid": "6c26a1ec-bceb-40aa-91e4-8fae94282fba",
    "_uuid": "2e7955b0-bfd9-46ac-86ee-15ee73bc2ae6",
    "collapsed": false,
    "execution": {
     "iopub.execute_input": "2025-01-16T16:31:21.070791Z",
     "iopub.status.busy": "2025-01-16T16:31:21.070402Z",
     "iopub.status.idle": "2025-01-16T16:31:21.075364Z",
     "shell.execute_reply": "2025-01-16T16:31:21.074149Z"
    },
    "jupyter": {
     "outputs_hidden": false
    },
    "papermill": {
     "duration": 0.022136,
     "end_time": "2025-01-16T16:31:21.077187",
     "exception": false,
     "start_time": "2025-01-16T16:31:21.055051",
     "status": "completed"
    },
    "tags": []
   },
   "outputs": [],
   "source": [
    "# 1. \n",
    "#df = pd.read_csv(\"/kaggle/input/network-intrusion-dataset/Friday-WorkingHours-Afternoon-PortScan.pcap_ISCX.csv\")\n",
    "#df = pd.concat([df, pd.read_csv(\"/kaggle/input/network-intrusion-dataset/Thursday-WorkingHours-Morning-WebAttacks.pcap_ISCX.csv\")])\n",
    "# 2.\n",
    "#shuffled_df = df_full.sample(frac=1, random_state=40)\n",
    "#df = pd.DataFrame(shuffled_df.head(5000))\n",
    "\n",
    "# 3.\n",
    "df = pd.DataFrame(df_full)"
   ]
  },
  {
   "cell_type": "markdown",
   "id": "c2772456",
   "metadata": {
    "_cell_guid": "c989c107-31cf-42dd-9b50-dc4ee0d9198e",
    "_uuid": "2e3e50a9-d3a2-4608-9a10-e350bcebec92",
    "collapsed": false,
    "jupyter": {
     "outputs_hidden": false
    },
    "papermill": {
     "duration": 0.008189,
     "end_time": "2025-01-16T16:31:21.094553",
     "exception": false,
     "start_time": "2025-01-16T16:31:21.086364",
     "status": "completed"
    },
    "tags": []
   },
   "source": [
    "#  Data info\n",
    "The column names have leading and/or trailing spaces that need to be trimmed.\n",
    "\n",
    "The info shows us the number of entries $n$ in the dataset aswell as the 79 columns with 0-77 being the features and 78 being the labels. \n",
    "When using the whole dataset the number of non-null entries are not displayed but we will address that later.\n",
    "The feature types are all numerical and the lables are Objects (strings)"
   ]
  },
  {
   "cell_type": "code",
   "execution_count": 4,
   "id": "05d94f8d",
   "metadata": {
    "_cell_guid": "9951a01f-f49e-4638-8ef5-d0f27c664945",
    "_uuid": "a3ad2a49-b2cc-46d6-8912-20b86892632b",
    "collapsed": false,
    "execution": {
     "iopub.execute_input": "2025-01-16T16:31:21.113317Z",
     "iopub.status.busy": "2025-01-16T16:31:21.112931Z",
     "iopub.status.idle": "2025-01-16T16:31:21.142948Z",
     "shell.execute_reply": "2025-01-16T16:31:21.140862Z"
    },
    "jupyter": {
     "outputs_hidden": false
    },
    "papermill": {
     "duration": 0.042139,
     "end_time": "2025-01-16T16:31:21.145111",
     "exception": false,
     "start_time": "2025-01-16T16:31:21.102972",
     "status": "completed"
    },
    "tags": []
   },
   "outputs": [
    {
     "name": "stdout",
     "output_type": "stream",
     "text": [
      "<class 'pandas.core.frame.DataFrame'>\n",
      "RangeIndex: 2830743 entries, 0 to 2830742\n",
      "Data columns (total 79 columns):\n",
      " #   Column                       Dtype  \n",
      "---  ------                       -----  \n",
      " 0   Destination Port             int64  \n",
      " 1   Flow Duration                int64  \n",
      " 2   Total Fwd Packets            int64  \n",
      " 3   Total Backward Packets       int64  \n",
      " 4   Total Length of Fwd Packets  int64  \n",
      " 5   Total Length of Bwd Packets  int64  \n",
      " 6   Fwd Packet Length Max        int64  \n",
      " 7   Fwd Packet Length Min        int64  \n",
      " 8   Fwd Packet Length Mean       float64\n",
      " 9   Fwd Packet Length Std        float64\n",
      " 10  Bwd Packet Length Max        int64  \n",
      " 11  Bwd Packet Length Min        int64  \n",
      " 12  Bwd Packet Length Mean       float64\n",
      " 13  Bwd Packet Length Std        float64\n",
      " 14  Flow Bytes/s                 float64\n",
      " 15  Flow Packets/s               float64\n",
      " 16  Flow IAT Mean                float64\n",
      " 17  Flow IAT Std                 float64\n",
      " 18  Flow IAT Max                 int64  \n",
      " 19  Flow IAT Min                 int64  \n",
      " 20  Fwd IAT Total                int64  \n",
      " 21  Fwd IAT Mean                 float64\n",
      " 22  Fwd IAT Std                  float64\n",
      " 23  Fwd IAT Max                  int64  \n",
      " 24  Fwd IAT Min                  int64  \n",
      " 25  Bwd IAT Total                int64  \n",
      " 26  Bwd IAT Mean                 float64\n",
      " 27  Bwd IAT Std                  float64\n",
      " 28  Bwd IAT Max                  int64  \n",
      " 29  Bwd IAT Min                  int64  \n",
      " 30  Fwd PSH Flags                int64  \n",
      " 31  Bwd PSH Flags                int64  \n",
      " 32  Fwd URG Flags                int64  \n",
      " 33  Bwd URG Flags                int64  \n",
      " 34  Fwd Header Length            int64  \n",
      " 35  Bwd Header Length            int64  \n",
      " 36  Fwd Packets/s                float64\n",
      " 37  Bwd Packets/s                float64\n",
      " 38  Min Packet Length            int64  \n",
      " 39  Max Packet Length            int64  \n",
      " 40  Packet Length Mean           float64\n",
      " 41  Packet Length Std            float64\n",
      " 42  Packet Length Variance       float64\n",
      " 43  FIN Flag Count               int64  \n",
      " 44  SYN Flag Count               int64  \n",
      " 45  RST Flag Count               int64  \n",
      " 46  PSH Flag Count               int64  \n",
      " 47  ACK Flag Count               int64  \n",
      " 48  URG Flag Count               int64  \n",
      " 49  CWE Flag Count               int64  \n",
      " 50  ECE Flag Count               int64  \n",
      " 51  Down/Up Ratio                int64  \n",
      " 52  Average Packet Size          float64\n",
      " 53  Avg Fwd Segment Size         float64\n",
      " 54  Avg Bwd Segment Size         float64\n",
      " 55  Fwd Header Length.1          int64  \n",
      " 56  Fwd Avg Bytes/Bulk           int64  \n",
      " 57  Fwd Avg Packets/Bulk         int64  \n",
      " 58  Fwd Avg Bulk Rate            int64  \n",
      " 59  Bwd Avg Bytes/Bulk           int64  \n",
      " 60  Bwd Avg Packets/Bulk         int64  \n",
      " 61  Bwd Avg Bulk Rate            int64  \n",
      " 62  Subflow Fwd Packets          int64  \n",
      " 63  Subflow Fwd Bytes            int64  \n",
      " 64  Subflow Bwd Packets          int64  \n",
      " 65  Subflow Bwd Bytes            int64  \n",
      " 66  Init_Win_bytes_forward       int64  \n",
      " 67  Init_Win_bytes_backward      int64  \n",
      " 68  act_data_pkt_fwd             int64  \n",
      " 69  min_seg_size_forward         int64  \n",
      " 70  Active Mean                  float64\n",
      " 71  Active Std                   float64\n",
      " 72  Active Max                   int64  \n",
      " 73  Active Min                   int64  \n",
      " 74  Idle Mean                    float64\n",
      " 75  Idle Std                     float64\n",
      " 76  Idle Max                     int64  \n",
      " 77  Idle Min                     int64  \n",
      " 78  Label                        object \n",
      "dtypes: float64(24), int64(54), object(1)\n",
      "memory usage: 1.7+ GB\n"
     ]
    }
   ],
   "source": [
    "df.columns = df.columns.str.strip()\n",
    "df.info()"
   ]
  },
  {
   "cell_type": "markdown",
   "id": "ba4c475d",
   "metadata": {
    "_cell_guid": "c2322ad6-2631-4ce3-bb3b-a95e796cb0cc",
    "_uuid": "8e5a4802-c325-4211-856c-892443a8adbf",
    "collapsed": false,
    "jupyter": {
     "outputs_hidden": false
    },
    "papermill": {
     "duration": 0.008737,
     "end_time": "2025-01-16T16:31:21.163384",
     "exception": false,
     "start_time": "2025-01-16T16:31:21.154647",
     "status": "completed"
    },
    "tags": []
   },
   "source": [
    "# Preprocessing\n",
    "The dataset is not fully cleaned up.\n",
    "### Problems: \n",
    "- Infinite and -infitie values\n",
    "- NaN values\n",
    "- Duplicate values\n",
    "\n",
    "None of these values make sense in the context of network flows. That is why we are going to delete all of them before continuing."
   ]
  },
  {
   "cell_type": "code",
   "execution_count": 5,
   "id": "33acb574",
   "metadata": {
    "_cell_guid": "87f09242-a516-4088-bbc2-9c34106bf7f2",
    "_uuid": "372f101f-0dc5-44e9-9053-0ed75343009e",
    "collapsed": false,
    "execution": {
     "iopub.execute_input": "2025-01-16T16:31:21.183661Z",
     "iopub.status.busy": "2025-01-16T16:31:21.183160Z",
     "iopub.status.idle": "2025-01-16T16:31:45.533776Z",
     "shell.execute_reply": "2025-01-16T16:31:45.532171Z"
    },
    "jupyter": {
     "outputs_hidden": false
    },
    "papermill": {
     "duration": 24.362997,
     "end_time": "2025-01-16T16:31:45.535966",
     "exception": false,
     "start_time": "2025-01-16T16:31:21.172969",
     "status": "completed"
    },
    "tags": []
   },
   "outputs": [
    {
     "name": "stdout",
     "output_type": "stream",
     "text": [
      "Columns with infinite values:\n",
      " Flow Bytes/s      1509\n",
      "Flow Packets/s    2867\n",
      "dtype: int64\n",
      "\n",
      "Columns with NaN values:\n",
      " Flow Bytes/s    1358\n",
      "dtype: int64\n",
      "\n",
      "Columns with NaN or infinite values:\n",
      " Flow Bytes/s      2867\n",
      "Flow Packets/s    2867\n",
      "dtype: int64\n",
      "\n",
      "Number of duplicate rows: 308381\n"
     ]
    }
   ],
   "source": [
    "# Check for infinite values\n",
    "is_inf = df.isin([np.inf, -np.inf])\n",
    "\n",
    "# Count infinite values per column\n",
    "inf_counts = is_inf.sum()\n",
    "\n",
    "# Filter to show only columns with infinite values\n",
    "columns_with_inf = inf_counts[inf_counts > 0]\n",
    "print(\"Columns with infinite values:\\n\",columns_with_inf)\n",
    "\n",
    "# Check for NaN values\n",
    "nan_counts = df.isnull().sum()\n",
    "\n",
    "# Filter to show only columns with NaN values\n",
    "columns_with_nan = nan_counts[nan_counts > 0]\n",
    "print(\"\\nColumns with NaN values:\\n\", columns_with_nan)\n",
    "\n",
    "# Sum NaN and inf counts for each column\n",
    "combined_counts = nan_counts + inf_counts\n",
    "\n",
    "# Filter to show only columns with any NaN or inf values\n",
    "columns_with_nan_or_inf = combined_counts[combined_counts > 0]\n",
    "print(\"\\nColumns with NaN or infinite values:\\n\", columns_with_nan_or_inf)\n",
    "\n",
    "# Check for duplicate rows\n",
    "duplicate_rows_count = df.duplicated().sum()\n",
    "print(\"\\nNumber of duplicate rows:\", duplicate_rows_count)"
   ]
  },
  {
   "cell_type": "code",
   "execution_count": 6,
   "id": "e2e1a563",
   "metadata": {
    "_cell_guid": "4bd982fd-3ec2-4585-abb2-50fede193e16",
    "_uuid": "0452b4ad-7f77-4a44-b66d-4adc67057459",
    "collapsed": false,
    "execution": {
     "iopub.execute_input": "2025-01-16T16:31:45.555626Z",
     "iopub.status.busy": "2025-01-16T16:31:45.555189Z",
     "iopub.status.idle": "2025-01-16T16:32:22.139191Z",
     "shell.execute_reply": "2025-01-16T16:32:22.136932Z"
    },
    "jupyter": {
     "outputs_hidden": false
    },
    "papermill": {
     "duration": 36.598417,
     "end_time": "2025-01-16T16:32:22.143820",
     "exception": false,
     "start_time": "2025-01-16T16:31:45.545403",
     "status": "completed"
    },
    "tags": []
   },
   "outputs": [],
   "source": [
    "# First reeplace inf and -inf with NaN so we can delete them all in one step\n",
    "df.replace([np.inf, -np.inf], np.nan, inplace=True)\n",
    "\n",
    "# Drop rows with NaN values\n",
    "df.dropna(inplace=True)\n",
    "\n",
    "# Drop duplicate rows\n",
    "df.drop_duplicates(inplace=True)"
   ]
  },
  {
   "cell_type": "code",
   "execution_count": 7,
   "id": "64e8bd71",
   "metadata": {
    "_cell_guid": "1353a0ff-f2f1-49e2-acfd-685cefc0454a",
    "_uuid": "b8557984-1f06-4db8-8b2f-22a956f11b8d",
    "collapsed": false,
    "execution": {
     "iopub.execute_input": "2025-01-16T16:32:22.167756Z",
     "iopub.status.busy": "2025-01-16T16:32:22.167184Z",
     "iopub.status.idle": "2025-01-16T16:32:23.125127Z",
     "shell.execute_reply": "2025-01-16T16:32:23.123829Z"
    },
    "jupyter": {
     "outputs_hidden": false
    },
    "papermill": {
     "duration": 0.970949,
     "end_time": "2025-01-16T16:32:23.127380",
     "exception": false,
     "start_time": "2025-01-16T16:32:22.156431",
     "status": "completed"
    },
    "tags": []
   },
   "outputs": [],
   "source": [
    "# Next we are splitting the dataset into to the features (X) and the Labels (y). \n",
    "X = df.drop(columns=['Label'])\n",
    "y = df['Label']"
   ]
  },
  {
   "cell_type": "code",
   "execution_count": 8,
   "id": "e4859a23",
   "metadata": {
    "_cell_guid": "bbbb28b0-5785-4fe9-b2b8-f9cb8aee039c",
    "_uuid": "37aae42f-bebe-43f4-a985-1ffa34be49e8",
    "collapsed": false,
    "execution": {
     "iopub.execute_input": "2025-01-16T16:32:23.146878Z",
     "iopub.status.busy": "2025-01-16T16:32:23.146427Z",
     "iopub.status.idle": "2025-01-16T16:32:23.264904Z",
     "shell.execute_reply": "2025-01-16T16:32:23.263325Z"
    },
    "jupyter": {
     "outputs_hidden": false
    },
    "papermill": {
     "duration": 0.130815,
     "end_time": "2025-01-16T16:32:23.267000",
     "exception": false,
     "start_time": "2025-01-16T16:32:23.136185",
     "status": "completed"
    },
    "tags": []
   },
   "outputs": [
    {
     "name": "stdout",
     "output_type": "stream",
     "text": [
      "['BENIGN' 'PortScan' 'Web Attack � Brute Force' 'Web Attack � XSS'\n",
      " 'Web Attack � Sql Injection' 'FTP-Patator' 'SSH-Patator' 'DDoS' 'Bot'\n",
      " 'Infiltration' 'DoS slowloris' 'DoS Slowhttptest' 'DoS Hulk'\n",
      " 'DoS GoldenEye' 'Heartbleed']\n"
     ]
    }
   ],
   "source": [
    "# Print all unique label names\n",
    "print(y.unique())"
   ]
  },
  {
   "cell_type": "markdown",
   "id": "1717ff72",
   "metadata": {
    "_cell_guid": "c0aa2c55-99ea-4b91-9a47-1d84df26bf2f",
    "_uuid": "891add5e-4d9a-4e06-94a8-9c2fc10cfd0d",
    "collapsed": false,
    "jupyter": {
     "outputs_hidden": false
    },
    "papermill": {
     "duration": 0.008294,
     "end_time": "2025-01-16T16:32:23.284511",
     "exception": false,
     "start_time": "2025-01-16T16:32:23.276217",
     "status": "completed"
    },
    "tags": []
   },
   "source": [
    "We can see that we have 11 different labels as categories.\n",
    "In our use case, it is not in our interest to know which kind of tool was used for the attack; we only care about whether an attack is happening and what kind of attack it is.\n",
    "If we were interested in which tool was used, we can still analyze the network logs at a later point.\n",
    "For now, we will choose broader categories:\n",
    "\n",
    "**\"BENIGN\"**: Normal network flows. These represent legitimate traffic with no signs of malicious activity.\\\n",
    "**\"BOTNET\"**: Botnet flows. These involve traffic generated by a group of compromised devices controlled by a malicious actor to perform coordinated attacks. \\\n",
    "**\"DOS\"**: Flows that are part of Denial of Service (DoS) attacks. These are intended to overwhelm a network or service, making it unavailable to legitimate users.\\\n",
    "**\"BRUTE_FORCE\"**: Bruteforce flows. This includes attempts to gain unauthorized access by systematically trying multiple combinations of credentials or keys.\\\n",
    "**\"EXPLOITATION\"**: Flows involving the exploitation of vulnerabilities, such as the Heartbleed attack, where weaknesses in software or systems are used to gain unauthorized access or information.\\\n",
    "due to problmes with XGB Boost and having categories with few labels, theses were relabled to WEB_ATTACK\n",
    "**\"INFILTRATION\"**: Flows related to infiltration attacks, where an attacker successfully bypasses defenses and gains access to a network or system for further malicious actions.\\\n",
    "**\"RECONNAISSANCE\"**: Flows involving reconnaissance activities, such as PortScan attacks, where the attacker is probing the network to gather information about potential vulnerabilities or open ports.\\\n",
    "**\"WEB_ATTACK\"**: Flows involving web-based attacks, such as Brute Force, SQL Injection, and Cross-Site Scripting (XSS).\n",
    "\n",
    "These are targeted at web applications to steal data, gain unauthorized access, or inject malicious scripts.\n",
    "By categorizing our data into these broader attack types, we can focus on the type of attack rather than the specific tools or methods used, allowing us to detect and respond to malicious activities more effectively."
   ]
  },
  {
   "cell_type": "code",
   "execution_count": 9,
   "id": "c40788ee",
   "metadata": {
    "_cell_guid": "115af761-604b-451e-9261-21bc5a752bfe",
    "_uuid": "76867af9-8f06-4a98-9ded-0688d6b560d2",
    "collapsed": false,
    "execution": {
     "iopub.execute_input": "2025-01-16T16:32:23.303296Z",
     "iopub.status.busy": "2025-01-16T16:32:23.302926Z",
     "iopub.status.idle": "2025-01-16T16:32:23.570367Z",
     "shell.execute_reply": "2025-01-16T16:32:23.568657Z"
    },
    "jupyter": {
     "outputs_hidden": false
    },
    "papermill": {
     "duration": 0.279433,
     "end_time": "2025-01-16T16:32:23.572638",
     "exception": false,
     "start_time": "2025-01-16T16:32:23.293205",
     "status": "completed"
    },
    "tags": []
   },
   "outputs": [
    {
     "name": "stdout",
     "output_type": "stream",
     "text": [
      "['BENIGN' 'RECONNAISSANCE' 'WEB_ATTACK' 'BRUTE_FORCE' 'DOS' 'BOTNET']\n"
     ]
    }
   ],
   "source": [
    "category_mapping = {\n",
    "    'BENIGN': 'BENIGN',\n",
    "    'Bot': 'BOTNET',\n",
    "    'DDoS': 'DOS',\n",
    "    'DoS GoldenEye': 'DOS',\n",
    "    'DoS Hulk': 'DOS',\n",
    "    'DoS Slowhttptest': 'DOS',\n",
    "    'DoS slowloris': 'DOS',\n",
    "    'FTP-Patator': 'BRUTE_FORCE',\n",
    "    'SSH-Patator': 'BRUTE_FORCE',\n",
    "    'Heartbleed': 'WEB_ATTACK',\n",
    "    'Infiltration': 'WEB_ATTACK',\n",
    "    'PortScan': 'RECONNAISSANCE',\n",
    "    'Web Attack � Brute Force': 'WEB_ATTACK',\n",
    "    'Web Attack � Sql Injection': 'WEB_ATTACK',\n",
    "    'Web Attack � XSS': 'WEB_ATTACK'\n",
    "}\n",
    "\n",
    "y = y.map(category_mapping)\n",
    "print(y.unique())"
   ]
  },
  {
   "cell_type": "code",
   "execution_count": 10,
   "id": "1281c88c",
   "metadata": {
    "_cell_guid": "3e3961e6-76ab-4b30-a2e9-1ca53908537e",
    "_uuid": "a1bcc1f9-8532-4d4f-8184-701775cd881b",
    "collapsed": false,
    "execution": {
     "iopub.execute_input": "2025-01-16T16:32:23.592710Z",
     "iopub.status.busy": "2025-01-16T16:32:23.592310Z",
     "iopub.status.idle": "2025-01-16T16:32:29.713127Z",
     "shell.execute_reply": "2025-01-16T16:32:29.711706Z"
    },
    "jupyter": {
     "outputs_hidden": false
    },
    "papermill": {
     "duration": 6.133329,
     "end_time": "2025-01-16T16:32:29.715408",
     "exception": false,
     "start_time": "2025-01-16T16:32:23.582079",
     "status": "completed"
    },
    "tags": []
   },
   "outputs": [],
   "source": [
    "from sklearn.model_selection import train_test_split\n",
    "\n",
    "# Splitting the features and Labels into train and test data using a 60/40 split\n",
    "X_train, X_test, y_train, y_test = train_test_split(X, y, test_size=0.4, random_state=42)"
   ]
  },
  {
   "cell_type": "code",
   "execution_count": 11,
   "id": "6ae0c1ab",
   "metadata": {
    "_cell_guid": "3b59b2ab-d3bd-4259-af85-885e943727ae",
    "_uuid": "c3bbb426-9b65-488d-b0b7-614da0fc539a",
    "collapsed": false,
    "execution": {
     "iopub.execute_input": "2025-01-16T16:32:29.735226Z",
     "iopub.status.busy": "2025-01-16T16:32:29.734460Z",
     "iopub.status.idle": "2025-01-16T16:32:30.615932Z",
     "shell.execute_reply": "2025-01-16T16:32:30.614515Z"
    },
    "jupyter": {
     "outputs_hidden": false
    },
    "papermill": {
     "duration": 0.893667,
     "end_time": "2025-01-16T16:32:30.618327",
     "exception": false,
     "start_time": "2025-01-16T16:32:29.724660",
     "status": "completed"
    },
    "tags": []
   },
   "outputs": [
    {
     "data": {
      "image/png": "[encoded data removed]",
      "text/plain": [
       "<Figure size 1800x800 with 2 Axes>"
      ]
     },
     "metadata": {},
     "output_type": "display_data"
    }
   ],
   "source": [
    "import matplotlib.pyplot as plt\n",
    "\n",
    "# Analyze label distributions\n",
    "train_label_distribution = y_train.value_counts()\n",
    "test_label_distribution  = y_test.value_counts()\n",
    "\n",
    "# Prepare x and y for training set\n",
    "train_x_coords = train_label_distribution.index\n",
    "train_y_coords = train_label_distribution.values\n",
    "\n",
    "# Prepare x and y for test set\n",
    "test_x_coords = test_label_distribution.index\n",
    "test_y_coords = test_label_distribution.values\n",
    "\n",
    "# Create subplots: 1 row, 2 columns\n",
    "fig, (ax_train, ax_test) = plt.subplots(nrows=1, ncols=2, figsize=(18, 8))\n",
    "\n",
    "# -----------------------------------\n",
    "# Plot Training Set Distribution\n",
    "# -----------------------------------\n",
    "ax_train.barh(\n",
    "    train_x_coords,\n",
    "    train_y_coords,\n",
    "    color=rp[\"iris\"],      # Replace rp.iris with your preferred color or list of colors\n",
    "    edgecolor=rp[\"base\"]   # Same here if you have custom edges or replace with, for example, 'black'\n",
    ")\n",
    "# Add text at the end of each bar\n",
    "for i, value in enumerate(train_y_coords):\n",
    "    ax_train.text(\n",
    "        value, \n",
    "        i, \n",
    "        f\" {value:,}\",\n",
    "        va=\"center\", \n",
    "        fontsize=10, \n",
    "        color=\"black\"\n",
    "    )\n",
    "\n",
    "# Add chart details\n",
    "ax_train.set_title(\n",
    "    \"Distribution of Network Activity in Training Set 60% (CICIDS2017)\", \n",
    "    fontsize=16\n",
    ")\n",
    "ax_train.set_xlabel(\"Number of Instances\", fontsize=12)\n",
    "ax_train.set_ylabel(\"Network Activity Label\", fontsize=12)\n",
    "\n",
    "# Adjust x-tick limits and format labels (Training)\n",
    "train_max = max(train_y_coords)\n",
    "ax_train.set_xticks(\n",
    "    range(0, train_max + 50_000, 100_000)\n",
    ")\n",
    "ax_train.set_xticklabels(\n",
    "    [f\"{x:,}\" for x in range(0, train_max + 50_000, 100_000)],\n",
    "    fontsize=10\n",
    ")\n",
    "\n",
    "# -----------------------------------\n",
    "# Plot Test Set Distribution\n",
    "# -----------------------------------\n",
    "ax_test.barh(\n",
    "    test_x_coords,\n",
    "    test_y_coords,\n",
    "    color=rp[\"iris\"],      \n",
    "    edgecolor=rp[\"base\"]  \n",
    ")\n",
    "# Add text at the end of each bar\n",
    "for i, value in enumerate(test_y_coords):\n",
    "    ax_test.text(\n",
    "        value, \n",
    "        i, \n",
    "        f\" {value:,}\",\n",
    "        va=\"center\", \n",
    "        fontsize=10, \n",
    "        color=\"black\"\n",
    "    )\n",
    "\n",
    "# Add chart details\n",
    "ax_test.set_title(\n",
    "    \"Distribution of Network Activity in Test Set 40% (CICIDS2017)\", \n",
    "    fontsize=16\n",
    ")\n",
    "ax_test.set_xlabel(\"Number of Instances\", fontsize=12)\n",
    "ax_test.set_ylabel(\"Network Activity Label\", fontsize=12)\n",
    "\n",
    "# Adjust x-tick limits and format labels (Test)\n",
    "test_max = max(test_y_coords)\n",
    "ax_test.set_xticks(\n",
    "    range(0, test_max + 50_000, 100_000)\n",
    ")\n",
    "ax_test.set_xticklabels(\n",
    "    [f\"{x:,}\" for x in range(0, test_max + 50_000, 100_000)],\n",
    "    fontsize=10\n",
    ")\n",
    "\n",
    "# Overall layout\n",
    "plt.tight_layout()\n",
    "plt.show()"
   ]
  },
  {
   "cell_type": "markdown",
   "id": "a0637adb",
   "metadata": {
    "_cell_guid": "01f50930-ca1c-4251-8460-bbb417a7339e",
    "_uuid": "386a90d2-f85f-4532-a10a-c11e125def6e",
    "collapsed": false,
    "jupyter": {
     "outputs_hidden": false
    },
    "papermill": {
     "duration": 0.011385,
     "end_time": "2025-01-16T16:32:30.640689",
     "exception": false,
     "start_time": "2025-01-16T16:32:30.629304",
     "status": "completed"
    },
    "tags": []
   },
   "source": [
    "# Training/Feature selection\n",
    "To reduce the computation time we will first train a model without hyperparameter tuning and extract the most relevant features. This will reduce the dataset complexity for the hyperparemeter tuning. This idea is based on the finding of Kurniabudi et al, 2020 that the accuracy will not increase when using more the 22 feeatures and also the increase in completion time when using more features. \n",
    "\n",
    "The random forest classifier was choosen based on the performance described in Kurniabudi et al., “CICIDS-2017 Dataset Feature Analysis With Information Gain for Anomaly Detection.”\n",
    "The default 100 estimators were halfed to 50 estimators the reduce computation time."
   ]
  },
  {
   "cell_type": "code",
   "execution_count": 12,
   "id": "2bc3a6e2",
   "metadata": {
    "_cell_guid": "1876c865-ee20-48ce-814c-8baf54060cb5",
    "_uuid": "bde851ff-8d85-4335-bf18-291ce933a924",
    "collapsed": false,
    "execution": {
     "iopub.execute_input": "2025-01-16T16:32:30.664055Z",
     "iopub.status.busy": "2025-01-16T16:32:30.663638Z",
     "iopub.status.idle": "2025-01-16T16:42:58.910558Z",
     "shell.execute_reply": "2025-01-16T16:42:58.908867Z"
    },
    "jupyter": {
     "outputs_hidden": false
    },
    "papermill": {
     "duration": 628.26249,
     "end_time": "2025-01-16T16:42:58.913986",
     "exception": false,
     "start_time": "2025-01-16T16:32:30.651496",
     "status": "completed"
    },
    "tags": []
   },
   "outputs": [],
   "source": [
    "from sklearn.ensemble import RandomForestClassifier\n",
    "from sklearn.pipeline import Pipeline\n",
    "\n",
    "rf = RandomForestClassifier(n_estimators=50, random_state=42)\n",
    "rf.fit(X_train, y_train)\n",
    "y_pred = rf.predict(X_test)"
   ]
  },
  {
   "cell_type": "markdown",
   "id": "66b131a9",
   "metadata": {
    "_cell_guid": "7f44b07f-2cec-47c6-873b-36419f15e0f0",
    "_uuid": "df443fce-334b-406c-9284-0923f15a96ac",
    "collapsed": false,
    "jupyter": {
     "outputs_hidden": false
    },
    "papermill": {
     "duration": 0.010602,
     "end_time": "2025-01-16T16:42:58.937486",
     "exception": false,
     "start_time": "2025-01-16T16:42:58.926884",
     "status": "completed"
    },
    "tags": []
   },
   "source": [
    "TODO when using the whole dataset"
   ]
  },
  {
   "cell_type": "code",
   "execution_count": 13,
   "id": "eb9916dc",
   "metadata": {
    "_cell_guid": "06c0f24f-f654-41fc-ae1d-fdc95bd2e7ff",
    "_uuid": "f09d9c2b-6b93-4a59-9922-ad39a89030bf",
    "collapsed": false,
    "execution": {
     "iopub.execute_input": "2025-01-16T16:42:58.960638Z",
     "iopub.status.busy": "2025-01-16T16:42:58.960182Z",
     "iopub.status.idle": "2025-01-16T16:44:18.661428Z",
     "shell.execute_reply": "2025-01-16T16:44:18.660358Z"
    },
    "jupyter": {
     "outputs_hidden": false
    },
    "papermill": {
     "duration": 79.715501,
     "end_time": "2025-01-16T16:44:18.663686",
     "exception": false,
     "start_time": "2025-01-16T16:42:58.948185",
     "status": "completed"
    },
    "tags": []
   },
   "outputs": [
    {
     "name": "stdout",
     "output_type": "stream",
     "text": [
      "                precision    recall  f1-score   support\n",
      "\n",
      "        BENIGN     0.9989    0.9992    0.9991    837530\n",
      "        BOTNET     0.8610    0.7520    0.8028       766\n",
      "   BRUTE_FORCE     0.9997    0.9986    0.9992      3657\n",
      "           DOS     0.9988    0.9978    0.9983    129130\n",
      "RECONNAISSANCE     0.9886    0.9881    0.9883     36361\n",
      "    WEB_ATTACK     0.9894    0.9589    0.9739       876\n",
      "\n",
      "      accuracy                         0.9984   1008320\n",
      "     macro avg     0.9727    0.9491    0.9603   1008320\n",
      "  weighted avg     0.9984    0.9984    0.9984   1008320\n",
      "\n"
     ]
    }
   ],
   "source": [
    "from sklearn.metrics import classification_report\n",
    "\n",
    "print(classification_report(y_test, y_pred, digits=4))\n",
    "rf_all_report = classification_report(y_test, y_pred, digits=4, output_dict=True)"
   ]
  },
  {
   "cell_type": "code",
   "execution_count": 14,
   "id": "077c02eb",
   "metadata": {
    "_cell_guid": "15c44bed-1fd8-4f01-a738-9ca004ab00b2",
    "_uuid": "f98a9783-a437-483b-a458-66a147072429",
    "collapsed": false,
    "execution": {
     "iopub.execute_input": "2025-01-16T16:44:18.687320Z",
     "iopub.status.busy": "2025-01-16T16:44:18.686953Z",
     "iopub.status.idle": "2025-01-16T16:44:19.132110Z",
     "shell.execute_reply": "2025-01-16T16:44:19.130381Z"
    },
    "jupyter": {
     "outputs_hidden": false
    },
    "papermill": {
     "duration": 0.459079,
     "end_time": "2025-01-16T16:44:19.134097",
     "exception": false,
     "start_time": "2025-01-16T16:44:18.675018",
     "status": "completed"
    },
    "tags": []
   },
   "outputs": [
    {
     "data": {
      "image/png": "[encoded data removed]",
      "text/plain": [
       "<Figure size 1500x1000 with 1 Axes>"
      ]
     },
     "metadata": {},
     "output_type": "display_data"
    },
    {
     "name": "stdout",
     "output_type": "stream",
     "text": [
      "\n",
      "Top 22 Most Important Features:\n",
      "                    feature  importance\n",
      "     Packet Length Variance    0.084391\n",
      "          Max Packet Length    0.082556\n",
      "          Packet Length Std    0.080508\n",
      "       Avg Bwd Segment Size    0.074671\n",
      "      Bwd Packet Length Max    0.055014\n",
      "Total Length of Bwd Packets    0.046863\n",
      "      Bwd Packet Length Std    0.034578\n",
      "          Total Fwd Packets    0.032108\n",
      "        Average Packet Size    0.031503\n",
      "     Bwd Packet Length Mean    0.028342\n",
      "        Subflow Fwd Packets    0.028195\n",
      "             PSH Flag Count    0.021686\n",
      "           Destination Port    0.020067\n",
      "Total Length of Fwd Packets    0.018844\n",
      "         Packet Length Mean    0.018311\n",
      "                Fwd IAT Max    0.017435\n",
      "          Subflow Fwd Bytes    0.017151\n",
      "          Fwd Header Length    0.014668\n",
      "      Fwd Packet Length Max    0.014665\n",
      "              Bwd Packets/s    0.014502\n",
      "          Bwd Header Length    0.012724\n",
      "               Fwd IAT Mean    0.012687\n"
     ]
    }
   ],
   "source": [
    "# Adjust here the number of features\n",
    "num_of_features = 22\n",
    "\n",
    "# get the feature importances from the model\n",
    "importances = rf.feature_importances_\n",
    "feature_names = X.columns\n",
    "\n",
    "# contruct featuere importance dataframe and sort it descending\n",
    "feature_importance = pd.DataFrame({\n",
    "    'feature': feature_names,\n",
    "    'importance': importances\n",
    "}).sort_values('importance', ascending=False)\n",
    "\n",
    "# Create plot\n",
    "plt.figure(figsize=(15, 10))\n",
    "plt.bar(range(num_of_features), feature_importance['importance'][:num_of_features])\n",
    "plt.xticks(range(num_of_features), feature_importance['feature'][:num_of_features], rotation=45, ha='right')\n",
    "plt.xlabel('Features')\n",
    "plt.ylabel('Importance Score')\n",
    "plt.title(f'Top {num_of_features} Most Important Features')\n",
    "plt.tight_layout()\n",
    "plt.show()\n",
    "\n",
    "print(f\"\\nTop {num_of_features} Most Important Features:\")\n",
    "print(feature_importance.head(num_of_features).to_string(index=False))"
   ]
  },
  {
   "cell_type": "markdown",
   "id": "34803745",
   "metadata": {
    "_cell_guid": "f1f7746a-a567-47b6-9de5-8cf5209e0270",
    "_uuid": "b2dbdc5c-52c3-4418-9462-b78dca9d1d0a",
    "collapsed": false,
    "jupyter": {
     "outputs_hidden": false
    },
    "papermill": {
     "duration": 0.012474,
     "end_time": "2025-01-16T16:44:19.160009",
     "exception": false,
     "start_time": "2025-01-16T16:44:19.147535",
     "status": "completed"
    },
    "tags": []
   },
   "source": [
    "The feature importances are pretty similiar to Kurniabudi et al., 2020 but differences are possibly due to slighty different calculation methods.  Sci kitlearn uses feature importance based on mean decrease in impurity and Kurniabudi et al., 2020 uses informtion gain. \n",
    "In addition in Kurniabudi et al., 2020 were only 20% of the dataset used which can lead to differences"
   ]
  },
  {
   "cell_type": "code",
   "execution_count": 15,
   "id": "b38f3e4e",
   "metadata": {
    "_cell_guid": "83be0bd4-3469-43e3-b07e-9d2636dbcec2",
    "_uuid": "997576b3-feba-46ce-ba15-2bace66508fa",
    "collapsed": false,
    "execution": {
     "iopub.execute_input": "2025-01-16T16:44:19.187820Z",
     "iopub.status.busy": "2025-01-16T16:44:19.187341Z",
     "iopub.status.idle": "2025-01-16T16:44:19.476620Z",
     "shell.execute_reply": "2025-01-16T16:44:19.474675Z"
    },
    "jupyter": {
     "outputs_hidden": false
    },
    "papermill": {
     "duration": 0.306017,
     "end_time": "2025-01-16T16:44:19.478952",
     "exception": false,
     "start_time": "2025-01-16T16:44:19.172935",
     "status": "completed"
    },
    "tags": []
   },
   "outputs": [],
   "source": [
    "# Get top features based on importance\n",
    "top_features = feature_importance['feature'][:num_of_features]\n",
    "\n",
    "# Filter the original DataFrame to retain only the top features\n",
    "X_top = X[top_features] \n",
    "\n",
    "# not needed but for naming purposes  \n",
    "y_top = y"
   ]
  },
  {
   "cell_type": "code",
   "execution_count": 16,
   "id": "765ed3ba",
   "metadata": {
    "_cell_guid": "2950fee1-77db-4fa3-aaa9-443b3366cb7e",
    "_uuid": "b6864b97-966f-4cb8-8fe6-8b954ff357b1",
    "collapsed": false,
    "execution": {
     "iopub.execute_input": "2025-01-16T16:44:19.506665Z",
     "iopub.status.busy": "2025-01-16T16:44:19.506232Z",
     "iopub.status.idle": "2025-01-16T16:44:20.692526Z",
     "shell.execute_reply": "2025-01-16T16:44:20.691365Z"
    },
    "jupyter": {
     "outputs_hidden": false
    },
    "papermill": {
     "duration": 1.202329,
     "end_time": "2025-01-16T16:44:20.694691",
     "exception": false,
     "start_time": "2025-01-16T16:44:19.492362",
     "status": "completed"
    },
    "tags": []
   },
   "outputs": [],
   "source": [
    "# make new train test splits only using the top features\n",
    "X_train_top, X_test_top, y_train_top, y_test_top = train_test_split(X_top, y_top, test_size=0.3, random_state=42)"
   ]
  },
  {
   "cell_type": "markdown",
   "id": "6e15d6c0",
   "metadata": {
    "_cell_guid": "01cb134a-ad5b-4635-bbc6-90ce35053164",
    "_uuid": "d0583a73-9c8a-4eeb-9532-5bbb6136ed5e",
    "collapsed": false,
    "jupyter": {
     "outputs_hidden": false
    },
    "papermill": {
     "duration": 0.012651,
     "end_time": "2025-01-16T16:44:20.720464",
     "exception": false,
     "start_time": "2025-01-16T16:44:20.707813",
     "status": "completed"
    },
    "tags": []
   },
   "source": [
    "TODO \n",
    "Check differences to rf with all features"
   ]
  },
  {
   "cell_type": "code",
   "execution_count": 17,
   "id": "020a9482",
   "metadata": {
    "_cell_guid": "3f61e36d-537d-4790-ae39-81560c7e9d92",
    "_uuid": "cdc7d762-3d78-4995-9640-40339d40ae07",
    "collapsed": false,
    "execution": {
     "iopub.execute_input": "2025-01-16T16:44:20.748124Z",
     "iopub.status.busy": "2025-01-16T16:44:20.747780Z",
     "iopub.status.idle": "2025-01-16T16:53:00.272862Z",
     "shell.execute_reply": "2025-01-16T16:53:00.271335Z"
    },
    "jupyter": {
     "outputs_hidden": false
    },
    "papermill": {
     "duration": 519.54194,
     "end_time": "2025-01-16T16:53:00.275752",
     "exception": false,
     "start_time": "2025-01-16T16:44:20.733812",
     "status": "completed"
    },
    "tags": []
   },
   "outputs": [
    {
     "name": "stdout",
     "output_type": "stream",
     "text": [
      "                precision    recall  f1-score   support\n",
      "\n",
      "        BENIGN     0.9985    0.9988    0.9987    628081\n",
      "        BOTNET     0.7108    0.5590    0.6259       576\n",
      "   BRUTE_FORCE     0.9920    0.9902    0.9911      2769\n",
      "           DOS     0.9971    0.9960    0.9965     96787\n",
      "RECONNAISSANCE     0.9891    0.9909    0.9900     27358\n",
      "    WEB_ATTACK     0.9646    0.9372    0.9507       669\n",
      "\n",
      "      accuracy                         0.9978    756240\n",
      "     macro avg     0.9420    0.9120    0.9255    756240\n",
      "  weighted avg     0.9977    0.9978    0.9977    756240\n",
      "\n"
     ]
    }
   ],
   "source": [
    "rf_top = RandomForestClassifier(n_estimators=50, random_state=42)\n",
    "rf_top.fit(X_train_top, y_train_top)\n",
    "y_pred_top = rf_top.predict(X_test_top)\n",
    "print(classification_report(y_test_top, y_pred_top, digits=4))\n",
    "rf_top_report = classification_report(y_test_top, y_pred_top, digits=4,output_dict=True)"
   ]
  },
  {
   "cell_type": "code",
   "execution_count": 18,
   "id": "2073c0ca",
   "metadata": {
    "_cell_guid": "45ea6388-6d72-42eb-9b62-7f48d75b2082",
    "_uuid": "c3343782-f102-4f6e-a641-7c4c96d40408",
    "collapsed": false,
    "execution": {
     "iopub.execute_input": "2025-01-16T16:53:00.307092Z",
     "iopub.status.busy": "2025-01-16T16:53:00.306684Z",
     "iopub.status.idle": "2025-01-16T19:56:19.717153Z",
     "shell.execute_reply": "2025-01-16T19:56:19.714943Z"
    },
    "jupyter": {
     "outputs_hidden": false
    },
    "papermill": {
     "duration": 10999.471953,
     "end_time": "2025-01-16T19:56:19.762756",
     "exception": false,
     "start_time": "2025-01-16T16:53:00.290803",
     "status": "completed"
    },
    "tags": []
   },
   "outputs": [
    {
     "name": "stdout",
     "output_type": "stream",
     "text": [
      "n_iterations: 4\n",
      "n_required_iterations: 4\n",
      "n_possible_iterations: 4\n",
      "min_resources_: 65354\n",
      "max_resources_: 1764558\n",
      "aggressive_elimination: False\n",
      "factor: 3\n",
      "----------\n",
      "iter: 0\n",
      "n_candidates: 50\n",
      "n_resources: 65354\n",
      "Fitting 5 folds for each of 50 candidates, totalling 250 fits\n",
      "----------\n",
      "iter: 1\n",
      "n_candidates: 17\n",
      "n_resources: 196062\n",
      "Fitting 5 folds for each of 17 candidates, totalling 85 fits\n",
      "----------\n",
      "iter: 2\n",
      "n_candidates: 6\n",
      "n_resources: 588186\n",
      "Fitting 5 folds for each of 6 candidates, totalling 30 fits\n",
      "----------\n",
      "iter: 3\n",
      "n_candidates: 2\n",
      "n_resources: 1764558\n",
      "Fitting 5 folds for each of 2 candidates, totalling 10 fits\n",
      "\n",
      "Grid Search Best Params: {'max_depth': 17, 'n_estimators': 200}\n"
     ]
    }
   ],
   "source": [
    "from sklearn.experimental import enable_halving_search_cv\n",
    "from sklearn.model_selection import HalvingGridSearchCV\n",
    "# parameters to use in the grid search\n",
    "params = {\n",
    "    'max_depth': range(10, 20),\n",
    "    'n_estimators': [10, 50, 100, 150, 200],\n",
    "}\n",
    "\n",
    "rf_grid = HalvingGridSearchCV(\n",
    "    rf_top,\n",
    "    params,\n",
    "    cv=5,\n",
    "    scoring='accuracy',\n",
    "    verbose=1,\n",
    "    return_train_score=True,\n",
    "    n_jobs=-1\n",
    ")\n",
    "\n",
    "rf_grid.fit(X_train_top, y_train_top)\n",
    "\n",
    "print(\"\\nGrid Search Best Params:\", rf_grid.best_params_)"
   ]
  },
  {
   "cell_type": "code",
   "execution_count": 19,
   "id": "cb61bd30",
   "metadata": {
    "_cell_guid": "f7874f10-3880-43e7-b935-e9c86cb7209b",
    "_uuid": "fad26c4d-9b02-43e2-9826-71f88d79d7b8",
    "collapsed": false,
    "execution": {
     "iopub.execute_input": "2025-01-16T19:56:19.796073Z",
     "iopub.status.busy": "2025-01-16T19:56:19.795513Z",
     "iopub.status.idle": "2025-01-16T19:57:41.520176Z",
     "shell.execute_reply": "2025-01-16T19:57:41.518855Z"
    },
    "jupyter": {
     "outputs_hidden": false
    },
    "papermill": {
     "duration": 81.744665,
     "end_time": "2025-01-16T19:57:41.522434",
     "exception": false,
     "start_time": "2025-01-16T19:56:19.777769",
     "status": "completed"
    },
    "tags": []
   },
   "outputs": [
    {
     "name": "stdout",
     "output_type": "stream",
     "text": [
      "                precision    recall  f1-score   support\n",
      "\n",
      "        BENIGN     0.9978    0.9992    0.9985    628081\n",
      "        BOTNET     0.9098    0.4201    0.5748       576\n",
      "   BRUTE_FORCE     0.9939    0.9946    0.9942      2769\n",
      "           DOS     0.9980    0.9954    0.9967     96787\n",
      "RECONNAISSANCE     0.9891    0.9993    0.9942     27358\n",
      "    WEB_ATTACK     0.9286    0.0972    0.1759       669\n",
      "\n",
      "      accuracy                         0.9974    756240\n",
      "     macro avg     0.9695    0.7510    0.7891    756240\n",
      "  weighted avg     0.9973    0.9974    0.9970    756240\n",
      "\n"
     ]
    }
   ],
   "source": [
    "# get the best model found in the grid search\n",
    "rf_best_model = rf_grid.best_estimator_\n",
    "\n",
    "# use it to predict on the test data\n",
    "y_pred_top = rf_best_model.predict(X_test_top)\n",
    "\n",
    "print(classification_report(y_test_top, y_pred_top,digits=4))\n",
    "rf_best_report = classification_report(y_test_top, y_pred_top, digits=4, output_dict=True)"
   ]
  },
  {
   "cell_type": "code",
   "execution_count": 20,
   "id": "e3553e50",
   "metadata": {
    "_cell_guid": "8e5acbad-82cb-4ee4-b967-5786b37ded9c",
    "_uuid": "e62430fe-1a2e-4b68-bcfa-6465aab6c369",
    "collapsed": false,
    "execution": {
     "iopub.execute_input": "2025-01-16T19:57:41.551715Z",
     "iopub.status.busy": "2025-01-16T19:57:41.551333Z",
     "iopub.status.idle": "2025-01-16T19:59:19.583009Z",
     "shell.execute_reply": "2025-01-16T19:59:19.581652Z"
    },
    "jupyter": {
     "outputs_hidden": false
    },
    "papermill": {
     "duration": 98.049033,
     "end_time": "2025-01-16T19:59:19.585529",
     "exception": false,
     "start_time": "2025-01-16T19:57:41.536496",
     "status": "completed"
    },
    "tags": []
   },
   "outputs": [
    {
     "name": "stdout",
     "output_type": "stream",
     "text": [
      "                precision    recall  f1-score   support\n",
      "\n",
      "        BENIGN     0.9978    0.9991    0.9984    628081\n",
      "        BOTNET     1.0000    0.3958    0.5672       576\n",
      "   BRUTE_FORCE     0.9935    0.9949    0.9942      2769\n",
      "           DOS     0.9975    0.9949    0.9962     96787\n",
      "RECONNAISSANCE     0.9891    0.9993    0.9942     27358\n",
      "    WEB_ATTACK     0.8148    0.1644    0.2736       669\n",
      "\n",
      "      accuracy                         0.9974    756240\n",
      "     macro avg     0.9654    0.7581    0.8040    756240\n",
      "  weighted avg     0.9972    0.9974    0.9970    756240\n",
      "\n"
     ]
    }
   ],
   "source": [
    "from xgboost import XGBClassifier\n",
    "from sklearn.preprocessing import LabelEncoder\n",
    "from sklearn.model_selection import train_test_split\n",
    "from sklearn.metrics import classification_report\n",
    "\n",
    "le = LabelEncoder()\n",
    "y_train_top_encoded = le.fit_transform(y_train_top)\n",
    "y_test_top_encoded = le.transform(y_test_top)\n",
    "\n",
    "xgb_top = XGBClassifier(n_estimators=50, random_state=42)\n",
    "xgb_top.fit(X_train_top, y_train_top_encoded)\n",
    "\n",
    "y_pred_top_xgb = xgb_top.predict(X_test_top)\n",
    "\n",
    "y_pred_top_decoded = le.inverse_transform(y_pred_top_xgb)\n",
    "\n",
    "print(classification_report(y_test_top, y_pred_top_decoded, digits=4))\n",
    "xgb_top_report = classification_report(y_test_top, y_pred_top_decoded, digits=4,output_dict=True)"
   ]
  },
  {
   "cell_type": "code",
   "execution_count": 21,
   "id": "07c8d458",
   "metadata": {
    "_cell_guid": "0e933a68-58bb-4b80-ae10-4d8b9aef9c09",
    "_uuid": "1bfc8d35-8f3b-468f-a869-7244d7be79d2",
    "collapsed": false,
    "execution": {
     "iopub.execute_input": "2025-01-16T19:59:19.619123Z",
     "iopub.status.busy": "2025-01-16T19:59:19.618700Z",
     "iopub.status.idle": "2025-01-16T20:58:24.285377Z",
     "shell.execute_reply": "2025-01-16T20:58:24.283156Z"
    },
    "jupyter": {
     "outputs_hidden": false
    },
    "papermill": {
     "duration": 3544.703739,
     "end_time": "2025-01-16T20:58:24.304221",
     "exception": false,
     "start_time": "2025-01-16T19:59:19.600482",
     "status": "completed"
    },
    "tags": []
   },
   "outputs": [
    {
     "name": "stdout",
     "output_type": "stream",
     "text": [
      "n_iterations: 5\n",
      "n_required_iterations: 5\n",
      "n_possible_iterations: 5\n",
      "min_resources_: 21784\n",
      "max_resources_: 1764558\n",
      "aggressive_elimination: False\n",
      "factor: 3\n",
      "----------\n",
      "iter: 0\n",
      "n_candidates: 117\n",
      "n_resources: 21784\n",
      "Fitting 5 folds for each of 117 candidates, totalling 585 fits\n",
      "----------\n",
      "iter: 1\n",
      "n_candidates: 39\n",
      "n_resources: 65352\n",
      "Fitting 5 folds for each of 39 candidates, totalling 195 fits\n",
      "----------\n",
      "iter: 2\n",
      "n_candidates: 13\n",
      "n_resources: 196056\n",
      "Fitting 5 folds for each of 13 candidates, totalling 65 fits\n",
      "----------\n",
      "iter: 3\n",
      "n_candidates: 5\n",
      "n_resources: 588168\n",
      "Fitting 5 folds for each of 5 candidates, totalling 25 fits\n",
      "----------\n",
      "iter: 4\n",
      "n_candidates: 2\n",
      "n_resources: 1764504\n",
      "Fitting 5 folds for each of 2 candidates, totalling 10 fits\n",
      "\n",
      "Grid Search Best Params: {'learning_rate': 0.1, 'max_depth': 12, 'n_estimators': 100}\n"
     ]
    }
   ],
   "source": [
    "# Parameters for grid search\n",
    "params = {\n",
    "    'max_depth': range(7, 20),\n",
    "    'n_estimators': [100, 150, 200],\n",
    "    'learning_rate': [0.3, 0.1, 0.01]\n",
    "}\n",
    "\n",
    "xgb_grid = HalvingGridSearchCV(\n",
    "    estimator=xgb_top,\n",
    "    param_grid=params,\n",
    "    cv=5,\n",
    "    scoring='accuracy',\n",
    "    verbose=1,\n",
    "    return_train_score=True,\n",
    "    n_jobs=-1\n",
    ")\n",
    "\n",
    "xgb_grid.fit(X_train_top, y_train_top_encoded)\n",
    "\n",
    "print(\"\\nGrid Search Best Params:\", xgb_grid.best_params_)"
   ]
  },
  {
   "cell_type": "code",
   "execution_count": 22,
   "id": "c5a8ba8b",
   "metadata": {
    "_cell_guid": "56033eab-e9f7-463b-b3a1-f9a0e721bd94",
    "_uuid": "e8fbb2f7-39ce-468a-b4f6-cc8bbe15e424",
    "collapsed": false,
    "execution": {
     "iopub.execute_input": "2025-01-16T20:58:24.341124Z",
     "iopub.status.busy": "2025-01-16T20:58:24.340639Z",
     "iopub.status.idle": "2025-01-16T20:59:29.117905Z",
     "shell.execute_reply": "2025-01-16T20:59:29.116500Z"
    },
    "jupyter": {
     "outputs_hidden": false
    },
    "papermill": {
     "duration": 64.799211,
     "end_time": "2025-01-16T20:59:29.120291",
     "exception": false,
     "start_time": "2025-01-16T20:58:24.321080",
     "status": "completed"
    },
    "tags": []
   },
   "outputs": [
    {
     "name": "stdout",
     "output_type": "stream",
     "text": [
      "                precision    recall  f1-score   support\n",
      "\n",
      "        BENIGN     0.9979    0.9991    0.9985    628081\n",
      "        BOTNET     0.9346    0.4219    0.5813       576\n",
      "   BRUTE_FORCE     0.9939    0.9931    0.9935      2769\n",
      "           DOS     0.9975    0.9955    0.9965     96787\n",
      "RECONNAISSANCE     0.9890    0.9993    0.9941     27358\n",
      "    WEB_ATTACK     0.7956    0.1629    0.2705       669\n",
      "\n",
      "      accuracy                         0.9974    756240\n",
      "     macro avg     0.9514    0.7620    0.8057    756240\n",
      "  weighted avg     0.9973    0.9974    0.9971    756240\n",
      "\n"
     ]
    }
   ],
   "source": [
    "xgb_best_model = xgb_grid.best_estimator_\n",
    "\n",
    "y_pred_top_xgb = xgb_best_model.predict(X_test_top)\n",
    "\n",
    "\n",
    "y_pred_top_decoded = le.inverse_transform(y_pred_top_xgb)\n",
    "y_test_top_decoded = le.inverse_transform(y_test_top_encoded)\n",
    "\n",
    "print(classification_report(y_test_top, y_pred_top_decoded, digits=4))\n",
    "xgb_best_report = classification_report(y_test_top, y_pred_top_decoded, digits=4, output_dict=True)"
   ]
  },
  {
   "cell_type": "code",
   "execution_count": 23,
   "id": "b6bff299",
   "metadata": {
    "_cell_guid": "367aa413-15ab-400d-af61-17c53575c404",
    "_uuid": "c4fc9a03-67d1-48c5-bb25-d45bc6eaf8a6",
    "collapsed": false,
    "execution": {
     "iopub.execute_input": "2025-01-16T20:59:29.150508Z",
     "iopub.status.busy": "2025-01-16T20:59:29.150100Z",
     "iopub.status.idle": "2025-01-16T20:59:29.543169Z",
     "shell.execute_reply": "2025-01-16T20:59:29.541708Z"
    },
    "jupyter": {
     "outputs_hidden": false
    },
    "papermill": {
     "duration": 0.410346,
     "end_time": "2025-01-16T20:59:29.545397",
     "exception": false,
     "start_time": "2025-01-16T20:59:29.135051",
     "status": "completed"
    },
    "tags": []
   },
   "outputs": [
    {
     "data": {
      "image/png": "[encoded data removed]",
      "text/plain": [
       "<Figure size 1000x600 with 1 Axes>"
      ]
     },
     "metadata": {},
     "output_type": "display_data"
    }
   ],
   "source": [
    "# put all reports in a list\n",
    "reports = [rf_all_report, rf_top_report, rf_best_report, xgb_top_report, xgb_best_report]\n",
    "\n",
    "model_names = [\"rf_all\", \"rf_top\", \"rf_best\", \"xgb_top\", \"xgb_best\"]\n",
    "# Initialize an empty DataFrame\n",
    "comparison_df = pd.DataFrame(\n",
    "    columns=[\"precision\", \"recall\", \"f1-score\"], \n",
    "    index=model_names\n",
    ")\n",
    "\n",
    "for name, report in zip(model_names, reports):\n",
    "    # 'macro avg' is a key in the dictionary\n",
    "    macro_avg = report[\"weighted avg\"]\n",
    "    comparison_df.loc[name, \"precision\"] = macro_avg[\"precision\"]\n",
    "    comparison_df.loc[name, \"recall\"]    = macro_avg[\"recall\"]\n",
    "    comparison_df.loc[name, \"f1-score\"]  = macro_avg[\"f1-score\"]\n",
    "\n",
    "\n",
    "\n",
    "colors = [rp[\"iris\"], rp[\"gold\"], rp[\"pine\"]]\n",
    "\n",
    "comparison_df.plot.bar(\n",
    "    figsize=(10, 6), \n",
    "    color=colors\n",
    ")\n",
    "plt.title(\"Macro-Average Scores Comparison\")\n",
    "plt.ylabel(\"Score\")\n",
    "plt.ylim([0.98, 1])\n",
    "plt.xticks(rotation=0)\n",
    "plt.legend(loc=\"lower right\")\n",
    "plt.show()"
   ]
  },
  {
   "cell_type": "code",
   "execution_count": 24,
   "id": "289b1267",
   "metadata": {
    "_cell_guid": "f316851d-6a44-4e85-907e-ce1c6c5d1b34",
    "_uuid": "aec65b0a-0316-43ae-bc33-70eb50d2caff",
    "collapsed": false,
    "execution": {
     "iopub.execute_input": "2025-01-16T20:59:29.578609Z",
     "iopub.status.busy": "2025-01-16T20:59:29.578198Z",
     "iopub.status.idle": "2025-01-16T20:59:29.882575Z",
     "shell.execute_reply": "2025-01-16T20:59:29.881328Z"
    },
    "jupyter": {
     "outputs_hidden": false
    },
    "papermill": {
     "duration": 0.323264,
     "end_time": "2025-01-16T20:59:29.884633",
     "exception": false,
     "start_time": "2025-01-16T20:59:29.561369",
     "status": "completed"
    },
    "tags": []
   },
   "outputs": [
    {
     "data": {
      "image/png": "[encoded data removed]",
      "text/plain": [
       "<Figure size 1000x600 with 1 Axes>"
      ]
     },
     "metadata": {},
     "output_type": "display_data"
    }
   ],
   "source": [
    "# put all reports in a list\n",
    "reports = [rf_all_report, rf_top_report, rf_best_report, xgb_top_report, xgb_best_report]\n",
    "\n",
    "model_names = [\"rf_all\", \"rf_top\", \"rf_best\", \"xgb_top\", \"xgb_best\"]\n",
    "# Initialize an empty DataFrame\n",
    "comparison_df = pd.DataFrame(\n",
    "    columns=[\"precision\", \"recall\", \"f1-score\"], \n",
    "    index=model_names\n",
    ")\n",
    "\n",
    "for name, report in zip(model_names, reports):\n",
    "    # 'macro avg' is a key in the dictionary\n",
    "    macro_avg = report[\"macro avg\"]\n",
    "    comparison_df.loc[name, \"precision\"] = macro_avg[\"precision\"]\n",
    "    comparison_df.loc[name, \"recall\"]    = macro_avg[\"recall\"]\n",
    "    comparison_df.loc[name, \"f1-score\"]  = macro_avg[\"f1-score\"]\n",
    "\n",
    "\n",
    "\n",
    "colors = [rp[\"iris\"], rp[\"gold\"], rp[\"pine\"]]\n",
    "\n",
    "comparison_df.plot.bar(\n",
    "    figsize=(10, 6), \n",
    "    color=colors\n",
    ")\n",
    "plt.title(\"Macro-Average Scores Comparison\")\n",
    "plt.ylabel(\"Score\")\n",
    "plt.ylim([0.85, 1])\n",
    "plt.xticks(rotation=0)\n",
    "plt.legend(loc=\"lower right\")\n",
    "plt.show()"
   ]
  },
  {
   "cell_type": "markdown",
   "id": "8bffce99",
   "metadata": {
    "_cell_guid": "0351ed07-6572-4ea4-bcb6-450aa3524d4d",
    "_uuid": "4a233536-eb13-4f01-b2f5-a4131dd6c342",
    "collapsed": false,
    "jupyter": {
     "outputs_hidden": false
    },
    "papermill": {
     "duration": 0.014649,
     "end_time": "2025-01-16T20:59:29.914765",
     "exception": false,
     "start_time": "2025-01-16T20:59:29.900116",
     "status": "completed"
    },
    "tags": []
   },
   "source": [
    "# Citations\n",
    "Kurniabudi, Deris Stiawan, Darmawijoyo, Mohd Yazid Bin Idris, Alwi M. Bamhdi, and Rahmat Budiarto. “CICIDS-2017 Dataset Feature Analysis With Information Gain for Anomaly Detection.” IEEE Access 8 (2020): 132911–21. https://doi.org/10.1109/ACCESS.2020.3009843."
   ]
  }
 ],
 "metadata": {
  "kaggle": {
   "accelerator": "none",
   "dataSources": [
    {
     "datasetId": 3674161,
     "sourceId": 6376134,
     "sourceType": "datasetVersion"
    }
   ],
   "dockerImageVersionId": 30822,
   "isGpuEnabled": false,
   "isInternetEnabled": true,
   "language": "python",
   "sourceType": "notebook"
  },
  "kernelspec": {
   "display_name": "Python 3",
   "language": "python",
   "name": "python3"
  },
  "language_info": {
   "codemirror_mode": {
    "name": "ipython",
    "version": 3
   },
   "file_extension": ".py",
   "mimetype": "text/x-python",
   "name": "python",
   "nbconvert_exporter": "python",
   "pygments_lexer": "ipython3",
   "version": "3.10.12"
  },
  "papermill": {
   "default_parameters": {},
   "duration": 16128.036871,
   "end_time": "2025-01-16T20:59:31.419166",
   "environment_variables": {},
   "exception": null,
   "input_path": "__notebook__.ipynb",
   "output_path": "__notebook__.ipynb",
   "parameters": {},
   "start_time": "2025-01-16T16:30:43.382295",
   "version": "2.6.0"
  }
 },
 "nbformat": 4,
 "nbformat_minor": 5
}
