{
 "cells": [
  {
   "cell_type": "markdown",
   "id": "00e5588e",
   "metadata": {
    "_cell_guid": "94232400-a3d6-46a0-a3ca-064b9d246a92",
    "_uuid": "0f02d797-ef21-45d6-b799-13d962d52b4b",
    "collapsed": false,
    "jupyter": {
     "outputs_hidden": false
    },
    "papermill": {
     "duration": 0.008652,
     "end_time": "2025-01-11T15:56:22.462585",
     "exception": false,
     "start_time": "2025-01-11T15:56:22.453933",
     "status": "completed"
    },
    "tags": []
   },
   "source": [
    "\n",
    "# NIDS_ML\n",
    "Network Intrussion Detection Sytem using Machine learning\n",
    "\n",
    "Dataset: CIC-IDS2017\n",
    "Group members:\n",
    "\n",
    "### NIDS_ML\n",
    "Network Intrussion Detection Sytem using Machine learning\n",
    "\n",
    "Dataset: CIC-IDS2017\n",
    "Group members:\n",
    "\n",
    "Business Understanding\n",
    "Goal: Classification of network traffic (flows) as malicous or benign\n",
    "\n",
    "In the ever growing world of network infrastructure and internet of things companies have to rely on automatic intrusion detection systems to filter out malicous traffic. Machine learning is arguebly the best tool to provide realtime/near-realtime classification of network traffic.Business Understanding\n",
    "Goal: Clssification of network traffic (flows) as malicous or benign\n",
    "\n",
    "In the ever growing world of network infrastructure and internet of things companies have to rely on automatic intrusion detection systems to filter out malicous traffic. Machine learning is arguebly the best tool to provide realtime/near-realtime classification of network traffic.\n",
    "\n",
    "# Outlook\n",
    "We are doing Multiclass Classification\n",
    "\n",
    "### Planned Procedure\n",
    "1. Choose data sample (everything, shuffled subsample, only one day).\n",
    "2. Get information.\n",
    "3. Remove duplicates.\n",
    "4. Drop `NaN` and `inf` as well as `-inf` values due to small size (~0.05%).\n",
    "5. Strip columns (there are spaces at the end or start).\n",
    "6. Map the categories to broader ones.\n",
    "7. Split data into test and train sets.\n",
    "8. Train Random Forest model.\n",
    "9. Get feature importance from Random Forest.\n",
    "10. Use the most important features for hyperparameter tuning in Random Forest and XGBoost.\n",
    "11. Hyperparameter tuning for xdg and rf\n",
    "12. Evaluate the model.\n",
    "\n",
    "\n",
    "###  TODO \n",
    "- [ ] add citations\n",
    "- [ ] add visualization\n",
    "- [ ] Checkout pdfs for 10, 14, 13, and 12 \n",
    "\n",
    "### Clarifiations \n",
    "We will use the term \"traffic\" or \"network traffic\" for simplicity reasons, in the context of the dataset we mean network flows which were extracted out of network traffic using the [CICFLowMeter](https://github.com/ahlashkari/CICFlowMeter) tool."
   ]
  },
  {
   "cell_type": "markdown",
   "id": "a1f47db3",
   "metadata": {
    "_cell_guid": "4943c99a-a43f-454c-8e0d-82f60985d60a",
    "_uuid": "fc7fdf99-1332-4447-a1c0-2db22f58b81a",
    "collapsed": false,
    "jupyter": {
     "outputs_hidden": false
    },
    "papermill": {
     "duration": 0.007135,
     "end_time": "2025-01-11T15:56:22.477690",
     "exception": false,
     "start_time": "2025-01-11T15:56:22.470555",
     "status": "completed"
    },
    "tags": []
   },
   "source": [
    "# General Imports and reading the Dataset\n",
    "First we are importing the most important libraries and the os library to read the files.\n",
    "Numpy and Pandas for scientific computing and matplotlib.pyplot for plots (visualiziation)\n",
    "\n",
    "We are seting the display option to max rows, else the full 78 columns wouldn't be displayed \n",
    "We are reading all the csv files from the dataset into one pandas Dataframe \"df_full\"."
   ]
  },
  {
   "cell_type": "code",
   "execution_count": 1,
   "id": "3e8e0439",
   "metadata": {
    "execution": {
     "iopub.execute_input": "2025-01-11T15:56:22.494392Z",
     "iopub.status.busy": "2025-01-11T15:56:22.493978Z",
     "iopub.status.idle": "2025-01-11T15:56:22.500958Z",
     "shell.execute_reply": "2025-01-11T15:56:22.499757Z"
    },
    "papermill": {
     "duration": 0.017651,
     "end_time": "2025-01-11T15:56:22.502834",
     "exception": false,
     "start_time": "2025-01-11T15:56:22.485183",
     "status": "completed"
    },
    "tags": []
   },
   "outputs": [],
   "source": [
    "# Rose Pine palette: hex values for use in graphs\n",
    "rose_pine_palette = {\n",
    "    \"base\": \"#191724\",\n",
    "    \"surface\": \"#1f1d2e\",\n",
    "    \"overlay\": \"#26233a\",\n",
    "    \"muted\": \"#6e6a86\",\n",
    "    \"subtle\": \"#908caa\",\n",
    "    \"text\": \"#e0def4\",\n",
    "    \"love\": \"#eb6f92\",\n",
    "    \"gold\": \"#f6c177\",\n",
    "    \"rose\": \"#ebbcba\",\n",
    "    \"pine\": \"#31748f\",\n",
    "    \"foam\": \"#9ccfd8\",\n",
    "    \"iris\": \"#c4a7e7\",\n",
    "    \"highlightLow\": \"#21202e\",\n",
    "    \"highlightMed\": \"#403d52\",\n",
    "    \"highlightHigh\": \"#524f67\",\n",
    "}"
   ]
  },
  {
   "cell_type": "code",
   "execution_count": 2,
   "id": "173ccca0",
   "metadata": {
    "_cell_guid": "b1612687-2b3d-4641-be4c-5d6f3bb5ce55",
    "_uuid": "7680cfda-1096-4f15-bfe0-47ad74de2af1",
    "collapsed": false,
    "execution": {
     "iopub.execute_input": "2025-01-11T15:56:22.519442Z",
     "iopub.status.busy": "2025-01-11T15:56:22.519011Z",
     "iopub.status.idle": "2025-01-11T15:56:56.467422Z",
     "shell.execute_reply": "2025-01-11T15:56:56.465905Z"
    },
    "jupyter": {
     "outputs_hidden": false
    },
    "papermill": {
     "duration": 33.958984,
     "end_time": "2025-01-11T15:56:56.469555",
     "exception": false,
     "start_time": "2025-01-11T15:56:22.510571",
     "status": "completed"
    },
    "tags": []
   },
   "outputs": [
    {
     "name": "stdout",
     "output_type": "stream",
     "text": [
      "/kaggle/input/network-intrusion-dataset/Friday-WorkingHours-Afternoon-PortScan.pcap_ISCX.csv\n",
      "/kaggle/input/network-intrusion-dataset/Thursday-WorkingHours-Morning-WebAttacks.pcap_ISCX.csv\n",
      "/kaggle/input/network-intrusion-dataset/Tuesday-WorkingHours.pcap_ISCX.csv\n",
      "/kaggle/input/network-intrusion-dataset/Friday-WorkingHours-Afternoon-DDos.pcap_ISCX.csv\n",
      "/kaggle/input/network-intrusion-dataset/Monday-WorkingHours.pcap_ISCX.csv\n",
      "/kaggle/input/network-intrusion-dataset/Friday-WorkingHours-Morning.pcap_ISCX.csv\n",
      "/kaggle/input/network-intrusion-dataset/Thursday-WorkingHours-Afternoon-Infilteration.pcap_ISCX.csv\n",
      "/kaggle/input/network-intrusion-dataset/Wednesday-workingHours.pcap_ISCX.csv\n"
     ]
    }
   ],
   "source": [
    "import os\n",
    "import numpy as np\n",
    "import pandas as pd\n",
    "import matplotlib.pyplot as plt\n",
    "\n",
    "# Disply all rows\n",
    "pd.set_option('display.max_rows', None)\n",
    "\n",
    "df_full = pd.DataFrame()\n",
    "\n",
    "for dirname, _, filenames in os.walk(\"/kaggle/input/\"):\n",
    "    for filename in filenames:\n",
    "        file_path = os.path.join(dirname, filename)\n",
    "        print(file_path)\n",
    "        df_full = pd.concat([df_full, pd.read_csv(file_path)], ignore_index=True)"
   ]
  },
  {
   "cell_type": "markdown",
   "id": "0b4add61",
   "metadata": {
    "_cell_guid": "90db54b9-f3aa-456a-bb7c-698d0abcf55c",
    "_uuid": "f1000e13-2d44-4954-b45a-015fa7621d40",
    "collapsed": false,
    "jupyter": {
     "outputs_hidden": false
    },
    "papermill": {
     "duration": 0.007802,
     "end_time": "2025-01-11T15:56:56.485619",
     "exception": false,
     "start_time": "2025-01-11T15:56:56.477817",
     "status": "completed"
    },
    "tags": []
   },
   "source": [
    "# Data selection \n",
    "Here are three different options.\n",
    "First option reads only one of the fils into the Dataframe. The second option takes the df_full with all the files, shuffles them and takes the first $n$ values.\n",
    "\n",
    "This is done to reduce the dataset for developing purposes."
   ]
  },
  {
   "cell_type": "code",
   "execution_count": 3,
   "id": "cafc4d6d",
   "metadata": {
    "_cell_guid": "214b7834-45c9-4e84-8913-bbd962af426f",
    "_uuid": "9ce155dd-2ab6-4134-8715-3ae5bf58e968",
    "collapsed": false,
    "execution": {
     "iopub.execute_input": "2025-01-11T15:56:56.502923Z",
     "iopub.status.busy": "2025-01-11T15:56:56.502457Z",
     "iopub.status.idle": "2025-01-11T15:56:57.676334Z",
     "shell.execute_reply": "2025-01-11T15:56:57.675179Z"
    },
    "jupyter": {
     "outputs_hidden": false
    },
    "papermill": {
     "duration": 1.184887,
     "end_time": "2025-01-11T15:56:57.678292",
     "exception": false,
     "start_time": "2025-01-11T15:56:56.493405",
     "status": "completed"
    },
    "tags": []
   },
   "outputs": [],
   "source": [
    "# 1. \n",
    "df = pd.read_csv(\"/kaggle/input/network-intrusion-dataset/Thursday-WorkingHours-Morning-WebAttacks.pcap_ISCX.csv\")\n",
    "\n",
    "# 2.\n",
    "#shuffled_df = df_full.sample(frac=1, random_state=42)\n",
    "#df = pd.DataFrame(shuffled_df.head(2000))\n",
    "\n",
    "# 3.\n",
    "#df = pd.DataFrame(df_full)"
   ]
  },
  {
   "cell_type": "markdown",
   "id": "2bf9e22e",
   "metadata": {
    "_cell_guid": "1b5443a8-7a98-4541-b975-198dbc9442c9",
    "_uuid": "be3b9c98-267e-40de-ae56-da0db03e1dda",
    "collapsed": false,
    "jupyter": {
     "outputs_hidden": false
    },
    "papermill": {
     "duration": 0.007236,
     "end_time": "2025-01-11T15:56:57.693649",
     "exception": false,
     "start_time": "2025-01-11T15:56:57.686413",
     "status": "completed"
    },
    "tags": []
   },
   "source": [
    "#  Data info\n",
    "The column names have leading and/or trailing spaces that need to be trimmed.\n",
    "\n",
    "The info shows us the number of entries $n$ in the dataset aswell as the 79 columns with 0-77 being the features and 78 being the labels. \n",
    "When using the whole dataset the number of non-null entries are not displayed but we will address that later.\n",
    "The feature types are all numerical and the lables are Objects (strings)"
   ]
  },
  {
   "cell_type": "code",
   "execution_count": 4,
   "id": "92221be1",
   "metadata": {
    "_cell_guid": "7bcf98c9-45b4-49f1-a71b-d55b10ebdb4d",
    "_uuid": "153e0622-aae5-4384-8974-314babba274a",
    "collapsed": false,
    "execution": {
     "iopub.execute_input": "2025-01-11T15:56:57.710554Z",
     "iopub.status.busy": "2025-01-11T15:56:57.710176Z",
     "iopub.status.idle": "2025-01-11T15:56:57.766233Z",
     "shell.execute_reply": "2025-01-11T15:56:57.764702Z"
    },
    "jupyter": {
     "outputs_hidden": false
    },
    "papermill": {
     "duration": 0.066856,
     "end_time": "2025-01-11T15:56:57.768496",
     "exception": false,
     "start_time": "2025-01-11T15:56:57.701640",
     "status": "completed"
    },
    "tags": []
   },
   "outputs": [
    {
     "name": "stdout",
     "output_type": "stream",
     "text": [
      "<class 'pandas.core.frame.DataFrame'>\n",
      "RangeIndex: 170366 entries, 0 to 170365\n",
      "Data columns (total 79 columns):\n",
      " #   Column                       Non-Null Count   Dtype  \n",
      "---  ------                       --------------   -----  \n",
      " 0   Destination Port             170366 non-null  int64  \n",
      " 1   Flow Duration                170366 non-null  int64  \n",
      " 2   Total Fwd Packets            170366 non-null  int64  \n",
      " 3   Total Backward Packets       170366 non-null  int64  \n",
      " 4   Total Length of Fwd Packets  170366 non-null  int64  \n",
      " 5   Total Length of Bwd Packets  170366 non-null  int64  \n",
      " 6   Fwd Packet Length Max        170366 non-null  int64  \n",
      " 7   Fwd Packet Length Min        170366 non-null  int64  \n",
      " 8   Fwd Packet Length Mean       170366 non-null  float64\n",
      " 9   Fwd Packet Length Std        170366 non-null  float64\n",
      " 10  Bwd Packet Length Max        170366 non-null  int64  \n",
      " 11  Bwd Packet Length Min        170366 non-null  int64  \n",
      " 12  Bwd Packet Length Mean       170366 non-null  float64\n",
      " 13  Bwd Packet Length Std        170366 non-null  float64\n",
      " 14  Flow Bytes/s                 170346 non-null  float64\n",
      " 15  Flow Packets/s               170366 non-null  float64\n",
      " 16  Flow IAT Mean                170366 non-null  float64\n",
      " 17  Flow IAT Std                 170366 non-null  float64\n",
      " 18  Flow IAT Max                 170366 non-null  int64  \n",
      " 19  Flow IAT Min                 170366 non-null  int64  \n",
      " 20  Fwd IAT Total                170366 non-null  int64  \n",
      " 21  Fwd IAT Mean                 170366 non-null  float64\n",
      " 22  Fwd IAT Std                  170366 non-null  float64\n",
      " 23  Fwd IAT Max                  170366 non-null  int64  \n",
      " 24  Fwd IAT Min                  170366 non-null  int64  \n",
      " 25  Bwd IAT Total                170366 non-null  int64  \n",
      " 26  Bwd IAT Mean                 170366 non-null  float64\n",
      " 27  Bwd IAT Std                  170366 non-null  float64\n",
      " 28  Bwd IAT Max                  170366 non-null  int64  \n",
      " 29  Bwd IAT Min                  170366 non-null  int64  \n",
      " 30  Fwd PSH Flags                170366 non-null  int64  \n",
      " 31  Bwd PSH Flags                170366 non-null  int64  \n",
      " 32  Fwd URG Flags                170366 non-null  int64  \n",
      " 33  Bwd URG Flags                170366 non-null  int64  \n",
      " 34  Fwd Header Length            170366 non-null  int64  \n",
      " 35  Bwd Header Length            170366 non-null  int64  \n",
      " 36  Fwd Packets/s                170366 non-null  float64\n",
      " 37  Bwd Packets/s                170366 non-null  float64\n",
      " 38  Min Packet Length            170366 non-null  int64  \n",
      " 39  Max Packet Length            170366 non-null  int64  \n",
      " 40  Packet Length Mean           170366 non-null  float64\n",
      " 41  Packet Length Std            170366 non-null  float64\n",
      " 42  Packet Length Variance       170366 non-null  float64\n",
      " 43  FIN Flag Count               170366 non-null  int64  \n",
      " 44  SYN Flag Count               170366 non-null  int64  \n",
      " 45  RST Flag Count               170366 non-null  int64  \n",
      " 46  PSH Flag Count               170366 non-null  int64  \n",
      " 47  ACK Flag Count               170366 non-null  int64  \n",
      " 48  URG Flag Count               170366 non-null  int64  \n",
      " 49  CWE Flag Count               170366 non-null  int64  \n",
      " 50  ECE Flag Count               170366 non-null  int64  \n",
      " 51  Down/Up Ratio                170366 non-null  int64  \n",
      " 52  Average Packet Size          170366 non-null  float64\n",
      " 53  Avg Fwd Segment Size         170366 non-null  float64\n",
      " 54  Avg Bwd Segment Size         170366 non-null  float64\n",
      " 55  Fwd Header Length.1          170366 non-null  int64  \n",
      " 56  Fwd Avg Bytes/Bulk           170366 non-null  int64  \n",
      " 57  Fwd Avg Packets/Bulk         170366 non-null  int64  \n",
      " 58  Fwd Avg Bulk Rate            170366 non-null  int64  \n",
      " 59  Bwd Avg Bytes/Bulk           170366 non-null  int64  \n",
      " 60  Bwd Avg Packets/Bulk         170366 non-null  int64  \n",
      " 61  Bwd Avg Bulk Rate            170366 non-null  int64  \n",
      " 62  Subflow Fwd Packets          170366 non-null  int64  \n",
      " 63  Subflow Fwd Bytes            170366 non-null  int64  \n",
      " 64  Subflow Bwd Packets          170366 non-null  int64  \n",
      " 65  Subflow Bwd Bytes            170366 non-null  int64  \n",
      " 66  Init_Win_bytes_forward       170366 non-null  int64  \n",
      " 67  Init_Win_bytes_backward      170366 non-null  int64  \n",
      " 68  act_data_pkt_fwd             170366 non-null  int64  \n",
      " 69  min_seg_size_forward         170366 non-null  int64  \n",
      " 70  Active Mean                  170366 non-null  float64\n",
      " 71  Active Std                   170366 non-null  float64\n",
      " 72  Active Max                   170366 non-null  int64  \n",
      " 73  Active Min                   170366 non-null  int64  \n",
      " 74  Idle Mean                    170366 non-null  float64\n",
      " 75  Idle Std                     170366 non-null  float64\n",
      " 76  Idle Max                     170366 non-null  int64  \n",
      " 77  Idle Min                     170366 non-null  int64  \n",
      " 78  Label                        170366 non-null  object \n",
      "dtypes: float64(24), int64(54), object(1)\n",
      "memory usage: 102.7+ MB\n"
     ]
    }
   ],
   "source": [
    "df.columns = df.columns.str.strip()\n",
    "df.info()"
   ]
  },
  {
   "cell_type": "markdown",
   "id": "33325962",
   "metadata": {
    "_cell_guid": "ed1c186a-e074-4784-ba0c-1cdbcc6726cb",
    "_uuid": "fde0c572-75b7-462e-b6e8-6d27c4fa849c",
    "collapsed": false,
    "jupyter": {
     "outputs_hidden": false
    },
    "papermill": {
     "duration": 0.007693,
     "end_time": "2025-01-11T15:56:57.784771",
     "exception": false,
     "start_time": "2025-01-11T15:56:57.777078",
     "status": "completed"
    },
    "tags": []
   },
   "source": [
    "# Preprocessing\n",
    "The dataset is not fully cleaned up.\n",
    "### Problems: \n",
    "- Infinite and -infitie values\n",
    "- NaN values\n",
    "- Duplicate values\n",
    "\n",
    "None of these values make sense in the context of network flows. That is why we are going to delete all of them before continuing."
   ]
  },
  {
   "cell_type": "code",
   "execution_count": 5,
   "id": "ba5db0cf",
   "metadata": {
    "_cell_guid": "674dfede-2948-473d-8bd4-c9474626ad0e",
    "_uuid": "4f92aff0-4cb3-41c7-850b-81278d4d75fc",
    "collapsed": false,
    "execution": {
     "iopub.execute_input": "2025-01-11T15:56:57.802578Z",
     "iopub.status.busy": "2025-01-11T15:56:57.802190Z",
     "iopub.status.idle": "2025-01-11T15:56:58.677601Z",
     "shell.execute_reply": "2025-01-11T15:56:58.675917Z"
    },
    "jupyter": {
     "outputs_hidden": false
    },
    "papermill": {
     "duration": 0.886651,
     "end_time": "2025-01-11T15:56:58.679632",
     "exception": false,
     "start_time": "2025-01-11T15:56:57.792981",
     "status": "completed"
    },
    "tags": []
   },
   "outputs": [
    {
     "name": "stdout",
     "output_type": "stream",
     "text": [
      "Columns with infinite values:\n",
      " Flow Bytes/s      115\n",
      "Flow Packets/s    135\n",
      "dtype: int64\n",
      "\n",
      "Columns with NaN values:\n",
      " Flow Bytes/s    20\n",
      "dtype: int64\n",
      "\n",
      "Columns with NaN or infinite values:\n",
      " Flow Bytes/s      135\n",
      "Flow Packets/s    135\n",
      "dtype: int64\n",
      "\n",
      "Number of duplicate rows: 6066\n"
     ]
    }
   ],
   "source": [
    "# Check for infinite values\n",
    "is_inf = df.isin([np.inf, -np.inf])\n",
    "\n",
    "# Count infinite values per column\n",
    "inf_counts = is_inf.sum()\n",
    "\n",
    "# Filter to show only columns with infinite values\n",
    "columns_with_inf = inf_counts[inf_counts > 0]\n",
    "print(\"Columns with infinite values:\\n\",columns_with_inf)\n",
    "\n",
    "# Check for NaN values\n",
    "nan_counts = df.isnull().sum()\n",
    "\n",
    "# Filter to show only columns with NaN values\n",
    "columns_with_nan = nan_counts[nan_counts > 0]\n",
    "print(\"\\nColumns with NaN values:\\n\", columns_with_nan)\n",
    "\n",
    "# Sum NaN and inf counts for each column\n",
    "combined_counts = nan_counts + inf_counts\n",
    "\n",
    "# Filter to show only columns with any NaN or inf values\n",
    "columns_with_nan_or_inf = combined_counts[combined_counts > 0]\n",
    "print(\"\\nColumns with NaN or infinite values:\\n\", columns_with_nan_or_inf)\n",
    "\n",
    "# Check for duplicate rows\n",
    "duplicate_rows_count = df.duplicated().sum()\n",
    "print(\"\\nNumber of duplicate rows:\", duplicate_rows_count)"
   ]
  },
  {
   "cell_type": "code",
   "execution_count": 6,
   "id": "29fd62fd",
   "metadata": {
    "_cell_guid": "8af1ad20-96ed-4560-9c6f-291d65594f4d",
    "_uuid": "7632958c-a0d2-480e-86ee-2b31e7daafd8",
    "collapsed": false,
    "execution": {
     "iopub.execute_input": "2025-01-11T15:56:58.698182Z",
     "iopub.status.busy": "2025-01-11T15:56:58.697734Z",
     "iopub.status.idle": "2025-01-11T15:56:59.213005Z",
     "shell.execute_reply": "2025-01-11T15:56:59.211926Z"
    },
    "jupyter": {
     "outputs_hidden": false
    },
    "papermill": {
     "duration": 0.527155,
     "end_time": "2025-01-11T15:56:59.215371",
     "exception": false,
     "start_time": "2025-01-11T15:56:58.688216",
     "status": "completed"
    },
    "tags": []
   },
   "outputs": [],
   "source": [
    "# First reeplace inf and -inf with NaN so we can delete them all in one step\n",
    "df.replace([np.inf, -np.inf], np.nan, inplace=True)\n",
    "\n",
    "# Drop rows with NaN values\n",
    "df.dropna(inplace=True)\n",
    "\n",
    "# Drop duplicate rows\n",
    "df.drop_duplicates(inplace=True)"
   ]
  },
  {
   "cell_type": "code",
   "execution_count": 7,
   "id": "6c99bab9",
   "metadata": {
    "_cell_guid": "719cd51f-445d-4406-b311-b5cdb74901d4",
    "_uuid": "e102fe97-da17-4ffb-83d6-f8031263616b",
    "collapsed": false,
    "execution": {
     "iopub.execute_input": "2025-01-11T15:56:59.234143Z",
     "iopub.status.busy": "2025-01-11T15:56:59.233738Z",
     "iopub.status.idle": "2025-01-11T15:56:59.261924Z",
     "shell.execute_reply": "2025-01-11T15:56:59.260670Z"
    },
    "jupyter": {
     "outputs_hidden": false
    },
    "papermill": {
     "duration": 0.039799,
     "end_time": "2025-01-11T15:56:59.264120",
     "exception": false,
     "start_time": "2025-01-11T15:56:59.224321",
     "status": "completed"
    },
    "tags": []
   },
   "outputs": [],
   "source": [
    "# Next we are splitting the dataset into to the features (X) and the Labels (y). \n",
    "X = df.drop(columns=['Label'])\n",
    "y = df['Label']"
   ]
  },
  {
   "cell_type": "code",
   "execution_count": 8,
   "id": "0da71440",
   "metadata": {
    "_cell_guid": "fd0c6850-4b05-4386-a651-9f04ef584cec",
    "_uuid": "04fd266e-fc93-4c52-a29c-a1dcca0a79da",
    "collapsed": false,
    "execution": {
     "iopub.execute_input": "2025-01-11T15:56:59.283207Z",
     "iopub.status.busy": "2025-01-11T15:56:59.282773Z",
     "iopub.status.idle": "2025-01-11T15:56:59.295906Z",
     "shell.execute_reply": "2025-01-11T15:56:59.294720Z"
    },
    "jupyter": {
     "outputs_hidden": false
    },
    "papermill": {
     "duration": 0.023968,
     "end_time": "2025-01-11T15:56:59.297486",
     "exception": false,
     "start_time": "2025-01-11T15:56:59.273518",
     "status": "completed"
    },
    "tags": []
   },
   "outputs": [
    {
     "name": "stdout",
     "output_type": "stream",
     "text": [
      "['BENIGN' 'Web Attack � Brute Force' 'Web Attack � XSS'\n",
      " 'Web Attack � Sql Injection']\n"
     ]
    }
   ],
   "source": [
    "# Print all unique label names\n",
    "print(y.unique())"
   ]
  },
  {
   "cell_type": "markdown",
   "id": "a80d2c7d",
   "metadata": {
    "_cell_guid": "d438a8fe-9c86-4e6b-b52d-92202c126d6d",
    "_uuid": "7869ae2a-428c-4a38-b101-470153c01aed",
    "collapsed": false,
    "jupyter": {
     "outputs_hidden": false
    },
    "papermill": {
     "duration": 0.007903,
     "end_time": "2025-01-11T15:56:59.313856",
     "exception": false,
     "start_time": "2025-01-11T15:56:59.305953",
     "status": "completed"
    },
    "tags": []
   },
   "source": [
    "We can see that we have 11 different labels as categories.\n",
    "In our use case, it is not in our interest to know which kind of tool was used for the attack; we only care about whether an attack is happening and what kind of attack it is.\n",
    "If we were interested in which tool was used, we can still analyze the network logs at a later point.\n",
    "For now, we will choose broader categories:\n",
    "\n",
    "**\"BENIGN\"**: Normal network flows. These represent legitimate traffic with no signs of malicious activity.\\\n",
    "**\"BOTNET\"**: Botnet flows. These involve traffic generated by a group of compromised devices controlled by a malicious actor to perform coordinated attacks. \\\n",
    "**\"DOS\"**: Flows that are part of Denial of Service (DoS) attacks. These are intended to overwhelm a network or service, making it unavailable to legitimate users.\\\n",
    "**\"BRUTE_FORCE\"**: Bruteforce flows. This includes attempts to gain unauthorized access by systematically trying multiple combinations of credentials or keys.\\\n",
    "**\"EXPLOITATION\"**: Flows involving the exploitation of vulnerabilities, such as the Heartbleed attack, where weaknesses in software or systems are used to gain unauthorized access or information.\\\n",
    "**\"INFILTRATION\"**: Flows related to infiltration attacks, where an attacker successfully bypasses defenses and gains access to a network or system for further malicious actions.\\\n",
    "**\"RECONNAISSANCE\"**: Flows involving reconnaissance activities, such as PortScan attacks, where the attacker is probing the network to gather information about potential vulnerabilities or open ports.\\\n",
    "**\"WEB_ATTACK\"**: Flows involving web-based attacks, such as Brute Force, SQL Injection, and Cross-Site Scripting (XSS).\n",
    "\n",
    "These are targeted at web applications to steal data, gain unauthorized access, or inject malicious scripts.\n",
    "By categorizing our data into these broader attack types, we can focus on the type of attack rather than the specific tools or methods used, allowing us to detect and respond to malicious activities more effectively."
   ]
  },
  {
   "cell_type": "code",
   "execution_count": 9,
   "id": "a65dd641",
   "metadata": {
    "_cell_guid": "a5906317-9e7b-45c3-9c0b-67d5a16f0562",
    "_uuid": "abebf24a-3675-47d2-885b-626967752428",
    "collapsed": false,
    "execution": {
     "iopub.execute_input": "2025-01-11T15:56:59.331530Z",
     "iopub.status.busy": "2025-01-11T15:56:59.331141Z",
     "iopub.status.idle": "2025-01-11T15:56:59.356019Z",
     "shell.execute_reply": "2025-01-11T15:56:59.354763Z"
    },
    "jupyter": {
     "outputs_hidden": false
    },
    "papermill": {
     "duration": 0.036095,
     "end_time": "2025-01-11T15:56:59.358048",
     "exception": false,
     "start_time": "2025-01-11T15:56:59.321953",
     "status": "completed"
    },
    "tags": []
   },
   "outputs": [
    {
     "name": "stdout",
     "output_type": "stream",
     "text": [
      "['BENIGN' 'WEB_ATTACK']\n"
     ]
    }
   ],
   "source": [
    "category_mapping = {\n",
    "    'BENIGN': 'BENIGN',\n",
    "    'Bot': 'BOTNET',\n",
    "    'DDoS': 'DOS',\n",
    "    'DoS GoldenEye': 'DOS',\n",
    "    'DoS Hulk': 'DOS',\n",
    "    'DoS Slowhttptest': 'DOS',\n",
    "    'DoS slowloris': 'DOS',\n",
    "    'FTP-Patator': 'BRUTE_FORCE',\n",
    "    'SSH-Patator': 'BRUTE_FORCE',\n",
    "    'Heartbleed': 'EXPLOITATION',\n",
    "    'Infiltration': 'INFILTRATION',\n",
    "    'PortScan': 'RECONNAISSANCE',\n",
    "    'Web Attack � Brute Force': 'WEB_ATTACK',\n",
    "    'Web Attack � Sql Injection': 'WEB_ATTACK',\n",
    "    'Web Attack � XSS': 'WEB_ATTACK'\n",
    "}\n",
    "\n",
    "y = y.map(category_mapping)\n",
    "print(y.unique())"
   ]
  },
  {
   "cell_type": "code",
   "execution_count": 10,
   "id": "b65d4dc7",
   "metadata": {
    "_cell_guid": "d2b4cda9-41de-4e00-ae70-00fd9e3c1d74",
    "_uuid": "70daa6e3-5593-46d4-963b-8736633b7824",
    "collapsed": false,
    "execution": {
     "iopub.execute_input": "2025-01-11T15:56:59.376828Z",
     "iopub.status.busy": "2025-01-11T15:56:59.376409Z",
     "iopub.status.idle": "2025-01-11T15:57:00.959536Z",
     "shell.execute_reply": "2025-01-11T15:57:00.958204Z"
    },
    "jupyter": {
     "outputs_hidden": false
    },
    "papermill": {
     "duration": 1.594813,
     "end_time": "2025-01-11T15:57:00.961682",
     "exception": false,
     "start_time": "2025-01-11T15:56:59.366869",
     "status": "completed"
    },
    "tags": []
   },
   "outputs": [],
   "source": [
    "from sklearn.model_selection import train_test_split\n",
    "\n",
    "# Splitting the features and Labels into train and test data using a 60/40 split\n",
    "X_train, X_test, y_train, y_test = train_test_split(X, y, test_size=0.4, random_state=42)"
   ]
  },
  {
   "cell_type": "markdown",
   "id": "9280ba77",
   "metadata": {
    "_cell_guid": "b82bd73f-1dac-4a6e-879d-a34d1e6a0db3",
    "_uuid": "6967df43-946b-47a6-ba58-cffc2e10d986",
    "collapsed": false,
    "jupyter": {
     "outputs_hidden": false
    },
    "papermill": {
     "duration": 0.007606,
     "end_time": "2025-01-11T15:57:00.977712",
     "exception": false,
     "start_time": "2025-01-11T15:57:00.970106",
     "status": "completed"
    },
    "tags": []
   },
   "source": [
    "# Training/Feature selection\n",
    "To reduce the computation time we will first train a model without hyperparameter tuning and extract the most relevant features. This will reduce the dataset complexity for the hyperparemeter tuning. This idea is based on the finding of Kurniabudi et al, 2020 that the accuracy will not increase when using more the 22 feeatures and also the increase in completion time when using more features. \n",
    "\n",
    "The random forest classifier was choosen based on the performance descipted in Kurniabudi et al., “CICIDS-2017 Dataset Feature Analysis With Information Gain for Anomaly Detection.”\n",
    "The default 100 estimators were halfed to 50 estimators the reduce computation time."
   ]
  },
  {
   "cell_type": "code",
   "execution_count": 11,
   "id": "99f2339a",
   "metadata": {
    "_cell_guid": "86be8e18-6e26-4ed2-b39f-7edd1e742ee6",
    "_uuid": "1add8d2b-cd07-446c-b0a9-d022e6b3e456",
    "collapsed": false,
    "execution": {
     "iopub.execute_input": "2025-01-11T15:57:00.995116Z",
     "iopub.status.busy": "2025-01-11T15:57:00.994454Z",
     "iopub.status.idle": "2025-01-11T15:57:09.503362Z",
     "shell.execute_reply": "2025-01-11T15:57:09.501976Z"
    },
    "jupyter": {
     "outputs_hidden": false
    },
    "papermill": {
     "duration": 8.519888,
     "end_time": "2025-01-11T15:57:09.505433",
     "exception": false,
     "start_time": "2025-01-11T15:57:00.985545",
     "status": "completed"
    },
    "tags": []
   },
   "outputs": [],
   "source": [
    "from sklearn.ensemble import RandomForestClassifier\n",
    "from sklearn.pipeline import Pipeline\n",
    "\n",
    "rf = RandomForestClassifier(n_estimators=50, random_state=42)\n",
    "rf.fit(X_train, y_train)\n",
    "y_pred = rf.predict(X_test)"
   ]
  },
  {
   "cell_type": "markdown",
   "id": "e2e07a00",
   "metadata": {
    "_cell_guid": "e4e23116-395b-4ea6-b9cc-74cdc8f74aa0",
    "_uuid": "e2fce5c0-97e5-43dd-b1c6-19cd99373052",
    "collapsed": false,
    "jupyter": {
     "outputs_hidden": false
    },
    "papermill": {
     "duration": 0.007651,
     "end_time": "2025-01-11T15:57:09.521424",
     "exception": false,
     "start_time": "2025-01-11T15:57:09.513773",
     "status": "completed"
    },
    "tags": []
   },
   "source": [
    "TODO when using the whole dataset"
   ]
  },
  {
   "cell_type": "code",
   "execution_count": 12,
   "id": "c18d0e27",
   "metadata": {
    "_cell_guid": "0debfecd-f6b8-40e2-87ed-e9e081a2519d",
    "_uuid": "6b2f2015-09c4-40e9-a809-ed62ea2d0e95",
    "collapsed": false,
    "execution": {
     "iopub.execute_input": "2025-01-11T15:57:09.539393Z",
     "iopub.status.busy": "2025-01-11T15:57:09.539043Z",
     "iopub.status.idle": "2025-01-11T15:57:14.824988Z",
     "shell.execute_reply": "2025-01-11T15:57:14.823646Z"
    },
    "jupyter": {
     "outputs_hidden": false
    },
    "papermill": {
     "duration": 5.297402,
     "end_time": "2025-01-11T15:57:14.827238",
     "exception": false,
     "start_time": "2025-01-11T15:57:09.529836",
     "status": "completed"
    },
    "tags": []
   },
   "outputs": [
    {
     "name": "stdout",
     "output_type": "stream",
     "text": [
      "              precision    recall  f1-score   support\n",
      "\n",
      "      BENIGN     0.9998    1.0000    0.9999     64836\n",
      "  WEB_ATTACK     1.0000    0.9833    0.9916       836\n",
      "\n",
      "    accuracy                         0.9998     65672\n",
      "   macro avg     0.9999    0.9916    0.9957     65672\n",
      "weighted avg     0.9998    0.9998    0.9998     65672\n",
      "\n"
     ]
    }
   ],
   "source": [
    "from sklearn.metrics import classification_report\n",
    "\n",
    "print(classification_report(y_test, y_pred, digits=4))\n",
    "rf_all_report = classification_report(y_test, y_pred, digits=4, output_dict=True)"
   ]
  },
  {
   "cell_type": "code",
   "execution_count": 13,
   "id": "fc7118d7",
   "metadata": {
    "_cell_guid": "ffe2a7b2-6531-45b0-8ae8-448d34a78f25",
    "_uuid": "917f025b-375b-4cfe-8e66-7624a41b9b5d",
    "collapsed": false,
    "execution": {
     "iopub.execute_input": "2025-01-11T15:57:14.847747Z",
     "iopub.status.busy": "2025-01-11T15:57:14.847334Z",
     "iopub.status.idle": "2025-01-11T15:57:15.449520Z",
     "shell.execute_reply": "2025-01-11T15:57:15.448321Z"
    },
    "jupyter": {
     "outputs_hidden": false
    },
    "papermill": {
     "duration": 0.616511,
     "end_time": "2025-01-11T15:57:15.453656",
     "exception": false,
     "start_time": "2025-01-11T15:57:14.837145",
     "status": "completed"
    },
    "tags": []
   },
   "outputs": [
    {
     "data": {
      "image/png": "[encoded data removed]",
      "text/plain": [
       "<Figure size 1500x1000 with 1 Axes>"
      ]
     },
     "metadata": {},
     "output_type": "display_data"
    },
    {
     "name": "stdout",
     "output_type": "stream",
     "text": [
      "\n",
      "Top 22 Most Important Features:\n",
      "                    feature  importance\n",
      "                Fwd IAT Min    0.131767\n",
      "    Init_Win_bytes_backward    0.098649\n",
      "               Flow IAT Min    0.091798\n",
      "             Flow Packets/s    0.046867\n",
      "               Fwd IAT Mean    0.045638\n",
      "          Fwd Header Length    0.044611\n",
      "              Fwd Packets/s    0.038663\n",
      "              Flow IAT Mean    0.036492\n",
      "         Packet Length Mean    0.028156\n",
      "               Flow IAT Std    0.026504\n",
      "        Average Packet Size    0.026138\n",
      "     Init_Win_bytes_forward    0.025198\n",
      "      Fwd Packet Length Max    0.024798\n",
      "          Max Packet Length    0.024673\n",
      "           Destination Port    0.022889\n",
      "                Fwd IAT Max    0.022625\n",
      "     Fwd Packet Length Mean    0.021907\n",
      "       Avg Fwd Segment Size    0.020524\n",
      "          Bwd Header Length    0.019609\n",
      "Total Length of Fwd Packets    0.018630\n",
      "              Fwd IAT Total    0.017302\n",
      "                Fwd IAT Std    0.016236\n"
     ]
    }
   ],
   "source": [
    "# Adjust here the number of features\n",
    "num_of_features = 22\n",
    "\n",
    "# get the feature importances from the model\n",
    "importances = rf.feature_importances_\n",
    "feature_names = X.columns\n",
    "\n",
    "# contruct featuere importance dataframe and sort it descending\n",
    "feature_importance = pd.DataFrame({\n",
    "    'feature': feature_names,\n",
    "    'importance': importances\n",
    "}).sort_values('importance', ascending=False)\n",
    "\n",
    "# Create plot\n",
    "plt.figure(figsize=(15, 10))\n",
    "plt.bar(range(num_of_features), feature_importance['importance'][:num_of_features])\n",
    "plt.xticks(range(num_of_features), feature_importance['feature'][:num_of_features], rotation=45, ha='right')\n",
    "plt.xlabel('Features')\n",
    "plt.ylabel('Importance Score')\n",
    "plt.title(f'Top {num_of_features} Most Important Features')\n",
    "plt.tight_layout()\n",
    "plt.show()\n",
    "\n",
    "print(f\"\\nTop {num_of_features} Most Important Features:\")\n",
    "print(feature_importance.head(num_of_features).to_string(index=False))"
   ]
  },
  {
   "cell_type": "markdown",
   "id": "24c8e2ec",
   "metadata": {
    "_cell_guid": "5a0a1b7d-b63a-454b-b6fa-4c3d3118c049",
    "_uuid": "b0ca13e9-2087-430f-bb0c-56d9bb71dd01",
    "collapsed": false,
    "jupyter": {
     "outputs_hidden": false
    },
    "papermill": {
     "duration": 0.010642,
     "end_time": "2025-01-11T15:57:15.475992",
     "exception": false,
     "start_time": "2025-01-11T15:57:15.465350",
     "status": "completed"
    },
    "tags": []
   },
   "source": [
    "The feature importances are pretty similiar to Kurniabudi et al., 2020 but differences are possibly due to slighty different calculation methods.  Sci kitlearn uses feature importance based on mean decrease in impurity and Kurniabudi et al., 2020 uses informtion gain. \n",
    "In addition in Kurniabudi et al., 2020 were only 20% of the dataset used which can lead to differences"
   ]
  },
  {
   "cell_type": "code",
   "execution_count": 14,
   "id": "173d9ed0",
   "metadata": {
    "_cell_guid": "f0a8611f-6ae6-436b-b914-bece02f171f0",
    "_uuid": "0942fb05-a31c-4606-bb30-6effc79f6896",
    "collapsed": false,
    "execution": {
     "iopub.execute_input": "2025-01-11T15:57:15.499636Z",
     "iopub.status.busy": "2025-01-11T15:57:15.499262Z",
     "iopub.status.idle": "2025-01-11T15:57:15.513880Z",
     "shell.execute_reply": "2025-01-11T15:57:15.512436Z"
    },
    "jupyter": {
     "outputs_hidden": false
    },
    "papermill": {
     "duration": 0.029128,
     "end_time": "2025-01-11T15:57:15.516224",
     "exception": false,
     "start_time": "2025-01-11T15:57:15.487096",
     "status": "completed"
    },
    "tags": []
   },
   "outputs": [],
   "source": [
    "# Get top features based on importance\n",
    "top_features = feature_importance['feature'][:num_of_features]\n",
    "\n",
    "# Filter the original DataFrame to retain only the top features\n",
    "X_top = X[top_features] \n",
    "\n",
    "# not needed but for naming purposes  \n",
    "y_top = y"
   ]
  },
  {
   "cell_type": "code",
   "execution_count": 15,
   "id": "99b3b6e0",
   "metadata": {
    "_cell_guid": "1bbdb396-5111-48be-bd5b-c90c015c99f9",
    "_uuid": "8f958a17-f64c-4422-abc6-72571e8cee47",
    "collapsed": false,
    "execution": {
     "iopub.execute_input": "2025-01-11T15:57:15.539586Z",
     "iopub.status.busy": "2025-01-11T15:57:15.539192Z",
     "iopub.status.idle": "2025-01-11T15:57:15.581760Z",
     "shell.execute_reply": "2025-01-11T15:57:15.580563Z"
    },
    "jupyter": {
     "outputs_hidden": false
    },
    "papermill": {
     "duration": 0.056915,
     "end_time": "2025-01-11T15:57:15.584279",
     "exception": false,
     "start_time": "2025-01-11T15:57:15.527364",
     "status": "completed"
    },
    "tags": []
   },
   "outputs": [],
   "source": [
    "# make new train test splits only using the top features\n",
    "X_train_top, X_test_top, y_train_top, y_test_top = train_test_split(X_top, y_top, test_size=0.3, random_state=42)"
   ]
  },
  {
   "cell_type": "markdown",
   "id": "db4c68df",
   "metadata": {
    "_cell_guid": "79811311-8c87-4b98-b038-5581a81b5c8c",
    "_uuid": "9648ebd4-1e56-40ff-90bc-4b47daef1b1b",
    "collapsed": false,
    "jupyter": {
     "outputs_hidden": false
    },
    "papermill": {
     "duration": 0.010544,
     "end_time": "2025-01-11T15:57:15.606019",
     "exception": false,
     "start_time": "2025-01-11T15:57:15.595475",
     "status": "completed"
    },
    "tags": []
   },
   "source": [
    "TODO \n",
    "Check differences to rf with all features"
   ]
  },
  {
   "cell_type": "code",
   "execution_count": 16,
   "id": "05942a31",
   "metadata": {
    "_cell_guid": "1c573c61-9f0b-4b9b-8ebb-64773a3bdc18",
    "_uuid": "07889de7-092e-4d9f-ac4f-37fc20fc71c1",
    "collapsed": false,
    "execution": {
     "iopub.execute_input": "2025-01-11T15:57:15.629668Z",
     "iopub.status.busy": "2025-01-11T15:57:15.629279Z",
     "iopub.status.idle": "2025-01-11T15:57:25.401850Z",
     "shell.execute_reply": "2025-01-11T15:57:25.400563Z"
    },
    "jupyter": {
     "outputs_hidden": false
    },
    "papermill": {
     "duration": 9.787261,
     "end_time": "2025-01-11T15:57:25.404344",
     "exception": false,
     "start_time": "2025-01-11T15:57:15.617083",
     "status": "completed"
    },
    "tags": []
   },
   "outputs": [
    {
     "name": "stdout",
     "output_type": "stream",
     "text": [
      "              precision    recall  f1-score   support\n",
      "\n",
      "      BENIGN     0.9998    1.0000    0.9999     48646\n",
      "  WEB_ATTACK     1.0000    0.9819    0.9909       608\n",
      "\n",
      "    accuracy                         0.9998     49254\n",
      "   macro avg     0.9999    0.9910    0.9954     49254\n",
      "weighted avg     0.9998    0.9998    0.9998     49254\n",
      "\n"
     ]
    }
   ],
   "source": [
    "rf_top = RandomForestClassifier(n_estimators=50, random_state=42)\n",
    "rf_top.fit(X_train_top, y_train_top)\n",
    "y_pred_top = rf_top.predict(X_test_top)\n",
    "print(classification_report(y_test_top, y_pred_top, digits=4))\n",
    "rf_top_report = classification_report(y_test_top, y_pred_top, digits=4,output_dict=True)"
   ]
  },
  {
   "cell_type": "code",
   "execution_count": 17,
   "id": "345eb36c",
   "metadata": {
    "_cell_guid": "055d82a5-cb7f-4605-88f0-26f98d65e03c",
    "_uuid": "9c38bae9-2f20-4e54-9548-e09e0b1d5bee",
    "collapsed": false,
    "execution": {
     "iopub.execute_input": "2025-01-11T15:57:25.428702Z",
     "iopub.status.busy": "2025-01-11T15:57:25.428310Z",
     "iopub.status.idle": "2025-01-11T16:00:48.825905Z",
     "shell.execute_reply": "2025-01-11T16:00:48.824269Z"
    },
    "jupyter": {
     "outputs_hidden": false
    },
    "papermill": {
     "duration": 203.422999,
     "end_time": "2025-01-11T16:00:48.838922",
     "exception": false,
     "start_time": "2025-01-11T15:57:25.415923",
     "status": "completed"
    },
    "tags": []
   },
   "outputs": [
    {
     "name": "stdout",
     "output_type": "stream",
     "text": [
      "n_iterations: 4\n",
      "n_required_iterations: 4\n",
      "n_possible_iterations: 4\n",
      "min_resources_: 4256\n",
      "max_resources_: 114925\n",
      "aggressive_elimination: False\n",
      "factor: 3\n",
      "----------\n",
      "iter: 0\n",
      "n_candidates: 50\n",
      "n_resources: 4256\n",
      "Fitting 5 folds for each of 50 candidates, totalling 250 fits\n",
      "----------\n",
      "iter: 1\n",
      "n_candidates: 17\n",
      "n_resources: 12768\n",
      "Fitting 5 folds for each of 17 candidates, totalling 85 fits\n",
      "----------\n",
      "iter: 2\n",
      "n_candidates: 6\n",
      "n_resources: 38304\n",
      "Fitting 5 folds for each of 6 candidates, totalling 30 fits\n",
      "----------\n",
      "iter: 3\n",
      "n_candidates: 2\n",
      "n_resources: 114912\n",
      "Fitting 5 folds for each of 2 candidates, totalling 10 fits\n",
      "\n",
      "Grid Search Best Params: {'max_depth': 13, 'n_estimators': 150}\n"
     ]
    }
   ],
   "source": [
    "from sklearn.experimental import enable_halving_search_cv\n",
    "from sklearn.model_selection import HalvingGridSearchCV\n",
    "# parameters to use in the grid search\n",
    "params = {\n",
    "    'max_depth': range(10, 20),\n",
    "    'n_estimators': [10, 50, 100, 150, 200],\n",
    "}\n",
    "\n",
    "rf_grid = HalvingGridSearchCV(\n",
    "    rf_top,\n",
    "    params,\n",
    "    cv=5,\n",
    "    scoring='accuracy',\n",
    "    verbose=1,\n",
    "    return_train_score=True,\n",
    "    n_jobs=-1\n",
    ")\n",
    "\n",
    "rf_grid.fit(X_train_top, y_train_top)\n",
    "\n",
    "print(\"\\nGrid Search Best Params:\", rf_grid.best_params_)"
   ]
  },
  {
   "cell_type": "code",
   "execution_count": 18,
   "id": "8b44f965",
   "metadata": {
    "_cell_guid": "15475629-bcc1-4186-9ca2-8d8941d9ebd4",
    "_uuid": "6e6e204b-8398-4cb1-9825-ac31a3eac7a1",
    "collapsed": false,
    "execution": {
     "iopub.execute_input": "2025-01-11T16:00:48.863933Z",
     "iopub.status.busy": "2025-01-11T16:00:48.863463Z",
     "iopub.status.idle": "2025-01-11T16:00:53.252663Z",
     "shell.execute_reply": "2025-01-11T16:00:53.251294Z"
    },
    "jupyter": {
     "outputs_hidden": false
    },
    "papermill": {
     "duration": 4.404454,
     "end_time": "2025-01-11T16:00:53.254881",
     "exception": false,
     "start_time": "2025-01-11T16:00:48.850427",
     "status": "completed"
    },
    "tags": []
   },
   "outputs": [
    {
     "name": "stdout",
     "output_type": "stream",
     "text": [
      "              precision    recall  f1-score   support\n",
      "\n",
      "      BENIGN       1.00      1.00      1.00     48646\n",
      "  WEB_ATTACK       1.00      0.98      0.99       608\n",
      "\n",
      "    accuracy                           1.00     49254\n",
      "   macro avg       1.00      0.99      1.00     49254\n",
      "weighted avg       1.00      1.00      1.00     49254\n",
      "\n"
     ]
    }
   ],
   "source": [
    "# get the best model found in the grid search\n",
    "rf_best_model = rf_grid.best_estimator_\n",
    "\n",
    "# use it to predict on the test data\n",
    "y_pred_top = rf_best_model.predict(X_test_top)\n",
    "\n",
    "print(classification_report(y_test_top, y_pred_top))\n",
    "rf_best_report = classification_report(y_test_top, y_pred_top, digits=4, output_dict=True)"
   ]
  },
  {
   "cell_type": "code",
   "execution_count": 19,
   "id": "56d3b6ec",
   "metadata": {
    "_cell_guid": "08c38127-2f3e-4589-83eb-091a7e4a25d6",
    "_uuid": "e161d3aa-db0b-4f33-ac28-443e9405de1c",
    "collapsed": false,
    "execution": {
     "iopub.execute_input": "2025-01-11T16:00:53.278482Z",
     "iopub.status.busy": "2025-01-11T16:00:53.278063Z",
     "iopub.status.idle": "2025-01-11T16:00:54.344665Z",
     "shell.execute_reply": "2025-01-11T16:00:54.343458Z"
    },
    "jupyter": {
     "outputs_hidden": false
    },
    "papermill": {
     "duration": 1.080992,
     "end_time": "2025-01-11T16:00:54.346969",
     "exception": false,
     "start_time": "2025-01-11T16:00:53.265977",
     "status": "completed"
    },
    "tags": []
   },
   "outputs": [
    {
     "name": "stdout",
     "output_type": "stream",
     "text": [
      "              precision    recall  f1-score   support\n",
      "\n",
      "           0     0.9999    1.0000    1.0000     64815\n",
      "           1     0.9977    0.9953    0.9965       857\n",
      "\n",
      "    accuracy                         0.9999     65672\n",
      "   macro avg     0.9988    0.9977    0.9982     65672\n",
      "weighted avg     0.9999    0.9999    0.9999     65672\n",
      "\n"
     ]
    }
   ],
   "source": [
    "from xgboost import XGBClassifier\n",
    "from sklearn.preprocessing import LabelEncoder\n",
    "from sklearn.model_selection import train_test_split\n",
    "from sklearn.metrics import classification_report\n",
    "\n",
    "# Enocde label names into numeric values which is required for xgb boost\n",
    "label_encoder = LabelEncoder()\n",
    "y_encoded = label_encoder.fit_transform(y)\n",
    "\n",
    "# split into new test, train data (might not be needed)\n",
    "X_train_top_xgb, X_test_top_xgb, y_train_top_xgb, y_test_top_xgb = train_test_split(\n",
    "    X_top, \n",
    "    y_encoded, \n",
    "    test_size=0.4, \n",
    "    random_state=42,\n",
    "    stratify=y_encoded  # if you want to preserve class proportions\n",
    ")\n",
    "\n",
    "xgb_top = XGBClassifier(n_estimators=50, random_state=42, eval_metric='logloss')\n",
    "xgb_top.fit(X_train_top_xgb, y_train_top_xgb)\n",
    "\n",
    "y_pred_top_xgb = xgb_top.predict(X_test_top_xgb)\n",
    "\n",
    "print(classification_report(y_test_top_xgb, y_pred_top_xgb, digits=4))\n",
    "xgb_top_report = classification_report(y_test_top_xgb, y_pred_top_xgb, digits=4,output_dict=True)"
   ]
  },
  {
   "cell_type": "code",
   "execution_count": 20,
   "id": "4d26ba9a",
   "metadata": {
    "_cell_guid": "2a1b8f61-18f2-4858-a3d7-afcdbbe9e68f",
    "_uuid": "42e5de4d-b77c-4305-a297-b7d52a39f083",
    "collapsed": false,
    "execution": {
     "iopub.execute_input": "2025-01-11T16:00:54.371940Z",
     "iopub.status.busy": "2025-01-11T16:00:54.371517Z",
     "iopub.status.idle": "2025-01-11T16:01:48.382169Z",
     "shell.execute_reply": "2025-01-11T16:01:48.379193Z"
    },
    "jupyter": {
     "outputs_hidden": false
    },
    "papermill": {
     "duration": 54.025654,
     "end_time": "2025-01-11T16:01:48.384586",
     "exception": false,
     "start_time": "2025-01-11T16:00:54.358932",
     "status": "completed"
    },
    "tags": []
   },
   "outputs": [
    {
     "name": "stdout",
     "output_type": "stream",
     "text": [
      "n_iterations: 5\n",
      "n_required_iterations: 5\n",
      "n_possible_iterations: 5\n",
      "min_resources_: 1216\n",
      "max_resources_: 98507\n",
      "aggressive_elimination: False\n",
      "factor: 3\n",
      "----------\n",
      "iter: 0\n",
      "n_candidates: 117\n",
      "n_resources: 1216\n",
      "Fitting 5 folds for each of 117 candidates, totalling 585 fits\n",
      "----------\n",
      "iter: 1\n",
      "n_candidates: 39\n",
      "n_resources: 3648\n",
      "Fitting 5 folds for each of 39 candidates, totalling 195 fits\n",
      "----------\n",
      "iter: 2\n",
      "n_candidates: 13\n",
      "n_resources: 10944\n",
      "Fitting 5 folds for each of 13 candidates, totalling 65 fits\n",
      "----------\n",
      "iter: 3\n",
      "n_candidates: 5\n",
      "n_resources: 32832\n",
      "Fitting 5 folds for each of 5 candidates, totalling 25 fits\n",
      "----------\n",
      "iter: 4\n",
      "n_candidates: 2\n",
      "n_resources: 98496\n",
      "Fitting 5 folds for each of 2 candidates, totalling 10 fits\n",
      "\n",
      "Grid Search Best Params: {'learning_rate': 0.1, 'max_depth': 7, 'n_estimators': 100}\n"
     ]
    }
   ],
   "source": [
    "# Parameters for grid search\n",
    "params = {\n",
    "    'max_depth': range(7, 20),\n",
    "    'n_estimators': [100, 150, 200],\n",
    "    'learning_rate': [0.3, 0.1, 0.01]\n",
    "}\n",
    "\n",
    "xgb_grid = HalvingGridSearchCV(\n",
    "    estimator=xgb_top,\n",
    "    param_grid=params,\n",
    "    cv=5,\n",
    "    scoring='accuracy',\n",
    "    verbose=1,\n",
    "    return_train_score=True,\n",
    "    n_jobs=-1\n",
    ")\n",
    "\n",
    "xgb_grid.fit(X_train_top_xgb, y_train_top_xgb)\n",
    "\n",
    "print(\"\\nGrid Search Best Params:\", xgb_grid.best_params_)"
   ]
  },
  {
   "cell_type": "code",
   "execution_count": 21,
   "id": "24d91423",
   "metadata": {
    "_cell_guid": "226186ee-cf0e-4929-8a44-727acb1fdfbe",
    "_uuid": "126b771c-eedb-4598-b10e-437c1b20d05d",
    "collapsed": false,
    "execution": {
     "iopub.execute_input": "2025-01-11T16:01:48.411813Z",
     "iopub.status.busy": "2025-01-11T16:01:48.411370Z",
     "iopub.status.idle": "2025-01-11T16:01:48.699176Z",
     "shell.execute_reply": "2025-01-11T16:01:48.697593Z"
    },
    "jupyter": {
     "outputs_hidden": false
    },
    "papermill": {
     "duration": 0.30313,
     "end_time": "2025-01-11T16:01:48.701369",
     "exception": false,
     "start_time": "2025-01-11T16:01:48.398239",
     "status": "completed"
    },
    "tags": []
   },
   "outputs": [
    {
     "name": "stdout",
     "output_type": "stream",
     "text": [
      "              precision    recall  f1-score   support\n",
      "\n",
      "           0     0.9999    1.0000    1.0000     64815\n",
      "           1     1.0000    0.9942    0.9971       857\n",
      "\n",
      "    accuracy                         0.9999     65672\n",
      "   macro avg     1.0000    0.9971    0.9985     65672\n",
      "weighted avg     0.9999    0.9999    0.9999     65672\n",
      "\n"
     ]
    }
   ],
   "source": [
    "xgb_best_model = xgb_grid.best_estimator_\n",
    "\n",
    "y_pred_top_xgb = xgb_best_model.predict(X_test_top_xgb)\n",
    "\n",
    "print(classification_report(y_test_top_xgb, y_pred_top_xgb, digits=4))\n",
    "xgb_best_report= classification_report(y_test_top_xgb, y_pred_top_xgb, digits=4, output_dict=True)\n",
    "\n",
    "\n"
   ]
  },
  {
   "cell_type": "code",
   "execution_count": 22,
   "id": "95a1b543",
   "metadata": {
    "execution": {
     "iopub.execute_input": "2025-01-11T16:01:48.726618Z",
     "iopub.status.busy": "2025-01-11T16:01:48.726245Z",
     "iopub.status.idle": "2025-01-11T16:01:49.037321Z",
     "shell.execute_reply": "2025-01-11T16:01:49.036066Z"
    },
    "papermill": {
     "duration": 0.325861,
     "end_time": "2025-01-11T16:01:49.039176",
     "exception": false,
     "start_time": "2025-01-11T16:01:48.713315",
     "status": "completed"
    },
    "tags": []
   },
   "outputs": [
    {
     "data": {
      "image/png": "[encoded data removed]",
      "text/plain": [
       "<Figure size 1000x600 with 1 Axes>"
      ]
     },
     "metadata": {},
     "output_type": "display_data"
    }
   ],
   "source": [
    "# put all reports in a list\n",
    "reports = [rf_all_report, rf_top_report, rf_best_report, xgb_top_report, xgb_best_report]\n",
    "\n",
    "model_names = [\"rf_all\", \"rf_top\", \"rf_best\", \"xgb_top\", \"xgb_best\"]\n",
    "\n",
    "# Initialize an empty DataFrame\n",
    "comparison_df = pd.DataFrame(\n",
    "    columns=[\"precision\", \"recall\", \"f1-score\"], \n",
    "    index=model_names\n",
    ")\n",
    "\n",
    "for name, report in zip(model_names, reports):\n",
    "    # 'macro avg' is a key in the dictionary\n",
    "    macro_avg = report[\"macro avg\"]\n",
    "    comparison_df.loc[name, \"precision\"] = macro_avg[\"precision\"]\n",
    "    comparison_df.loc[name, \"recall\"]    = macro_avg[\"recall\"]\n",
    "    comparison_df.loc[name, \"f1-score\"]  = macro_avg[\"f1-score\"]\n",
    "\n",
    "comparison_df.plot.bar(figsize=(10, 6))\n",
    "plt.title(\"Macro-Average Scores Comparison\")\n",
    "plt.ylabel(\"Score\")\n",
    "plt.ylim([0.95, 1])\n",
    "plt.xticks(rotation=0)\n",
    "plt.legend(loc=\"lower right\")\n",
    "plt.show()\n"
   ]
  },
  {
   "cell_type": "markdown",
   "id": "63dcd209",
   "metadata": {
    "_cell_guid": "f57fd6b3-3db9-4a54-9402-aa4b342772f0",
    "_uuid": "e62fba12-2d81-41e8-b614-e05758420b27",
    "collapsed": false,
    "jupyter": {
     "outputs_hidden": false
    },
    "papermill": {
     "duration": 0.012138,
     "end_time": "2025-01-11T16:01:49.063909",
     "exception": false,
     "start_time": "2025-01-11T16:01:49.051771",
     "status": "completed"
    },
    "tags": []
   },
   "source": [
    "# Citations\n",
    "Kurniabudi, Deris Stiawan, Darmawijoyo, Mohd Yazid Bin Idris, Alwi M. Bamhdi, and Rahmat Budiarto. “CICIDS-2017 Dataset Feature Analysis With Information Gain for Anomaly Detection.” IEEE Access 8 (2020): 132911–21. https://doi.org/10.1109/ACCESS.2020.3009843."
   ]
  }
 ],
 "metadata": {
  "kaggle": {
   "accelerator": "none",
   "dataSources": [
    {
     "datasetId": 3674161,
     "sourceId": 6376134,
     "sourceType": "datasetVersion"
    }
   ],
   "dockerImageVersionId": 30822,
   "isGpuEnabled": false,
   "isInternetEnabled": true,
   "language": "python",
   "sourceType": "notebook"
  },
  "kernelspec": {
   "display_name": "Python 3",
   "language": "python",
   "name": "python3"
  },
  "language_info": {
   "codemirror_mode": {
    "name": "ipython",
    "version": 3
   },
   "file_extension": ".py",
   "mimetype": "text/x-python",
   "name": "python",
   "nbconvert_exporter": "python",
   "pygments_lexer": "ipython3",
   "version": "3.10.12"
  },
  "papermill": {
   "default_parameters": {},
   "duration": 329.942066,
   "end_time": "2025-01-11T16:01:50.005272",
   "environment_variables": {},
   "exception": null,
   "input_path": "__notebook__.ipynb",
   "output_path": "__notebook__.ipynb",
   "parameters": {},
   "start_time": "2025-01-11T15:56:20.063206",
   "version": "2.6.0"
  }
 },
 "nbformat": 4,
 "nbformat_minor": 5
}
