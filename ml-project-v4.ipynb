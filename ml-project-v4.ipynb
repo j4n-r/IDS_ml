{
 "cells": [
  {
   "cell_type": "markdown",
   "id": "9c71b7d9",
   "metadata": {
    "_cell_guid": "33d91d3f-62fb-432e-ad65-767fa65e955d",
    "_uuid": "532f01fd-0e99-4faf-b679-93c083d3a59c",
    "collapsed": false,
    "jupyter": {
     "outputs_hidden": false
    },
    "papermill": {
     "duration": 0.008896,
     "end_time": "2025-01-19T17:31:53.459174",
     "exception": false,
     "start_time": "2025-01-19T17:31:53.450278",
     "status": "completed"
    },
    "tags": []
   },
   "source": [
    "\n",
    "# NIDS_ML\n",
    "Network Intrussion Detection Sytem using Machine learning\n",
    "\n",
    "Dataset: CIC-IDS2017\n",
    "Group members:\n",
    "\n",
    "### NIDS_ML\n",
    "Network Intrussion Detection Sytem using Machine learning\n",
    "\n",
    "Dataset: CIC-IDS2017\n",
    "Group members:\n",
    "\n",
    "Business Understanding\n",
    "Goal: Classification of network traffic (flows) as malicous or benign\n",
    "\n",
    "In the ever growing world of network infrastructure and internet of things companies have to rely on automatic intrusion detection systems to filter out malicous traffic. Machine learning is arguebly the best tool to provide realtime/near-realtime classification of network traffic.Business Understanding\n",
    "Goal: Clssification of network traffic (flows) as malicous or benign\n",
    "\n",
    "In the ever growing world of network infrastructure and internet of things companies have to rely on automatic intrusion detection systems to filter out malicous traffic. Machine learning is arguebly the best tool to provide realtime/near-realtime classification of network traffic.\n",
    "\n",
    "# Outlook\n",
    "We are doing Multiclass Classification\n",
    "\n",
    "### Planned Procedure\n",
    "1. Choose data sample (everything, shuffled subsample, only one day).\n",
    "2. Get information.\n",
    "3. Remove duplicates.\n",
    "4. Drop `NaN` and `inf` as well as `-inf` values due to small size (~0.05%).\n",
    "5. Strip columns (there are spaces at the end or start).\n",
    "6. Map the categories to broader ones.\n",
    "7. Split data into test and train sets.\n",
    "8. Train Random Forest model.\n",
    "9. Get feature importance from Random Forest.\n",
    "10. Use the most important features for hyperparameter tuning in Random Forest and XGBoost.\n",
    "11. Hyperparameter tuning for xdg and rf\n",
    "12. Evaluate the model.\n",
    "\n",
    "\n",
    "###  TODO \n",
    "- [ ] add citations\n",
    "- [ ] add visualization\n",
    "- [ ] Checkout pdfs for 10, 14, 13, and 12 \n",
    "\n",
    "### Clarifiations \n",
    "We will use the term \"traffic\" or \"network traffic\" for simplicity reasons, in the context of the dataset we mean network flows which were extracted out of network traffic using the [CICFLowMeter](https://github.com/ahlashkari/CICFlowMeter) tool."
   ]
  },
  {
   "cell_type": "markdown",
   "id": "7f23258a",
   "metadata": {
    "_cell_guid": "6a891602-7383-4b46-97c4-143db0efa7b1",
    "_uuid": "b4c8df5b-596f-4f73-9064-01774eaa246e",
    "collapsed": false,
    "jupyter": {
     "outputs_hidden": false
    },
    "papermill": {
     "duration": 0.007832,
     "end_time": "2025-01-19T17:31:53.475415",
     "exception": false,
     "start_time": "2025-01-19T17:31:53.467583",
     "status": "completed"
    },
    "tags": []
   },
   "source": [
    "# General Imports and reading the Dataset\n",
    "First we are importing the most important libraries and the os library to read the files.\n",
    "Numpy and Pandas for scientific computing and matplotlib.pyplot for plots (visualiziation)\n",
    "\n",
    "We are seting the display option to max rows, else the full 78 columns wouldn't be displayed \n",
    "We are reading all the csv files from the dataset into one pandas Dataframe \"df_full\"."
   ]
  },
  {
   "cell_type": "code",
   "execution_count": 1,
   "id": "d3f876ed",
   "metadata": {
    "_cell_guid": "cf4681d6-153c-4805-9e71-43268632148a",
    "_uuid": "d4132f4a-a25e-4027-af6d-9ef7ad40fbb5",
    "collapsed": false,
    "execution": {
     "iopub.execute_input": "2025-01-19T17:31:53.493161Z",
     "iopub.status.busy": "2025-01-19T17:31:53.492759Z",
     "iopub.status.idle": "2025-01-19T17:31:53.499110Z",
     "shell.execute_reply": "2025-01-19T17:31:53.498072Z"
    },
    "jupyter": {
     "outputs_hidden": false
    },
    "papermill": {
     "duration": 0.01715,
     "end_time": "2025-01-19T17:31:53.500734",
     "exception": false,
     "start_time": "2025-01-19T17:31:53.483584",
     "status": "completed"
    },
    "tags": []
   },
   "outputs": [],
   "source": [
    "# Rose Pine palette: hex values for use in graphs\n",
    "rp = {\n",
    "    \"base\": \"#191724\",\n",
    "    \"surface\": \"#1f1d2e\",\n",
    "    \"overlay\": \"#26233a\",\n",
    "    \"muted\": \"#6e6a86\",\n",
    "    \"subtle\": \"#908caa\",\n",
    "    \"text\": \"#e0def4\",\n",
    "    \"love\": \"#eb6f92\",\n",
    "    \"gold\": \"#f6c177\",\n",
    "    \"rose\": \"#ebbcba\",\n",
    "    \"pine\": \"#31748f\",\n",
    "    \"foam\": \"#9ccfd8\",\n",
    "    \"iris\": \"#c4a7e7\",\n",
    "    \"highlightLow\": \"#21202e\",\n",
    "    \"highlightMed\": \"#403d52\",\n",
    "    \"highlightHigh\": \"#524f67\",\n",
    "}"
   ]
  },
  {
   "cell_type": "code",
   "execution_count": 2,
   "id": "9e011294",
   "metadata": {
    "_cell_guid": "1e477d51-d348-4b3d-9781-463ef8c2c7e8",
    "_uuid": "9fe66892-790e-40da-88f2-1e8a74051b38",
    "collapsed": false,
    "execution": {
     "iopub.execute_input": "2025-01-19T17:31:53.518441Z",
     "iopub.status.busy": "2025-01-19T17:31:53.518101Z",
     "iopub.status.idle": "2025-01-19T17:32:23.696584Z",
     "shell.execute_reply": "2025-01-19T17:32:23.695364Z"
    },
    "jupyter": {
     "outputs_hidden": false
    },
    "papermill": {
     "duration": 30.189859,
     "end_time": "2025-01-19T17:32:23.698937",
     "exception": false,
     "start_time": "2025-01-19T17:31:53.509078",
     "status": "completed"
    },
    "tags": []
   },
   "outputs": [
    {
     "name": "stdout",
     "output_type": "stream",
     "text": [
      "/kaggle/input/network-intrusion-dataset/Friday-WorkingHours-Afternoon-PortScan.pcap_ISCX.csv\n",
      "/kaggle/input/network-intrusion-dataset/Thursday-WorkingHours-Morning-WebAttacks.pcap_ISCX.csv\n",
      "/kaggle/input/network-intrusion-dataset/Tuesday-WorkingHours.pcap_ISCX.csv\n",
      "/kaggle/input/network-intrusion-dataset/Friday-WorkingHours-Afternoon-DDos.pcap_ISCX.csv\n",
      "/kaggle/input/network-intrusion-dataset/Monday-WorkingHours.pcap_ISCX.csv\n",
      "/kaggle/input/network-intrusion-dataset/Friday-WorkingHours-Morning.pcap_ISCX.csv\n",
      "/kaggle/input/network-intrusion-dataset/Thursday-WorkingHours-Afternoon-Infilteration.pcap_ISCX.csv\n",
      "/kaggle/input/network-intrusion-dataset/Wednesday-workingHours.pcap_ISCX.csv\n"
     ]
    }
   ],
   "source": [
    "import os\n",
    "import numpy as np\n",
    "import pandas as pd\n",
    "import matplotlib.pyplot as plt\n",
    "\n",
    "# Disply all rows\n",
    "pd.set_option('display.max_rows', None)\n",
    "\n",
    "df_full = pd.DataFrame()\n",
    "\n",
    "for dirname, _, filenames in os.walk(\"/kaggle/input/\"):\n",
    "    for filename in filenames:\n",
    "        file_path = os.path.join(dirname, filename)\n",
    "        print(file_path)\n",
    "        df_full = pd.concat([df_full, pd.read_csv(file_path)], ignore_index=True)"
   ]
  },
  {
   "cell_type": "markdown",
   "id": "a6c30b3c",
   "metadata": {
    "_cell_guid": "c8034e54-9cf6-4589-9d64-7f6f2d0d3165",
    "_uuid": "858fedc9-c86f-4338-bffe-c46475a2eb89",
    "collapsed": false,
    "jupyter": {
     "outputs_hidden": false
    },
    "papermill": {
     "duration": 0.008366,
     "end_time": "2025-01-19T17:32:23.716709",
     "exception": false,
     "start_time": "2025-01-19T17:32:23.708343",
     "status": "completed"
    },
    "tags": []
   },
   "source": [
    "# Data selection \n",
    "Here are three different options.\n",
    "First option reads only one of the fils into the Dataframe. The second option takes the df_full with all the files, shuffles them and takes the first $n$ values.\n",
    "\n",
    "This is done to reduce the dataset for developing purposes."
   ]
  },
  {
   "cell_type": "code",
   "execution_count": 3,
   "id": "c429fb12",
   "metadata": {
    "_cell_guid": "6c26a1ec-bceb-40aa-91e4-8fae94282fba",
    "_uuid": "2e7955b0-bfd9-46ac-86ee-15ee73bc2ae6",
    "collapsed": false,
    "execution": {
     "iopub.execute_input": "2025-01-19T17:32:23.736289Z",
     "iopub.status.busy": "2025-01-19T17:32:23.735936Z",
     "iopub.status.idle": "2025-01-19T17:32:25.425191Z",
     "shell.execute_reply": "2025-01-19T17:32:25.424049Z"
    },
    "jupyter": {
     "outputs_hidden": false
    },
    "papermill": {
     "duration": 1.701333,
     "end_time": "2025-01-19T17:32:25.427227",
     "exception": false,
     "start_time": "2025-01-19T17:32:23.725894",
     "status": "completed"
    },
    "tags": []
   },
   "outputs": [],
   "source": [
    "# 1. \n",
    "df = pd.read_csv(\"/kaggle/input/network-intrusion-dataset/Friday-WorkingHours-Afternoon-PortScan.pcap_ISCX.csv\")\n",
    "#df = pd.concat([df, pd.read_csv(\"/kaggle/input/network-intrusion-dataset/Thursday-WorkingHours-Morning-WebAttacks.pcap_ISCX.csv\")])\n",
    "# 2.\n",
    "#shuffled_df = df_full.sample(frac=1, random_state=40)\n",
    "#df = pd.DataFrame(shuffled_df.head(5000))\n",
    "\n",
    "# 3.\n",
    "#df = pd.DataFrame(df_full)"
   ]
  },
  {
   "cell_type": "markdown",
   "id": "61e43a0e",
   "metadata": {
    "_cell_guid": "c989c107-31cf-42dd-9b50-dc4ee0d9198e",
    "_uuid": "2e3e50a9-d3a2-4608-9a10-e350bcebec92",
    "collapsed": false,
    "jupyter": {
     "outputs_hidden": false
    },
    "papermill": {
     "duration": 0.008673,
     "end_time": "2025-01-19T17:32:25.445231",
     "exception": false,
     "start_time": "2025-01-19T17:32:25.436558",
     "status": "completed"
    },
    "tags": []
   },
   "source": [
    "#  Data info\n",
    "The column names have leading and/or trailing spaces that need to be trimmed.\n",
    "\n",
    "The info shows us the number of entries $n$ in the dataset aswell as the 79 columns with 0-77 being the features and 78 being the labels. \n",
    "When using the whole dataset the number of non-null entries are not displayed but we will address that later.\n",
    "The feature types are all numerical and the lables are Objects (strings)"
   ]
  },
  {
   "cell_type": "code",
   "execution_count": 4,
   "id": "1e79255d",
   "metadata": {
    "_cell_guid": "9951a01f-f49e-4638-8ef5-d0f27c664945",
    "_uuid": "a3ad2a49-b2cc-46d6-8912-20b86892632b",
    "collapsed": false,
    "execution": {
     "iopub.execute_input": "2025-01-19T17:32:25.463950Z",
     "iopub.status.busy": "2025-01-19T17:32:25.463564Z",
     "iopub.status.idle": "2025-01-19T17:32:25.534545Z",
     "shell.execute_reply": "2025-01-19T17:32:25.533148Z"
    },
    "jupyter": {
     "outputs_hidden": false
    },
    "papermill": {
     "duration": 0.08241,
     "end_time": "2025-01-19T17:32:25.536379",
     "exception": false,
     "start_time": "2025-01-19T17:32:25.453969",
     "status": "completed"
    },
    "tags": []
   },
   "outputs": [
    {
     "name": "stdout",
     "output_type": "stream",
     "text": [
      "<class 'pandas.core.frame.DataFrame'>\n",
      "RangeIndex: 286467 entries, 0 to 286466\n",
      "Data columns (total 79 columns):\n",
      " #   Column                       Non-Null Count   Dtype  \n",
      "---  ------                       --------------   -----  \n",
      " 0   Destination Port             286467 non-null  int64  \n",
      " 1   Flow Duration                286467 non-null  int64  \n",
      " 2   Total Fwd Packets            286467 non-null  int64  \n",
      " 3   Total Backward Packets       286467 non-null  int64  \n",
      " 4   Total Length of Fwd Packets  286467 non-null  int64  \n",
      " 5   Total Length of Bwd Packets  286467 non-null  int64  \n",
      " 6   Fwd Packet Length Max        286467 non-null  int64  \n",
      " 7   Fwd Packet Length Min        286467 non-null  int64  \n",
      " 8   Fwd Packet Length Mean       286467 non-null  float64\n",
      " 9   Fwd Packet Length Std        286467 non-null  float64\n",
      " 10  Bwd Packet Length Max        286467 non-null  int64  \n",
      " 11  Bwd Packet Length Min        286467 non-null  int64  \n",
      " 12  Bwd Packet Length Mean       286467 non-null  float64\n",
      " 13  Bwd Packet Length Std        286467 non-null  float64\n",
      " 14  Flow Bytes/s                 286452 non-null  float64\n",
      " 15  Flow Packets/s               286467 non-null  float64\n",
      " 16  Flow IAT Mean                286467 non-null  float64\n",
      " 17  Flow IAT Std                 286467 non-null  float64\n",
      " 18  Flow IAT Max                 286467 non-null  int64  \n",
      " 19  Flow IAT Min                 286467 non-null  int64  \n",
      " 20  Fwd IAT Total                286467 non-null  int64  \n",
      " 21  Fwd IAT Mean                 286467 non-null  float64\n",
      " 22  Fwd IAT Std                  286467 non-null  float64\n",
      " 23  Fwd IAT Max                  286467 non-null  int64  \n",
      " 24  Fwd IAT Min                  286467 non-null  int64  \n",
      " 25  Bwd IAT Total                286467 non-null  int64  \n",
      " 26  Bwd IAT Mean                 286467 non-null  float64\n",
      " 27  Bwd IAT Std                  286467 non-null  float64\n",
      " 28  Bwd IAT Max                  286467 non-null  int64  \n",
      " 29  Bwd IAT Min                  286467 non-null  int64  \n",
      " 30  Fwd PSH Flags                286467 non-null  int64  \n",
      " 31  Bwd PSH Flags                286467 non-null  int64  \n",
      " 32  Fwd URG Flags                286467 non-null  int64  \n",
      " 33  Bwd URG Flags                286467 non-null  int64  \n",
      " 34  Fwd Header Length            286467 non-null  int64  \n",
      " 35  Bwd Header Length            286467 non-null  int64  \n",
      " 36  Fwd Packets/s                286467 non-null  float64\n",
      " 37  Bwd Packets/s                286467 non-null  float64\n",
      " 38  Min Packet Length            286467 non-null  int64  \n",
      " 39  Max Packet Length            286467 non-null  int64  \n",
      " 40  Packet Length Mean           286467 non-null  float64\n",
      " 41  Packet Length Std            286467 non-null  float64\n",
      " 42  Packet Length Variance       286467 non-null  float64\n",
      " 43  FIN Flag Count               286467 non-null  int64  \n",
      " 44  SYN Flag Count               286467 non-null  int64  \n",
      " 45  RST Flag Count               286467 non-null  int64  \n",
      " 46  PSH Flag Count               286467 non-null  int64  \n",
      " 47  ACK Flag Count               286467 non-null  int64  \n",
      " 48  URG Flag Count               286467 non-null  int64  \n",
      " 49  CWE Flag Count               286467 non-null  int64  \n",
      " 50  ECE Flag Count               286467 non-null  int64  \n",
      " 51  Down/Up Ratio                286467 non-null  int64  \n",
      " 52  Average Packet Size          286467 non-null  float64\n",
      " 53  Avg Fwd Segment Size         286467 non-null  float64\n",
      " 54  Avg Bwd Segment Size         286467 non-null  float64\n",
      " 55  Fwd Header Length.1          286467 non-null  int64  \n",
      " 56  Fwd Avg Bytes/Bulk           286467 non-null  int64  \n",
      " 57  Fwd Avg Packets/Bulk         286467 non-null  int64  \n",
      " 58  Fwd Avg Bulk Rate            286467 non-null  int64  \n",
      " 59  Bwd Avg Bytes/Bulk           286467 non-null  int64  \n",
      " 60  Bwd Avg Packets/Bulk         286467 non-null  int64  \n",
      " 61  Bwd Avg Bulk Rate            286467 non-null  int64  \n",
      " 62  Subflow Fwd Packets          286467 non-null  int64  \n",
      " 63  Subflow Fwd Bytes            286467 non-null  int64  \n",
      " 64  Subflow Bwd Packets          286467 non-null  int64  \n",
      " 65  Subflow Bwd Bytes            286467 non-null  int64  \n",
      " 66  Init_Win_bytes_forward       286467 non-null  int64  \n",
      " 67  Init_Win_bytes_backward      286467 non-null  int64  \n",
      " 68  act_data_pkt_fwd             286467 non-null  int64  \n",
      " 69  min_seg_size_forward         286467 non-null  int64  \n",
      " 70  Active Mean                  286467 non-null  float64\n",
      " 71  Active Std                   286467 non-null  float64\n",
      " 72  Active Max                   286467 non-null  int64  \n",
      " 73  Active Min                   286467 non-null  int64  \n",
      " 74  Idle Mean                    286467 non-null  float64\n",
      " 75  Idle Std                     286467 non-null  float64\n",
      " 76  Idle Max                     286467 non-null  int64  \n",
      " 77  Idle Min                     286467 non-null  int64  \n",
      " 78  Label                        286467 non-null  object \n",
      "dtypes: float64(24), int64(54), object(1)\n",
      "memory usage: 172.7+ MB\n"
     ]
    }
   ],
   "source": [
    "df.columns = df.columns.str.strip()\n",
    "df.info()"
   ]
  },
  {
   "cell_type": "markdown",
   "id": "3a16d4a7",
   "metadata": {
    "_cell_guid": "c2322ad6-2631-4ce3-bb3b-a95e796cb0cc",
    "_uuid": "8e5a4802-c325-4211-856c-892443a8adbf",
    "collapsed": false,
    "jupyter": {
     "outputs_hidden": false
    },
    "papermill": {
     "duration": 0.008742,
     "end_time": "2025-01-19T17:32:25.555112",
     "exception": false,
     "start_time": "2025-01-19T17:32:25.546370",
     "status": "completed"
    },
    "tags": []
   },
   "source": [
    "# Preprocessing\n",
    "The dataset is not fully cleaned up.\n",
    "### Problems: \n",
    "- Infinite and -infitie values\n",
    "- NaN values\n",
    "- Duplicate values\n",
    "\n",
    "None of these values make sense in the context of network flows. That is why we are going to delete all of them before continuing."
   ]
  },
  {
   "cell_type": "code",
   "execution_count": 5,
   "id": "1af479c1",
   "metadata": {
    "_cell_guid": "87f09242-a516-4088-bbc2-9c34106bf7f2",
    "_uuid": "372f101f-0dc5-44e9-9053-0ed75343009e",
    "collapsed": false,
    "execution": {
     "iopub.execute_input": "2025-01-19T17:32:25.574095Z",
     "iopub.status.busy": "2025-01-19T17:32:25.573646Z",
     "iopub.status.idle": "2025-01-19T17:32:26.795318Z",
     "shell.execute_reply": "2025-01-19T17:32:26.794035Z"
    },
    "jupyter": {
     "outputs_hidden": false
    },
    "papermill": {
     "duration": 1.233225,
     "end_time": "2025-01-19T17:32:26.797263",
     "exception": false,
     "start_time": "2025-01-19T17:32:25.564038",
     "status": "completed"
    },
    "tags": []
   },
   "outputs": [
    {
     "name": "stdout",
     "output_type": "stream",
     "text": [
      "Columns with infinite values:\n",
      " Flow Bytes/s      356\n",
      "Flow Packets/s    371\n",
      "dtype: int64\n",
      "\n",
      "Columns with NaN values:\n",
      " Flow Bytes/s    15\n",
      "dtype: int64\n",
      "\n",
      "Columns with NaN or infinite values:\n",
      " Flow Bytes/s      371\n",
      "Flow Packets/s    371\n",
      "dtype: int64\n",
      "\n",
      "Number of duplicate rows: 72353\n"
     ]
    }
   ],
   "source": [
    "# Check for infinite values\n",
    "is_inf = df.isin([np.inf, -np.inf])\n",
    "\n",
    "# Count infinite values per column\n",
    "inf_counts = is_inf.sum()\n",
    "\n",
    "# Filter to show only columns with infinite values\n",
    "columns_with_inf = inf_counts[inf_counts > 0]\n",
    "print(\"Columns with infinite values:\\n\",columns_with_inf)\n",
    "\n",
    "# Check for NaN values\n",
    "nan_counts = df.isnull().sum()\n",
    "\n",
    "# Filter to show only columns with NaN values\n",
    "columns_with_nan = nan_counts[nan_counts > 0]\n",
    "print(\"\\nColumns with NaN values:\\n\", columns_with_nan)\n",
    "\n",
    "# Sum NaN and inf counts for each column\n",
    "combined_counts = nan_counts + inf_counts\n",
    "\n",
    "# Filter to show only columns with any NaN or inf values\n",
    "columns_with_nan_or_inf = combined_counts[combined_counts > 0]\n",
    "print(\"\\nColumns with NaN or infinite values:\\n\", columns_with_nan_or_inf)\n",
    "\n",
    "# Check for duplicate rows\n",
    "duplicate_rows_count = df.duplicated().sum()\n",
    "print(\"\\nNumber of duplicate rows:\", duplicate_rows_count)"
   ]
  },
  {
   "cell_type": "code",
   "execution_count": 6,
   "id": "edd7b62f",
   "metadata": {
    "_cell_guid": "4bd982fd-3ec2-4585-abb2-50fede193e16",
    "_uuid": "0452b4ad-7f77-4a44-b66d-4adc67057459",
    "collapsed": false,
    "execution": {
     "iopub.execute_input": "2025-01-19T17:32:26.817372Z",
     "iopub.status.busy": "2025-01-19T17:32:26.817021Z",
     "iopub.status.idle": "2025-01-19T17:32:27.713023Z",
     "shell.execute_reply": "2025-01-19T17:32:27.711983Z"
    },
    "jupyter": {
     "outputs_hidden": false
    },
    "papermill": {
     "duration": 0.908905,
     "end_time": "2025-01-19T17:32:27.715342",
     "exception": false,
     "start_time": "2025-01-19T17:32:26.806437",
     "status": "completed"
    },
    "tags": []
   },
   "outputs": [],
   "source": [
    "# First reeplace inf and -inf with NaN so we can delete them all in one step\n",
    "df.replace([np.inf, -np.inf], np.nan, inplace=True)\n",
    "\n",
    "# Drop rows with NaN values\n",
    "df.dropna(inplace=True)\n",
    "\n",
    "# Drop duplicate rows\n",
    "df.drop_duplicates(inplace=True)"
   ]
  },
  {
   "cell_type": "code",
   "execution_count": 7,
   "id": "990a1a64",
   "metadata": {
    "_cell_guid": "1353a0ff-f2f1-49e2-acfd-685cefc0454a",
    "_uuid": "b8557984-1f06-4db8-8b2f-22a956f11b8d",
    "collapsed": false,
    "execution": {
     "iopub.execute_input": "2025-01-19T17:32:27.735276Z",
     "iopub.status.busy": "2025-01-19T17:32:27.734928Z",
     "iopub.status.idle": "2025-01-19T17:32:27.778256Z",
     "shell.execute_reply": "2025-01-19T17:32:27.777125Z"
    },
    "jupyter": {
     "outputs_hidden": false
    },
    "papermill": {
     "duration": 0.055854,
     "end_time": "2025-01-19T17:32:27.780918",
     "exception": false,
     "start_time": "2025-01-19T17:32:27.725064",
     "status": "completed"
    },
    "tags": []
   },
   "outputs": [],
   "source": [
    "# Next we are splitting the dataset into to the features (X) and the Labels (y). \n",
    "X = df.drop(columns=['Label'])\n",
    "y = df['Label']"
   ]
  },
  {
   "cell_type": "code",
   "execution_count": 8,
   "id": "3201c35b",
   "metadata": {
    "_cell_guid": "bbbb28b0-5785-4fe9-b2b8-f9cb8aee039c",
    "_uuid": "37aae42f-bebe-43f4-a985-1ffa34be49e8",
    "collapsed": false,
    "execution": {
     "iopub.execute_input": "2025-01-19T17:32:27.800326Z",
     "iopub.status.busy": "2025-01-19T17:32:27.799951Z",
     "iopub.status.idle": "2025-01-19T17:32:27.815067Z",
     "shell.execute_reply": "2025-01-19T17:32:27.813885Z"
    },
    "jupyter": {
     "outputs_hidden": false
    },
    "papermill": {
     "duration": 0.027098,
     "end_time": "2025-01-19T17:32:27.816998",
     "exception": false,
     "start_time": "2025-01-19T17:32:27.789900",
     "status": "completed"
    },
    "tags": []
   },
   "outputs": [
    {
     "name": "stdout",
     "output_type": "stream",
     "text": [
      "['BENIGN' 'PortScan']\n"
     ]
    }
   ],
   "source": [
    "# Print all unique label names\n",
    "print(y.unique())"
   ]
  },
  {
   "cell_type": "markdown",
   "id": "d94af833",
   "metadata": {
    "_cell_guid": "c0aa2c55-99ea-4b91-9a47-1d84df26bf2f",
    "_uuid": "891add5e-4d9a-4e06-94a8-9c2fc10cfd0d",
    "collapsed": false,
    "jupyter": {
     "outputs_hidden": false
    },
    "papermill": {
     "duration": 0.009085,
     "end_time": "2025-01-19T17:32:27.835568",
     "exception": false,
     "start_time": "2025-01-19T17:32:27.826483",
     "status": "completed"
    },
    "tags": []
   },
   "source": [
    "We can see that we have 11 different labels as categories.\n",
    "In our use case, it is not in our interest to know which kind of tool was used for the attack; we only care about whether an attack is happening and what kind of attack it is.\n",
    "If we were interested in which tool was used, we can still analyze the network logs at a later point.\n",
    "For now, we will choose broader categories:\n",
    "\n",
    "**\"BENIGN\"**: Normal network flows. These represent legitimate traffic with no signs of malicious activity.\\\n",
    "**\"BOTNET\"**: Botnet flows. These involve traffic generated by a group of compromised devices controlled by a malicious actor to perform coordinated attacks. \\\n",
    "**\"DOS\"**: Flows that are part of Denial of Service (DoS) attacks. These are intended to overwhelm a network or service, making it unavailable to legitimate users.\\\n",
    "**\"BRUTE_FORCE\"**: Bruteforce flows. This includes attempts to gain unauthorized access by systematically trying multiple combinations of credentials or keys.\\\n",
    "**\"EXPLOITATION\"**: Flows involving the exploitation of vulnerabilities, such as the Heartbleed attack, where weaknesses in software or systems are used to gain unauthorized access or information.\\\n",
    "due to problmes with XGB Boost and having categories with few labels, theses were relabled to WEB_ATTACK\n",
    "**\"INFILTRATION\"**: Flows related to infiltration attacks, where an attacker successfully bypasses defenses and gains access to a network or system for further malicious actions.\\\n",
    "**\"RECONNAISSANCE\"**: Flows involving reconnaissance activities, such as PortScan attacks, where the attacker is probing the network to gather information about potential vulnerabilities or open ports.\\\n",
    "**\"WEB_ATTACK\"**: Flows involving web-based attacks, such as Brute Force, SQL Injection, and Cross-Site Scripting (XSS).\n",
    "\n",
    "These are targeted at web applications to steal data, gain unauthorized access, or inject malicious scripts.\n",
    "By categorizing our data into these broader attack types, we can focus on the type of attack rather than the specific tools or methods used, allowing us to detect and respond to malicious activities more effectively."
   ]
  },
  {
   "cell_type": "code",
   "execution_count": 9,
   "id": "ead08f46",
   "metadata": {
    "_cell_guid": "115af761-604b-451e-9261-21bc5a752bfe",
    "_uuid": "76867af9-8f06-4a98-9ded-0688d6b560d2",
    "collapsed": false,
    "execution": {
     "iopub.execute_input": "2025-01-19T17:32:27.855448Z",
     "iopub.status.busy": "2025-01-19T17:32:27.855054Z",
     "iopub.status.idle": "2025-01-19T17:32:27.891798Z",
     "shell.execute_reply": "2025-01-19T17:32:27.890451Z"
    },
    "jupyter": {
     "outputs_hidden": false
    },
    "papermill": {
     "duration": 0.049146,
     "end_time": "2025-01-19T17:32:27.893677",
     "exception": false,
     "start_time": "2025-01-19T17:32:27.844531",
     "status": "completed"
    },
    "tags": []
   },
   "outputs": [
    {
     "name": "stdout",
     "output_type": "stream",
     "text": [
      "['BENIGN' 'RECONNAISSANCE']\n"
     ]
    }
   ],
   "source": [
    "category_mapping = {\n",
    "    'BENIGN': 'BENIGN',\n",
    "    'Bot': 'BOTNET',\n",
    "    'DDoS': 'DOS',\n",
    "    'DoS GoldenEye': 'DOS',\n",
    "    'DoS Hulk': 'DOS',\n",
    "    'DoS Slowhttptest': 'DOS',\n",
    "    'DoS slowloris': 'DOS',\n",
    "    'FTP-Patator': 'BRUTE_FORCE',\n",
    "    'SSH-Patator': 'BRUTE_FORCE',\n",
    "    'Heartbleed': 'WEB_ATTACK',\n",
    "    'Infiltration': 'WEB_ATTACK',\n",
    "    'PortScan': 'RECONNAISSANCE',\n",
    "    'Web Attack � Brute Force': 'WEB_ATTACK',\n",
    "    'Web Attack � Sql Injection': 'WEB_ATTACK',\n",
    "    'Web Attack � XSS': 'WEB_ATTACK'\n",
    "}\n",
    "\n",
    "y = y.map(category_mapping)\n",
    "print(y.unique())"
   ]
  },
  {
   "cell_type": "code",
   "execution_count": 10,
   "id": "fa342bd9",
   "metadata": {
    "_cell_guid": "3e3961e6-76ab-4b30-a2e9-1ca53908537e",
    "_uuid": "a1bcc1f9-8532-4d4f-8184-701775cd881b",
    "collapsed": false,
    "execution": {
     "iopub.execute_input": "2025-01-19T17:32:27.913587Z",
     "iopub.status.busy": "2025-01-19T17:32:27.913214Z",
     "iopub.status.idle": "2025-01-19T17:32:29.331978Z",
     "shell.execute_reply": "2025-01-19T17:32:29.331056Z"
    },
    "jupyter": {
     "outputs_hidden": false
    },
    "papermill": {
     "duration": 1.430671,
     "end_time": "2025-01-19T17:32:29.333830",
     "exception": false,
     "start_time": "2025-01-19T17:32:27.903159",
     "status": "completed"
    },
    "tags": []
   },
   "outputs": [],
   "source": [
    "from sklearn.model_selection import train_test_split\n",
    "\n",
    "# Splitting the features and Labels into train and test data using a 60/40 split\n",
    "X_train, X_test, y_train, y_test = train_test_split(X, y, test_size=0.4, random_state=42)"
   ]
  },
  {
   "cell_type": "code",
   "execution_count": 11,
   "id": "3264746c",
   "metadata": {
    "_cell_guid": "3b59b2ab-d3bd-4259-af85-885e943727ae",
    "_uuid": "c3bbb426-9b65-488d-b0b7-614da0fc539a",
    "collapsed": false,
    "execution": {
     "iopub.execute_input": "2025-01-19T17:32:29.355020Z",
     "iopub.status.busy": "2025-01-19T17:32:29.354477Z",
     "iopub.status.idle": "2025-01-19T17:32:29.757965Z",
     "shell.execute_reply": "2025-01-19T17:32:29.756922Z"
    },
    "jupyter": {
     "outputs_hidden": false
    },
    "papermill": {
     "duration": 0.416165,
     "end_time": "2025-01-19T17:32:29.759666",
     "exception": false,
     "start_time": "2025-01-19T17:32:29.343501",
     "status": "completed"
    },
    "tags": []
   },
   "outputs": [
    {
     "data": {
      "image/png": "[encoded data removed]",
      "text/plain": [
       "<Figure size 1800x800 with 2 Axes>"
      ]
     },
     "metadata": {},
     "output_type": "display_data"
    }
   ],
   "source": [
    "import matplotlib.pyplot as plt\n",
    "\n",
    "# Analyze label distributions\n",
    "train_label_distribution = y_train.value_counts()\n",
    "test_label_distribution  = y_test.value_counts()\n",
    "\n",
    "# Prepare x and y for training set\n",
    "train_x_coords = train_label_distribution.index\n",
    "train_y_coords = train_label_distribution.values\n",
    "\n",
    "# Prepare x and y for test set\n",
    "test_x_coords = test_label_distribution.index\n",
    "test_y_coords = test_label_distribution.values\n",
    "\n",
    "# Create subplots: 1 row, 2 columns\n",
    "fig, (ax_train, ax_test) = plt.subplots(nrows=1, ncols=2, figsize=(18, 8))\n",
    "\n",
    "# -----------------------------------\n",
    "# Plot Training Set Distribution\n",
    "# -----------------------------------\n",
    "ax_train.barh(\n",
    "    train_x_coords,\n",
    "    train_y_coords,\n",
    "    color=rp[\"iris\"],      # Replace rp.iris with your preferred color or list of colors\n",
    "    edgecolor=rp[\"base\"]   # Same here if you have custom edges or replace with, for example, 'black'\n",
    ")\n",
    "# Add text at the end of each bar\n",
    "for i, value in enumerate(train_y_coords):\n",
    "    ax_train.text(\n",
    "        value, \n",
    "        i, \n",
    "        f\" {value:,}\",\n",
    "        va=\"center\", \n",
    "        fontsize=10, \n",
    "        color=\"black\"\n",
    "    )\n",
    "\n",
    "# Add chart details\n",
    "ax_train.set_title(\n",
    "    \"Distribution of Network Activity in Training Set 60% (CICIDS2017)\", \n",
    "    fontsize=16\n",
    ")\n",
    "ax_train.set_xlabel(\"Number of Instances\", fontsize=12)\n",
    "ax_train.set_ylabel(\"Network Activity Label\", fontsize=12)\n",
    "\n",
    "# Adjust x-tick limits and format labels (Training)\n",
    "train_max = max(train_y_coords)\n",
    "ax_train.set_xticks(\n",
    "    range(0, train_max + 50_000, 250_000)\n",
    ")\n",
    "ax_train.set_xticklabels(\n",
    "    [f\"{x:,}\" for x in range(0, train_max + 50_000, 250_000)],\n",
    "    fontsize=10\n",
    ")\n",
    "\n",
    "# -----------------------------------\n",
    "# Plot Test Set Distribution\n",
    "# -----------------------------------\n",
    "ax_test.barh(\n",
    "    test_x_coords,\n",
    "    test_y_coords,\n",
    "    color=rp[\"iris\"],      \n",
    "    edgecolor=rp[\"base\"]  \n",
    ")\n",
    "# Add text at the end of each bar\n",
    "for i, value in enumerate(test_y_coords):\n",
    "    ax_test.text(\n",
    "        value, \n",
    "        i, \n",
    "        f\" {value:,}\",\n",
    "        va=\"center\", \n",
    "        fontsize=10, \n",
    "        color=\"black\"\n",
    "    )\n",
    "\n",
    "# Add chart details\n",
    "ax_test.set_title(\n",
    "    \"Distribution of Network Activity in Test Set 40% (CICIDS2017)\", \n",
    "    fontsize=16\n",
    ")\n",
    "ax_test.set_xlabel(\"Number of Instances\", fontsize=12)\n",
    "ax_test.set_ylabel(\"Network Activity Label\", fontsize=12)\n",
    "\n",
    "# Adjust x-tick limits and format labels (Test)\n",
    "test_max = max(test_y_coords)\n",
    "ax_test.set_xticks(\n",
    "    range(0, test_max + 50_000, 250_000)\n",
    ")\n",
    "ax_test.set_xticklabels(\n",
    "    [f\"{x:,}\" for x in range(0, test_max + 50_000, 250_000)],\n",
    "    fontsize=10\n",
    ")\n",
    "\n",
    "# Overall layout\n",
    "plt.tight_layout()\n",
    "plt.show()"
   ]
  },
  {
   "cell_type": "markdown",
   "id": "32e12ca3",
   "metadata": {
    "_cell_guid": "01f50930-ca1c-4251-8460-bbb417a7339e",
    "_uuid": "386a90d2-f85f-4532-a10a-c11e125def6e",
    "collapsed": false,
    "jupyter": {
     "outputs_hidden": false
    },
    "papermill": {
     "duration": 0.00971,
     "end_time": "2025-01-19T17:32:29.779420",
     "exception": false,
     "start_time": "2025-01-19T17:32:29.769710",
     "status": "completed"
    },
    "tags": []
   },
   "source": [
    "# Training/Feature selection\n",
    "To reduce the computation time we will first train a model without hyperparameter tuning and extract the most relevant features. This will reduce the dataset complexity for the hyperparemeter tuning. This idea is based on the finding of Kurniabudi et al, 2020 that the accuracy will not increase when using more the 22 feeatures and also the increase in completion time when using more features. \n",
    "\n",
    "The random forest classifier was choosen based on the performance described in Kurniabudi et al., “CICIDS-2017 Dataset Feature Analysis With Information Gain for Anomaly Detection.”\n",
    "The default 100 estimators were halfed to 50 estimators the reduce computation time."
   ]
  },
  {
   "cell_type": "code",
   "execution_count": 12,
   "id": "84d3d763",
   "metadata": {
    "_cell_guid": "1876c865-ee20-48ce-814c-8baf54060cb5",
    "_uuid": "bde851ff-8d85-4335-bf18-291ce933a924",
    "collapsed": false,
    "execution": {
     "iopub.execute_input": "2025-01-19T17:32:29.800940Z",
     "iopub.status.busy": "2025-01-19T17:32:29.800336Z",
     "iopub.status.idle": "2025-01-19T17:32:38.030279Z",
     "shell.execute_reply": "2025-01-19T17:32:38.029104Z"
    },
    "jupyter": {
     "outputs_hidden": false
    },
    "papermill": {
     "duration": 8.242942,
     "end_time": "2025-01-19T17:32:38.032339",
     "exception": false,
     "start_time": "2025-01-19T17:32:29.789397",
     "status": "completed"
    },
    "tags": []
   },
   "outputs": [],
   "source": [
    "from sklearn.ensemble import RandomForestClassifier\n",
    "from sklearn.pipeline import Pipeline\n",
    "\n",
    "rf = RandomForestClassifier(n_estimators=50, random_state=42)\n",
    "rf.fit(X_train, y_train)\n",
    "y_pred = rf.predict(X_test)"
   ]
  },
  {
   "cell_type": "markdown",
   "id": "78346b75",
   "metadata": {
    "_cell_guid": "7f44b07f-2cec-47c6-873b-36419f15e0f0",
    "_uuid": "df443fce-334b-406c-9284-0923f15a96ac",
    "collapsed": false,
    "jupyter": {
     "outputs_hidden": false
    },
    "papermill": {
     "duration": 0.010849,
     "end_time": "2025-01-19T17:32:38.053725",
     "exception": false,
     "start_time": "2025-01-19T17:32:38.042876",
     "status": "completed"
    },
    "tags": []
   },
   "source": [
    "TODO when using the whole dataset"
   ]
  },
  {
   "cell_type": "code",
   "execution_count": 13,
   "id": "bb178959",
   "metadata": {
    "_cell_guid": "06c0f24f-f654-41fc-ae1d-fdc95bd2e7ff",
    "_uuid": "f09d9c2b-6b93-4a59-9922-ad39a89030bf",
    "collapsed": false,
    "execution": {
     "iopub.execute_input": "2025-01-19T17:32:38.076034Z",
     "iopub.status.busy": "2025-01-19T17:32:38.075630Z",
     "iopub.status.idle": "2025-01-19T17:32:45.470177Z",
     "shell.execute_reply": "2025-01-19T17:32:45.469047Z"
    },
    "jupyter": {
     "outputs_hidden": false
    },
    "papermill": {
     "duration": 7.407906,
     "end_time": "2025-01-19T17:32:45.472325",
     "exception": false,
     "start_time": "2025-01-19T17:32:38.064419",
     "status": "completed"
    },
    "tags": []
   },
   "outputs": [
    {
     "name": "stdout",
     "output_type": "stream",
     "text": [
      "                precision    recall  f1-score   support\n",
      "\n",
      "        BENIGN     0.9998    1.0000    0.9999     49101\n",
      "RECONNAISSANCE     1.0000    0.9998    0.9999     36410\n",
      "\n",
      "      accuracy                         0.9999     85511\n",
      "     macro avg     0.9999    0.9999    0.9999     85511\n",
      "  weighted avg     0.9999    0.9999    0.9999     85511\n",
      "\n"
     ]
    }
   ],
   "source": [
    "from sklearn.metrics import classification_report\n",
    "\n",
    "print(classification_report(y_test, y_pred, digits=4))\n",
    "rf_all_report = classification_report(y_test, y_pred, digits=4, output_dict=True)"
   ]
  },
  {
   "cell_type": "code",
   "execution_count": 14,
   "id": "30f46829",
   "metadata": {
    "_cell_guid": "15c44bed-1fd8-4f01-a738-9ca004ab00b2",
    "_uuid": "f98a9783-a437-483b-a458-66a147072429",
    "collapsed": false,
    "execution": {
     "iopub.execute_input": "2025-01-19T17:32:45.496017Z",
     "iopub.status.busy": "2025-01-19T17:32:45.495579Z",
     "iopub.status.idle": "2025-01-19T17:32:46.014447Z",
     "shell.execute_reply": "2025-01-19T17:32:46.013174Z"
    },
    "jupyter": {
     "outputs_hidden": false
    },
    "papermill": {
     "duration": 0.533698,
     "end_time": "2025-01-19T17:32:46.017184",
     "exception": false,
     "start_time": "2025-01-19T17:32:45.483486",
     "status": "completed"
    },
    "tags": []
   },
   "outputs": [
    {
     "data": {
      "image/png": "[encoded data removed]",
      "text/plain": [
       "<Figure size 1500x1000 with 1 Axes>"
      ]
     },
     "metadata": {},
     "output_type": "display_data"
    },
    {
     "name": "stdout",
     "output_type": "stream",
     "text": [
      "\n",
      "Top 22 Most Important Features:\n",
      "                    feature  importance\n",
      "              Bwd Packets/s    0.108525\n",
      "               Flow IAT Max    0.084209\n",
      "      Fwd Packet Length Max    0.070930\n",
      "          Subflow Fwd Bytes    0.067210\n",
      "     Fwd Packet Length Mean    0.056322\n",
      "              Flow Duration    0.054616\n",
      "Total Length of Fwd Packets    0.054123\n",
      "         Packet Length Mean    0.047132\n",
      "        Average Packet Size    0.040864\n",
      "          Packet Length Std    0.038207\n",
      "          Max Packet Length    0.037819\n",
      "             PSH Flag Count    0.034809\n",
      "     Packet Length Variance    0.027418\n",
      "             ACK Flag Count    0.023070\n",
      "        Subflow Fwd Packets    0.022082\n",
      "               Flow Bytes/s    0.019338\n",
      "       Avg Bwd Segment Size    0.018757\n",
      "       Avg Fwd Segment Size    0.018391\n",
      "     Init_Win_bytes_forward    0.017367\n",
      "      Bwd Packet Length Min    0.015591\n",
      "          Bwd Header Length    0.015423\n",
      "      Bwd Packet Length Max    0.014616\n"
     ]
    }
   ],
   "source": [
    "# Adjust here the number of features\n",
    "num_of_features = 22\n",
    "\n",
    "# get the feature importances from the model\n",
    "importances = rf.feature_importances_\n",
    "feature_names = X.columns\n",
    "\n",
    "# contruct featuere importance dataframe and sort it descending\n",
    "feature_importance = pd.DataFrame({\n",
    "    'feature': feature_names,\n",
    "    'importance': importances\n",
    "}).sort_values('importance', ascending=False)\n",
    "\n",
    "# Create plot\n",
    "plt.figure(figsize=(15, 10))\n",
    "plt.bar(range(num_of_features), feature_importance['importance'][:num_of_features])\n",
    "plt.xticks(range(num_of_features), feature_importance['feature'][:num_of_features], rotation=45, ha='right')\n",
    "plt.xlabel('Features')\n",
    "plt.ylabel('Importance Score')\n",
    "plt.title(f'Top {num_of_features} Most Important Features')\n",
    "plt.tight_layout()\n",
    "plt.show()\n",
    "\n",
    "print(f\"\\nTop {num_of_features} Most Important Features:\")\n",
    "print(feature_importance.head(num_of_features).to_string(index=False))"
   ]
  },
  {
   "cell_type": "markdown",
   "id": "e7b9ec6c",
   "metadata": {
    "_cell_guid": "f1f7746a-a567-47b6-9de5-8cf5209e0270",
    "_uuid": "b2dbdc5c-52c3-4418-9462-b78dca9d1d0a",
    "collapsed": false,
    "jupyter": {
     "outputs_hidden": false
    },
    "papermill": {
     "duration": 0.012347,
     "end_time": "2025-01-19T17:32:46.042906",
     "exception": false,
     "start_time": "2025-01-19T17:32:46.030559",
     "status": "completed"
    },
    "tags": []
   },
   "source": [
    "The feature importances are pretty similiar to Kurniabudi et al., 2020 but differences are possibly due to slighty different calculation methods.  Sci kitlearn uses feature importance based on mean decrease in impurity and Kurniabudi et al., 2020 uses informtion gain. \n",
    "In addition in Kurniabudi et al., 2020 were only 20% of the dataset used which can lead to differences"
   ]
  },
  {
   "cell_type": "code",
   "execution_count": 15,
   "id": "5a7a54dd",
   "metadata": {
    "_cell_guid": "83be0bd4-3469-43e3-b07e-9d2636dbcec2",
    "_uuid": "997576b3-feba-46ce-ba15-2bace66508fa",
    "collapsed": false,
    "execution": {
     "iopub.execute_input": "2025-01-19T17:32:46.069549Z",
     "iopub.status.busy": "2025-01-19T17:32:46.069165Z",
     "iopub.status.idle": "2025-01-19T17:32:46.084985Z",
     "shell.execute_reply": "2025-01-19T17:32:46.084061Z"
    },
    "jupyter": {
     "outputs_hidden": false
    },
    "papermill": {
     "duration": 0.031321,
     "end_time": "2025-01-19T17:32:46.086974",
     "exception": false,
     "start_time": "2025-01-19T17:32:46.055653",
     "status": "completed"
    },
    "tags": []
   },
   "outputs": [],
   "source": [
    "# Get top features based on importance\n",
    "top_features = feature_importance['feature'][:num_of_features]\n",
    "\n",
    "# Filter the original DataFrame to retain only the top features\n",
    "X_top = X[top_features] \n",
    "\n",
    "# not needed but for naming purposes  \n",
    "y_top = y"
   ]
  },
  {
   "cell_type": "code",
   "execution_count": 16,
   "id": "b4848ea7",
   "metadata": {
    "_cell_guid": "2950fee1-77db-4fa3-aaa9-443b3366cb7e",
    "_uuid": "b6864b97-966f-4cb8-8fe6-8b954ff357b1",
    "collapsed": false,
    "execution": {
     "iopub.execute_input": "2025-01-19T17:32:46.113802Z",
     "iopub.status.busy": "2025-01-19T17:32:46.113381Z",
     "iopub.status.idle": "2025-01-19T17:32:46.170419Z",
     "shell.execute_reply": "2025-01-19T17:32:46.169351Z"
    },
    "jupyter": {
     "outputs_hidden": false
    },
    "papermill": {
     "duration": 0.072605,
     "end_time": "2025-01-19T17:32:46.172612",
     "exception": false,
     "start_time": "2025-01-19T17:32:46.100007",
     "status": "completed"
    },
    "tags": []
   },
   "outputs": [],
   "source": [
    "# make new train test splits only using the top features\n",
    "X_train_top, X_test_top, y_train_top, y_test_top = train_test_split(X_top, y_top, test_size=0.3, random_state=42)"
   ]
  },
  {
   "cell_type": "markdown",
   "id": "8dbd386e",
   "metadata": {
    "_cell_guid": "01cb134a-ad5b-4635-bbc6-90ce35053164",
    "_uuid": "d0583a73-9c8a-4eeb-9532-5bbb6136ed5e",
    "collapsed": false,
    "jupyter": {
     "outputs_hidden": false
    },
    "papermill": {
     "duration": 0.012941,
     "end_time": "2025-01-19T17:32:46.198406",
     "exception": false,
     "start_time": "2025-01-19T17:32:46.185465",
     "status": "completed"
    },
    "tags": []
   },
   "source": [
    "TODO \n",
    "Check differences to rf with all features"
   ]
  },
  {
   "cell_type": "code",
   "execution_count": 17,
   "id": "459eeaee",
   "metadata": {
    "_cell_guid": "3f61e36d-537d-4790-ae39-81560c7e9d92",
    "_uuid": "cdc7d762-3d78-4995-9640-40339d40ae07",
    "collapsed": false,
    "execution": {
     "iopub.execute_input": "2025-01-19T17:32:46.227194Z",
     "iopub.status.busy": "2025-01-19T17:32:46.226767Z",
     "iopub.status.idle": "2025-01-19T17:32:59.409026Z",
     "shell.execute_reply": "2025-01-19T17:32:59.408034Z"
    },
    "jupyter": {
     "outputs_hidden": false
    },
    "papermill": {
     "duration": 13.198706,
     "end_time": "2025-01-19T17:32:59.411053",
     "exception": false,
     "start_time": "2025-01-19T17:32:46.212347",
     "status": "completed"
    },
    "tags": []
   },
   "outputs": [
    {
     "name": "stdout",
     "output_type": "stream",
     "text": [
      "                precision    recall  f1-score   support\n",
      "\n",
      "        BENIGN     0.9999    1.0000    0.9999     36877\n",
      "RECONNAISSANCE     1.0000    0.9999    0.9999     27257\n",
      "\n",
      "      accuracy                         0.9999     64134\n",
      "     macro avg     0.9999    0.9999    0.9999     64134\n",
      "  weighted avg     0.9999    0.9999    0.9999     64134\n",
      "\n"
     ]
    }
   ],
   "source": [
    "rf_top = RandomForestClassifier(n_estimators=50, random_state=42)\n",
    "rf_top.fit(X_train_top, y_train_top)\n",
    "y_pred_top = rf_top.predict(X_test_top)\n",
    "print(classification_report(y_test_top, y_pred_top, digits=4))\n",
    "rf_top_report = classification_report(y_test_top, y_pred_top, digits=4,output_dict=True)"
   ]
  },
  {
   "cell_type": "code",
   "execution_count": 18,
   "id": "ec38688a",
   "metadata": {
    "execution": {
     "iopub.execute_input": "2025-01-19T17:32:59.438119Z",
     "iopub.status.busy": "2025-01-19T17:32:59.437694Z",
     "iopub.status.idle": "2025-01-19T17:33:00.154950Z",
     "shell.execute_reply": "2025-01-19T17:33:00.153897Z"
    },
    "papermill": {
     "duration": 0.733112,
     "end_time": "2025-01-19T17:33:00.157201",
     "exception": false,
     "start_time": "2025-01-19T17:32:59.424089",
     "status": "completed"
    },
    "tags": []
   },
   "outputs": [
    {
     "data": {
      "text/plain": [
       "<sklearn.metrics._plot.confusion_matrix.ConfusionMatrixDisplay at 0x7a76e78eb1c0>"
      ]
     },
     "execution_count": 18,
     "metadata": {},
     "output_type": "execute_result"
    },
    {
     "data": {
      "image/png": "[encoded data removed]",
      "text/plain": [
       "<Figure size 640x480 with 2 Axes>"
      ]
     },
     "metadata": {},
     "output_type": "display_data"
    }
   ],
   "source": [
    "from sklearn.metrics import ConfusionMatrixDisplay\n",
    "\n",
    "ConfusionMatrixDisplay.from_predictions(y_test_top, y_pred_top)"
   ]
  },
  {
   "cell_type": "code",
   "execution_count": 19,
   "id": "0f9bde49",
   "metadata": {
    "execution": {
     "iopub.execute_input": "2025-01-19T17:33:00.186320Z",
     "iopub.status.busy": "2025-01-19T17:33:00.185928Z",
     "iopub.status.idle": "2025-01-19T17:33:01.023024Z",
     "shell.execute_reply": "2025-01-19T17:33:01.022094Z"
    },
    "papermill": {
     "duration": 0.853669,
     "end_time": "2025-01-19T17:33:01.024628",
     "exception": false,
     "start_time": "2025-01-19T17:33:00.170959",
     "status": "completed"
    },
    "tags": []
   },
   "outputs": [
    {
     "data": {
      "text/plain": [
       "<sklearn.metrics._plot.confusion_matrix.ConfusionMatrixDisplay at 0x7a76b8f60160>"
      ]
     },
     "execution_count": 19,
     "metadata": {},
     "output_type": "execute_result"
    },
    {
     "data": {
      "image/png": "[encoded data removed]",
      "text/plain": [
       "<Figure size 640x480 with 2 Axes>"
      ]
     },
     "metadata": {},
     "output_type": "display_data"
    }
   ],
   "source": [
    "ConfusionMatrixDisplay.from_predictions(y_test, y_pred)"
   ]
  },
  {
   "cell_type": "code",
   "execution_count": 20,
   "id": "4e1e04ee",
   "metadata": {
    "_cell_guid": "45ea6388-6d72-42eb-9b62-7f48d75b2082",
    "_uuid": "c3343782-f102-4f6e-a641-7c4c96d40408",
    "collapsed": false,
    "execution": {
     "iopub.execute_input": "2025-01-19T17:33:01.054701Z",
     "iopub.status.busy": "2025-01-19T17:33:01.054373Z",
     "iopub.status.idle": "2025-01-19T17:37:11.476175Z",
     "shell.execute_reply": "2025-01-19T17:37:11.474506Z"
    },
    "jupyter": {
     "outputs_hidden": false
    },
    "papermill": {
     "duration": 250.454115,
     "end_time": "2025-01-19T17:37:11.493307",
     "exception": false,
     "start_time": "2025-01-19T17:33:01.039192",
     "status": "completed"
    },
    "tags": []
   },
   "outputs": [
    {
     "name": "stdout",
     "output_type": "stream",
     "text": [
      "n_iterations: 4\n",
      "n_required_iterations: 4\n",
      "n_possible_iterations: 4\n",
      "min_resources_: 5542\n",
      "max_resources_: 149643\n",
      "aggressive_elimination: False\n",
      "factor: 3\n",
      "----------\n",
      "iter: 0\n",
      "n_candidates: 50\n",
      "n_resources: 5542\n",
      "Fitting 5 folds for each of 50 candidates, totalling 250 fits\n",
      "----------\n",
      "iter: 1\n",
      "n_candidates: 17\n",
      "n_resources: 16626\n",
      "Fitting 5 folds for each of 17 candidates, totalling 85 fits\n",
      "----------\n",
      "iter: 2\n",
      "n_candidates: 6\n",
      "n_resources: 49878\n",
      "Fitting 5 folds for each of 6 candidates, totalling 30 fits\n",
      "----------\n",
      "iter: 3\n",
      "n_candidates: 2\n",
      "n_resources: 149634\n",
      "Fitting 5 folds for each of 2 candidates, totalling 10 fits\n",
      "\n",
      "Grid Search Best Params: {'max_depth': 12, 'n_estimators': 100}\n"
     ]
    }
   ],
   "source": [
    "from sklearn.experimental import enable_halving_search_cv\n",
    "from sklearn.model_selection import HalvingGridSearchCV\n",
    "\n",
    "# parameters to use in the grid search\n",
    "params = {\n",
    "    'max_depth': range(10, 20),\n",
    "    'n_estimators': [10, 50, 100, 150, 200],\n",
    "}\n",
    "\n",
    "rf_grid = HalvingGridSearchCV(\n",
    "    rf_top,\n",
    "    params,\n",
    "    cv=5,\n",
    "    scoring='accuracy',\n",
    "    verbose=1,\n",
    "    return_train_score=True,\n",
    "    n_jobs=-1\n",
    ")\n",
    "\n",
    "rf_grid.fit(X_train_top, y_train_top)\n",
    "\n",
    "print(\"\\nGrid Search Best Params:\", rf_grid.best_params_)"
   ]
  },
  {
   "cell_type": "code",
   "execution_count": 21,
   "id": "1cd681d1",
   "metadata": {
    "_cell_guid": "f7874f10-3880-43e7-b935-e9c86cb7209b",
    "_uuid": "fad26c4d-9b02-43e2-9826-71f88d79d7b8",
    "collapsed": false,
    "execution": {
     "iopub.execute_input": "2025-01-19T17:37:11.526064Z",
     "iopub.status.busy": "2025-01-19T17:37:11.525628Z",
     "iopub.status.idle": "2025-01-19T17:37:17.428189Z",
     "shell.execute_reply": "2025-01-19T17:37:17.426866Z"
    },
    "jupyter": {
     "outputs_hidden": false
    },
    "papermill": {
     "duration": 5.922452,
     "end_time": "2025-01-19T17:37:17.430688",
     "exception": false,
     "start_time": "2025-01-19T17:37:11.508236",
     "status": "completed"
    },
    "tags": []
   },
   "outputs": [
    {
     "name": "stdout",
     "output_type": "stream",
     "text": [
      "                precision    recall  f1-score   support\n",
      "\n",
      "        BENIGN     0.9999    1.0000    0.9999     36877\n",
      "RECONNAISSANCE     1.0000    0.9999    0.9999     27257\n",
      "\n",
      "      accuracy                         0.9999     64134\n",
      "     macro avg     0.9999    0.9999    0.9999     64134\n",
      "  weighted avg     0.9999    0.9999    0.9999     64134\n",
      "\n"
     ]
    }
   ],
   "source": [
    "# get the best model found in the grid search\n",
    "rf_best_model = rf_grid.best_estimator_\n",
    "\n",
    "# use it to predict on the test data\n",
    "y_pred_top = rf_best_model.predict(X_test_top)\n",
    "\n",
    "print(classification_report(y_test_top, y_pred_top,digits=4))\n",
    "rf_best_report = classification_report(y_test_top, y_pred_top, digits=4, output_dict=True)"
   ]
  },
  {
   "cell_type": "code",
   "execution_count": 22,
   "id": "3fab5684",
   "metadata": {
    "_cell_guid": "8e5acbad-82cb-4ee4-b967-5786b37ded9c",
    "_uuid": "e62430fe-1a2e-4b68-bcfa-6465aab6c369",
    "collapsed": false,
    "execution": {
     "iopub.execute_input": "2025-01-19T17:37:17.462764Z",
     "iopub.status.busy": "2025-01-19T17:37:17.462368Z",
     "iopub.status.idle": "2025-01-19T17:37:23.941281Z",
     "shell.execute_reply": "2025-01-19T17:37:23.940156Z"
    },
    "jupyter": {
     "outputs_hidden": false
    },
    "papermill": {
     "duration": 6.496852,
     "end_time": "2025-01-19T17:37:23.943280",
     "exception": false,
     "start_time": "2025-01-19T17:37:17.446428",
     "status": "completed"
    },
    "tags": []
   },
   "outputs": [
    {
     "name": "stdout",
     "output_type": "stream",
     "text": [
      "                precision    recall  f1-score   support\n",
      "\n",
      "        BENIGN     0.9998    0.9999    0.9998     36877\n",
      "RECONNAISSANCE     0.9998    0.9997    0.9998     27257\n",
      "\n",
      "      accuracy                         0.9998     64134\n",
      "     macro avg     0.9998    0.9998    0.9998     64134\n",
      "  weighted avg     0.9998    0.9998    0.9998     64134\n",
      "\n"
     ]
    }
   ],
   "source": [
    "from xgboost import XGBClassifier\n",
    "from sklearn.preprocessing import LabelEncoder\n",
    "from sklearn.model_selection import train_test_split\n",
    "from sklearn.metrics import classification_report\n",
    "\n",
    "le = LabelEncoder()\n",
    "y_train_top_encoded = le.fit_transform(y_train_top)\n",
    "y_test_top_encoded = le.transform(y_test_top)\n",
    "\n",
    "xgb_top = XGBClassifier(n_estimators=50, random_state=42)\n",
    "xgb_top.fit(X_train_top, y_train_top_encoded)\n",
    "\n",
    "y_pred_top_xgb = xgb_top.predict(X_test_top)\n",
    "\n",
    "y_pred_top_decoded = le.inverse_transform(y_pred_top_xgb)\n",
    "\n",
    "print(classification_report(y_test_top, y_pred_top_decoded, digits=4))\n",
    "xgb_top_report = classification_report(y_test_top, y_pred_top_decoded, digits=4,output_dict=True)"
   ]
  },
  {
   "cell_type": "code",
   "execution_count": 23,
   "id": "43a26b0f",
   "metadata": {
    "_cell_guid": "0e933a68-58bb-4b80-ae10-4d8b9aef9c09",
    "_uuid": "1bfc8d35-8f3b-468f-a869-7244d7be79d2",
    "collapsed": false,
    "execution": {
     "iopub.execute_input": "2025-01-19T17:37:23.974917Z",
     "iopub.status.busy": "2025-01-19T17:37:23.974454Z",
     "iopub.status.idle": "2025-01-19T17:38:34.627836Z",
     "shell.execute_reply": "2025-01-19T17:38:34.626849Z"
    },
    "jupyter": {
     "outputs_hidden": false
    },
    "papermill": {
     "duration": 70.670898,
     "end_time": "2025-01-19T17:38:34.629803",
     "exception": false,
     "start_time": "2025-01-19T17:37:23.958905",
     "status": "completed"
    },
    "tags": []
   },
   "outputs": [
    {
     "name": "stdout",
     "output_type": "stream",
     "text": [
      "n_iterations: 5\n",
      "n_required_iterations: 5\n",
      "n_possible_iterations: 5\n",
      "min_resources_: 1847\n",
      "max_resources_: 149643\n",
      "aggressive_elimination: False\n",
      "factor: 3\n",
      "----------\n",
      "iter: 0\n",
      "n_candidates: 117\n",
      "n_resources: 1847\n",
      "Fitting 5 folds for each of 117 candidates, totalling 585 fits\n",
      "----------\n",
      "iter: 1\n",
      "n_candidates: 39\n",
      "n_resources: 5541\n",
      "Fitting 5 folds for each of 39 candidates, totalling 195 fits\n",
      "----------\n",
      "iter: 2\n",
      "n_candidates: 13\n",
      "n_resources: 16623\n",
      "Fitting 5 folds for each of 13 candidates, totalling 65 fits\n",
      "----------\n",
      "iter: 3\n",
      "n_candidates: 5\n",
      "n_resources: 49869\n",
      "Fitting 5 folds for each of 5 candidates, totalling 25 fits\n",
      "----------\n",
      "iter: 4\n",
      "n_candidates: 2\n",
      "n_resources: 149607\n",
      "Fitting 5 folds for each of 2 candidates, totalling 10 fits\n",
      "\n",
      "Grid Search Best Params: {'learning_rate': 0.1, 'max_depth': 13, 'n_estimators': 150}\n"
     ]
    }
   ],
   "source": [
    "# Parameters for grid search\n",
    "params = {\n",
    "    'max_depth': range(7, 20),\n",
    "    'n_estimators': [100, 150, 200],\n",
    "    'learning_rate': [0.3, 0.1, 0.01]\n",
    "}\n",
    "\n",
    "xgb_grid = HalvingGridSearchCV(\n",
    "    estimator=xgb_top,\n",
    "    param_grid=params,\n",
    "    cv=5,\n",
    "    scoring='accuracy',\n",
    "    verbose=1,\n",
    "    return_train_score=True,\n",
    "    n_jobs=-1\n",
    ")\n",
    "\n",
    "xgb_grid.fit(X_train_top, y_train_top_encoded)\n",
    "\n",
    "print(\"\\nGrid Search Best Params:\", xgb_grid.best_params_)"
   ]
  },
  {
   "cell_type": "code",
   "execution_count": 24,
   "id": "4d776465",
   "metadata": {
    "_cell_guid": "56033eab-e9f7-463b-b3a1-f9a0e721bd94",
    "_uuid": "e8fbb2f7-39ce-468a-b4f6-cc8bbe15e424",
    "collapsed": false,
    "execution": {
     "iopub.execute_input": "2025-01-19T17:38:34.661975Z",
     "iopub.status.busy": "2025-01-19T17:38:34.661567Z",
     "iopub.status.idle": "2025-01-19T17:38:40.368308Z",
     "shell.execute_reply": "2025-01-19T17:38:40.367292Z"
    },
    "jupyter": {
     "outputs_hidden": false
    },
    "papermill": {
     "duration": 5.725088,
     "end_time": "2025-01-19T17:38:40.370358",
     "exception": false,
     "start_time": "2025-01-19T17:38:34.645270",
     "status": "completed"
    },
    "tags": []
   },
   "outputs": [
    {
     "name": "stdout",
     "output_type": "stream",
     "text": [
      "                precision    recall  f1-score   support\n",
      "\n",
      "        BENIGN     0.9998    1.0000    0.9999     36877\n",
      "RECONNAISSANCE     1.0000    0.9997    0.9999     27257\n",
      "\n",
      "      accuracy                         0.9999     64134\n",
      "     macro avg     0.9999    0.9999    0.9999     64134\n",
      "  weighted avg     0.9999    0.9999    0.9999     64134\n",
      "\n"
     ]
    }
   ],
   "source": [
    "xgb_best_model = xgb_grid.best_estimator_\n",
    "\n",
    "y_pred_top_xgb = xgb_best_model.predict(X_test_top)\n",
    "\n",
    "\n",
    "y_pred_top_decoded = le.inverse_transform(y_pred_top_xgb)\n",
    "y_test_top_decoded = le.inverse_transform(y_test_top_encoded)\n",
    "\n",
    "print(classification_report(y_test_top, y_pred_top_decoded, digits=4))\n",
    "xgb_best_report = classification_report(y_test_top, y_pred_top_decoded, digits=4, output_dict=True)"
   ]
  },
  {
   "cell_type": "code",
   "execution_count": 25,
   "id": "f7a6d13b",
   "metadata": {
    "_cell_guid": "367aa413-15ab-400d-af61-17c53575c404",
    "_uuid": "c4fc9a03-67d1-48c5-bb25-d45bc6eaf8a6",
    "collapsed": false,
    "execution": {
     "iopub.execute_input": "2025-01-19T17:38:40.401439Z",
     "iopub.status.busy": "2025-01-19T17:38:40.401040Z",
     "iopub.status.idle": "2025-01-19T17:38:40.721494Z",
     "shell.execute_reply": "2025-01-19T17:38:40.720451Z"
    },
    "jupyter": {
     "outputs_hidden": false
    },
    "papermill": {
     "duration": 0.338031,
     "end_time": "2025-01-19T17:38:40.723338",
     "exception": false,
     "start_time": "2025-01-19T17:38:40.385307",
     "status": "completed"
    },
    "tags": []
   },
   "outputs": [
    {
     "data": {
      "image/png": "[encoded data removed]",
      "text/plain": [
       "<Figure size 1000x600 with 1 Axes>"
      ]
     },
     "metadata": {},
     "output_type": "display_data"
    }
   ],
   "source": [
    "# put all reports in a list\n",
    "reports = [rf_all_report, rf_top_report, rf_best_report, xgb_top_report, xgb_best_report]\n",
    "\n",
    "model_names = [\"rf_all\", \"rf_top\", \"rf_best\", \"xgb_top\", \"xgb_best\"]\n",
    "# Initialize an empty DataFrame\n",
    "comparison_df = pd.DataFrame(\n",
    "    columns=[\"precision\", \"recall\", \"f1-score\"], \n",
    "    index=model_names\n",
    ")\n",
    "\n",
    "for name, report in zip(model_names, reports):\n",
    "    # 'macro avg' is a key in the dictionary\n",
    "    macro_avg = report[\"weighted avg\"]\n",
    "    comparison_df.loc[name, \"precision\"] = macro_avg[\"precision\"]\n",
    "    comparison_df.loc[name, \"recall\"]    = macro_avg[\"recall\"]\n",
    "    comparison_df.loc[name, \"f1-score\"]  = macro_avg[\"f1-score\"]\n",
    "\n",
    "\n",
    "\n",
    "colors = [rp[\"iris\"], rp[\"gold\"], rp[\"pine\"]]\n",
    "\n",
    "comparison_df.plot.bar(\n",
    "    figsize=(10, 6), \n",
    "    color=colors\n",
    ")\n",
    "plt.title(\"Macro-Average Scores Comparison\")\n",
    "plt.ylabel(\"Score\")\n",
    "plt.ylim([0.98, 1])\n",
    "plt.xticks(rotation=0)\n",
    "plt.legend(loc=\"lower right\")\n",
    "plt.show()"
   ]
  },
  {
   "cell_type": "code",
   "execution_count": 26,
   "id": "0534f9af",
   "metadata": {
    "_cell_guid": "f316851d-6a44-4e85-907e-ce1c6c5d1b34",
    "_uuid": "aec65b0a-0316-43ae-bc33-70eb50d2caff",
    "collapsed": false,
    "execution": {
     "iopub.execute_input": "2025-01-19T17:38:40.756322Z",
     "iopub.status.busy": "2025-01-19T17:38:40.755975Z",
     "iopub.status.idle": "2025-01-19T17:38:41.050030Z",
     "shell.execute_reply": "2025-01-19T17:38:41.048778Z"
    },
    "jupyter": {
     "outputs_hidden": false
    },
    "papermill": {
     "duration": 0.312293,
     "end_time": "2025-01-19T17:38:41.051710",
     "exception": false,
     "start_time": "2025-01-19T17:38:40.739417",
     "status": "completed"
    },
    "tags": []
   },
   "outputs": [
    {
     "data": {
      "image/png": "[encoded data removed]",
      "text/plain": [
       "<Figure size 1000x600 with 1 Axes>"
      ]
     },
     "metadata": {},
     "output_type": "display_data"
    }
   ],
   "source": [
    "# put all reports in a list\n",
    "reports = [rf_all_report, rf_top_report, rf_best_report, xgb_top_report, xgb_best_report]\n",
    "\n",
    "model_names = [\"rf_all\", \"rf_top\", \"rf_best\", \"xgb_top\", \"xgb_best\"]\n",
    "# Initialize an empty DataFrame\n",
    "comparison_df = pd.DataFrame(\n",
    "    columns=[\"precision\", \"recall\", \"f1-score\"], \n",
    "    index=model_names\n",
    ")\n",
    "\n",
    "for name, report in zip(model_names, reports):\n",
    "    # 'macro avg' is a key in the dictionary\n",
    "    macro_avg = report[\"macro avg\"]\n",
    "    comparison_df.loc[name, \"precision\"] = macro_avg[\"precision\"]\n",
    "    comparison_df.loc[name, \"recall\"]    = macro_avg[\"recall\"]\n",
    "    comparison_df.loc[name, \"f1-score\"]  = macro_avg[\"f1-score\"]\n",
    "\n",
    "\n",
    "\n",
    "colors = [rp[\"iris\"], rp[\"gold\"], rp[\"pine\"]]\n",
    "\n",
    "comparison_df.plot.bar(\n",
    "    figsize=(10, 6), \n",
    "    color=colors\n",
    ")\n",
    "plt.title(\"Macro-Average Scores Comparison\")\n",
    "plt.ylabel(\"Score\")\n",
    "plt.ylim([0.65, 1])\n",
    "plt.xticks(rotation=0)\n",
    "plt.legend(loc=\"lower right\")\n",
    "plt.show()"
   ]
  },
  {
   "cell_type": "markdown",
   "id": "eb63360a",
   "metadata": {
    "_cell_guid": "0351ed07-6572-4ea4-bcb6-450aa3524d4d",
    "_uuid": "4a233536-eb13-4f01-b2f5-a4131dd6c342",
    "collapsed": false,
    "jupyter": {
     "outputs_hidden": false
    },
    "papermill": {
     "duration": 0.016056,
     "end_time": "2025-01-19T17:38:41.084766",
     "exception": false,
     "start_time": "2025-01-19T17:38:41.068710",
     "status": "completed"
    },
    "tags": []
   },
   "source": [
    "# Citations\n",
    "Kurniabudi, Deris Stiawan, Darmawijoyo, Mohd Yazid Bin Idris, Alwi M. Bamhdi, and Rahmat Budiarto. “CICIDS-2017 Dataset Feature Analysis With Information Gain for Anomaly Detection.” IEEE Access 8 (2020): 132911–21. https://doi.org/10.1109/ACCESS.2020.3009843."
   ]
  }
 ],
 "metadata": {
  "kaggle": {
   "accelerator": "none",
   "dataSources": [
    {
     "datasetId": 3674161,
     "sourceId": 6376134,
     "sourceType": "datasetVersion"
    }
   ],
   "dockerImageVersionId": 30822,
   "isGpuEnabled": false,
   "isInternetEnabled": true,
   "language": "python",
   "sourceType": "notebook"
  },
  "kernelspec": {
   "display_name": "Python 3",
   "language": "python",
   "name": "python3"
  },
  "language_info": {
   "codemirror_mode": {
    "name": "ipython",
    "version": 3
   },
   "file_extension": ".py",
   "mimetype": "text/x-python",
   "name": "python",
   "nbconvert_exporter": "python",
   "pygments_lexer": "ipython3",
   "version": "3.10.12"
  },
  "papermill": {
   "default_parameters": {},
   "duration": 411.357106,
   "end_time": "2025-01-19T17:38:41.923544",
   "environment_variables": {},
   "exception": null,
   "input_path": "__notebook__.ipynb",
   "output_path": "__notebook__.ipynb",
   "parameters": {},
   "start_time": "2025-01-19T17:31:50.566438",
   "version": "2.6.0"
  }
 },
 "nbformat": 4,
 "nbformat_minor": 5
}
